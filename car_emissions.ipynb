{
 "cells": [
  {
   "cell_type": "markdown",
   "metadata": {
    "colab_type": "text",
    "id": "view-in-github"
   },
   "source": [
    "<a href=\"https://colab.research.google.com/github/francesco-zatto/dia-project/blob/master/car_emissions.ipynb\" target=\"_parent\"><img src=\"https://colab.research.google.com/assets/colab-badge.svg\" alt=\"Open In Colab\"/></a>"
   ]
  },
  {
   "cell_type": "code",
   "execution_count": 1,
   "metadata": {
    "id": "soWzXv-ZniK1"
   },
   "outputs": [],
   "source": [
    "import numpy as np\n",
    "import pandas as pd\n",
    "import matplotlib.pyplot as plt"
   ]
  },
  {
   "cell_type": "code",
   "execution_count": 2,
   "metadata": {
    "id": "_G0GLTGzK4YK"
   },
   "outputs": [],
   "source": [
    "import os.path\n",
    "from urllib.request import urlretrieve\n",
    "\n",
    "DATASETS = {\n",
    "    \"car_emissions_spain2022.csv\": \"https://raw.githubusercontent.com/pietroolivi/dia-datasets/main/car_emissions_spain2022.csv\",\n",
    "    \"car_emissions_canada2014.csv\": \"https://raw.githubusercontent.com/pietroolivi/dia-datasets/main/car_emissions_canada2014/car_emissions_canada2014.csv\",\n",
    "    \"car_emissions_uk2013.csv\": \"https://raw.githubusercontent.com/pietroolivi/dia-datasets/main/car_emissions_uk2013.csv\"\n",
    "}\n",
    "\n",
    "for filename, dataset in DATASETS.items():\n",
    "    if not os.path.exists(filename):\n",
    "      urlretrieve(dataset, filename)"
   ]
  },
  {
   "cell_type": "code",
   "execution_count": 3,
   "metadata": {
    "colab": {
     "base_uri": "https://localhost:8080/",
     "height": 377
    },
    "id": "V--ZSglqSBnO",
    "outputId": "ef45bb19-1ad2-4f27-e8b5-ec8acf36c6d1"
   },
   "outputs": [
    {
     "data": {
      "text/html": [
       "<div>\n",
       "<style scoped>\n",
       "    .dataframe tbody tr th:only-of-type {\n",
       "        vertical-align: middle;\n",
       "    }\n",
       "\n",
       "    .dataframe tbody tr th {\n",
       "        vertical-align: top;\n",
       "    }\n",
       "\n",
       "    .dataframe thead th {\n",
       "        text-align: right;\n",
       "    }\n",
       "</style>\n",
       "<table border=\"1\" class=\"dataframe\">\n",
       "  <thead>\n",
       "    <tr style=\"text-align: right;\">\n",
       "      <th></th>\n",
       "      <th>id</th>\n",
       "      <th>make</th>\n",
       "      <th>model</th>\n",
       "      <th>market_segment</th>\n",
       "      <th>engine_type</th>\n",
       "      <th>consumption_min_l_100km</th>\n",
       "      <th>consumption_max_l_100km</th>\n",
       "      <th>emissions_min_gCO2_km</th>\n",
       "      <th>emissions_max_gCO2_km</th>\n",
       "      <th>transmission</th>\n",
       "      <th>...</th>\n",
       "      <th>avg_wltp_emissions_gCO2_km</th>\n",
       "      <th>length_mm</th>\n",
       "      <th>width_mm</th>\n",
       "      <th>height_mm</th>\n",
       "      <th>gross_vehicle_weight_rating_kg</th>\n",
       "      <th>total_seating</th>\n",
       "      <th>fuel_economy_index</th>\n",
       "      <th>type_hybrid</th>\n",
       "      <th>electric_consumption_kwh_100km</th>\n",
       "      <th>battery_capacity_kwh</th>\n",
       "    </tr>\n",
       "  </thead>\n",
       "  <tbody>\n",
       "    <tr>\n",
       "      <th>0</th>\n",
       "      <td>551266</td>\n",
       "      <td>AIWAYS</td>\n",
       "      <td>AIWAYS U5 MAS861-WVTA/2WB/FL4</td>\n",
       "      <td>Berlinas-Familiares Medios</td>\n",
       "      <td>Eléctricos puros</td>\n",
       "      <td>NaN</td>\n",
       "      <td>NaN</td>\n",
       "      <td>NaN</td>\n",
       "      <td>NaN</td>\n",
       "      <td>A</td>\n",
       "      <td>...</td>\n",
       "      <td>0.0</td>\n",
       "      <td>4680</td>\n",
       "      <td>1865</td>\n",
       "      <td>1700</td>\n",
       "      <td>2135</td>\n",
       "      <td>5</td>\n",
       "      <td>Sin clasificación</td>\n",
       "      <td>NaN</td>\n",
       "      <td>15.75</td>\n",
       "      <td>63.0</td>\n",
       "    </tr>\n",
       "    <tr>\n",
       "      <th>1</th>\n",
       "      <td>579684</td>\n",
       "      <td>AIWAYS</td>\n",
       "      <td>AIWAYS U6 PRIME</td>\n",
       "      <td>Berlinas-Familiares Grandes</td>\n",
       "      <td>Eléctricos puros</td>\n",
       "      <td>NaN</td>\n",
       "      <td>NaN</td>\n",
       "      <td>NaN</td>\n",
       "      <td>NaN</td>\n",
       "      <td>A</td>\n",
       "      <td>...</td>\n",
       "      <td>0.0</td>\n",
       "      <td>4805</td>\n",
       "      <td>1880</td>\n",
       "      <td>1641</td>\n",
       "      <td>2290</td>\n",
       "      <td>5</td>\n",
       "      <td>Sin clasificación</td>\n",
       "      <td>NaN</td>\n",
       "      <td>16.00</td>\n",
       "      <td>63.0</td>\n",
       "    </tr>\n",
       "    <tr>\n",
       "      <th>2</th>\n",
       "      <td>464453</td>\n",
       "      <td>ALKE</td>\n",
       "      <td>ALKE ATX 310 E plomo acido</td>\n",
       "      <td>Chasis-Cabina Pequeño</td>\n",
       "      <td>Eléctricos puros</td>\n",
       "      <td>NaN</td>\n",
       "      <td>NaN</td>\n",
       "      <td>NaN</td>\n",
       "      <td>NaN</td>\n",
       "      <td>SC</td>\n",
       "      <td>...</td>\n",
       "      <td>0.0</td>\n",
       "      <td>3030</td>\n",
       "      <td>1500</td>\n",
       "      <td>2000</td>\n",
       "      <td>1510</td>\n",
       "      <td>2</td>\n",
       "      <td>Sin clasificación</td>\n",
       "      <td>NaN</td>\n",
       "      <td>11.00</td>\n",
       "      <td>10.0</td>\n",
       "    </tr>\n",
       "    <tr>\n",
       "      <th>3</th>\n",
       "      <td>464454</td>\n",
       "      <td>ALKE</td>\n",
       "      <td>ALKE ATX 320 E plomo acido</td>\n",
       "      <td>Chasis-Cabina Pequeño</td>\n",
       "      <td>Eléctricos puros</td>\n",
       "      <td>NaN</td>\n",
       "      <td>NaN</td>\n",
       "      <td>NaN</td>\n",
       "      <td>NaN</td>\n",
       "      <td>SC</td>\n",
       "      <td>...</td>\n",
       "      <td>0.0</td>\n",
       "      <td>3850</td>\n",
       "      <td>1500</td>\n",
       "      <td>2000</td>\n",
       "      <td>1510</td>\n",
       "      <td>2</td>\n",
       "      <td>Sin clasificación</td>\n",
       "      <td>NaN</td>\n",
       "      <td>11.00</td>\n",
       "      <td>10.0</td>\n",
       "    </tr>\n",
       "    <tr>\n",
       "      <th>4</th>\n",
       "      <td>464455</td>\n",
       "      <td>ALKE</td>\n",
       "      <td>ALKE ATX 330 E plomo acido</td>\n",
       "      <td>Chasis-Cabina Pequeño</td>\n",
       "      <td>Eléctricos puros</td>\n",
       "      <td>NaN</td>\n",
       "      <td>NaN</td>\n",
       "      <td>NaN</td>\n",
       "      <td>NaN</td>\n",
       "      <td>SC</td>\n",
       "      <td>...</td>\n",
       "      <td>0.0</td>\n",
       "      <td>3850</td>\n",
       "      <td>1500</td>\n",
       "      <td>2000</td>\n",
       "      <td>1510</td>\n",
       "      <td>2</td>\n",
       "      <td>Sin clasificación</td>\n",
       "      <td>NaN</td>\n",
       "      <td>11.00</td>\n",
       "      <td>10.0</td>\n",
       "    </tr>\n",
       "  </tbody>\n",
       "</table>\n",
       "<p>5 rows × 26 columns</p>\n",
       "</div>"
      ],
      "text/plain": [
       "       id    make                          model               market_segment  \\\n",
       "0  551266  AIWAYS  AIWAYS U5 MAS861-WVTA/2WB/FL4   Berlinas-Familiares Medios   \n",
       "1  579684  AIWAYS                AIWAYS U6 PRIME  Berlinas-Familiares Grandes   \n",
       "2  464453    ALKE     ALKE ATX 310 E plomo acido        Chasis-Cabina Pequeño   \n",
       "3  464454    ALKE     ALKE ATX 320 E plomo acido        Chasis-Cabina Pequeño   \n",
       "4  464455    ALKE     ALKE ATX 330 E plomo acido        Chasis-Cabina Pequeño   \n",
       "\n",
       "        engine_type  consumption_min_l_100km  consumption_max_l_100km  \\\n",
       "0  Eléctricos puros                      NaN                      NaN   \n",
       "1  Eléctricos puros                      NaN                      NaN   \n",
       "2  Eléctricos puros                      NaN                      NaN   \n",
       "3  Eléctricos puros                      NaN                      NaN   \n",
       "4  Eléctricos puros                      NaN                      NaN   \n",
       "\n",
       "   emissions_min_gCO2_km  emissions_max_gCO2_km transmission  ...  \\\n",
       "0                    NaN                    NaN            A  ...   \n",
       "1                    NaN                    NaN            A  ...   \n",
       "2                    NaN                    NaN           SC  ...   \n",
       "3                    NaN                    NaN           SC  ...   \n",
       "4                    NaN                    NaN           SC  ...   \n",
       "\n",
       "   avg_wltp_emissions_gCO2_km  length_mm  width_mm  height_mm  \\\n",
       "0                         0.0       4680      1865       1700   \n",
       "1                         0.0       4805      1880       1641   \n",
       "2                         0.0       3030      1500       2000   \n",
       "3                         0.0       3850      1500       2000   \n",
       "4                         0.0       3850      1500       2000   \n",
       "\n",
       "   gross_vehicle_weight_rating_kg  total_seating  fuel_economy_index  \\\n",
       "0                            2135              5   Sin clasificación   \n",
       "1                            2290              5   Sin clasificación   \n",
       "2                            1510              2   Sin clasificación   \n",
       "3                            1510              2   Sin clasificación   \n",
       "4                            1510              2   Sin clasificación   \n",
       "\n",
       "   type_hybrid  electric_consumption_kwh_100km  battery_capacity_kwh  \n",
       "0          NaN                           15.75                  63.0  \n",
       "1          NaN                           16.00                  63.0  \n",
       "2          NaN                           11.00                  10.0  \n",
       "3          NaN                           11.00                  10.0  \n",
       "4          NaN                           11.00                  10.0  \n",
       "\n",
       "[5 rows x 26 columns]"
      ]
     },
     "execution_count": 3,
     "metadata": {},
     "output_type": "execute_result"
    }
   ],
   "source": [
    "spain_emissions = pd.read_csv(\"car_emissions_spain2022.csv\")\n",
    "spain_emissions.head(5)"
   ]
  },
  {
   "cell_type": "code",
   "execution_count": 4,
   "metadata": {
    "colab": {
     "base_uri": "https://localhost:8080/",
     "height": 258
    },
    "id": "v1eqQSaVSBSI",
    "outputId": "c512c545-22f1-43fd-d452-db8cfa32a414"
   },
   "outputs": [
    {
     "data": {
      "text/html": [
       "<div>\n",
       "<style scoped>\n",
       "    .dataframe tbody tr th:only-of-type {\n",
       "        vertical-align: middle;\n",
       "    }\n",
       "\n",
       "    .dataframe tbody tr th {\n",
       "        vertical-align: top;\n",
       "    }\n",
       "\n",
       "    .dataframe thead th {\n",
       "        text-align: right;\n",
       "    }\n",
       "</style>\n",
       "<table border=\"1\" class=\"dataframe\">\n",
       "  <thead>\n",
       "    <tr style=\"text-align: right;\">\n",
       "      <th></th>\n",
       "      <th>_id</th>\n",
       "      <th>Model year</th>\n",
       "      <th>Make</th>\n",
       "      <th>Model</th>\n",
       "      <th>Vehicle class</th>\n",
       "      <th>Engine size (L)</th>\n",
       "      <th>Cylinders</th>\n",
       "      <th>Transmission</th>\n",
       "      <th>Fuel type</th>\n",
       "      <th>City (L/100 km)</th>\n",
       "      <th>Highway (L/100 km)</th>\n",
       "      <th>Combined (L/100 km)</th>\n",
       "      <th>Combined (mpg)</th>\n",
       "      <th>CO2 emissions (g/km)</th>\n",
       "    </tr>\n",
       "  </thead>\n",
       "  <tbody>\n",
       "    <tr>\n",
       "      <th>0</th>\n",
       "      <td>1</td>\n",
       "      <td>1995</td>\n",
       "      <td>Acura</td>\n",
       "      <td>Integra</td>\n",
       "      <td>Subcompact</td>\n",
       "      <td>1.8</td>\n",
       "      <td>4</td>\n",
       "      <td>A4</td>\n",
       "      <td>X</td>\n",
       "      <td>10.2</td>\n",
       "      <td>7.0</td>\n",
       "      <td>8.8</td>\n",
       "      <td>32</td>\n",
       "      <td>202</td>\n",
       "    </tr>\n",
       "    <tr>\n",
       "      <th>1</th>\n",
       "      <td>2</td>\n",
       "      <td>1995</td>\n",
       "      <td>Acura</td>\n",
       "      <td>Integra</td>\n",
       "      <td>Subcompact</td>\n",
       "      <td>1.8</td>\n",
       "      <td>4</td>\n",
       "      <td>M5</td>\n",
       "      <td>X</td>\n",
       "      <td>9.6</td>\n",
       "      <td>7.0</td>\n",
       "      <td>8.4</td>\n",
       "      <td>34</td>\n",
       "      <td>193</td>\n",
       "    </tr>\n",
       "    <tr>\n",
       "      <th>2</th>\n",
       "      <td>3</td>\n",
       "      <td>1995</td>\n",
       "      <td>Acura</td>\n",
       "      <td>Integra GS-R</td>\n",
       "      <td>Subcompact</td>\n",
       "      <td>1.8</td>\n",
       "      <td>4</td>\n",
       "      <td>M5</td>\n",
       "      <td>Z</td>\n",
       "      <td>9.4</td>\n",
       "      <td>7.0</td>\n",
       "      <td>8.3</td>\n",
       "      <td>34</td>\n",
       "      <td>191</td>\n",
       "    </tr>\n",
       "    <tr>\n",
       "      <th>3</th>\n",
       "      <td>4</td>\n",
       "      <td>1995</td>\n",
       "      <td>Acura</td>\n",
       "      <td>Legend</td>\n",
       "      <td>Compact</td>\n",
       "      <td>3.2</td>\n",
       "      <td>6</td>\n",
       "      <td>A4</td>\n",
       "      <td>Z</td>\n",
       "      <td>12.6</td>\n",
       "      <td>8.9</td>\n",
       "      <td>10.9</td>\n",
       "      <td>26</td>\n",
       "      <td>251</td>\n",
       "    </tr>\n",
       "    <tr>\n",
       "      <th>4</th>\n",
       "      <td>5</td>\n",
       "      <td>1995</td>\n",
       "      <td>Acura</td>\n",
       "      <td>Legend Coupe</td>\n",
       "      <td>Compact</td>\n",
       "      <td>3.2</td>\n",
       "      <td>6</td>\n",
       "      <td>A4</td>\n",
       "      <td>Z</td>\n",
       "      <td>13.0</td>\n",
       "      <td>9.3</td>\n",
       "      <td>11.3</td>\n",
       "      <td>25</td>\n",
       "      <td>260</td>\n",
       "    </tr>\n",
       "  </tbody>\n",
       "</table>\n",
       "</div>"
      ],
      "text/plain": [
       "   _id  Model year   Make         Model Vehicle class  Engine size (L)  \\\n",
       "0    1        1995  Acura       Integra    Subcompact              1.8   \n",
       "1    2        1995  Acura       Integra    Subcompact              1.8   \n",
       "2    3        1995  Acura  Integra GS-R    Subcompact              1.8   \n",
       "3    4        1995  Acura        Legend       Compact              3.2   \n",
       "4    5        1995  Acura  Legend Coupe       Compact              3.2   \n",
       "\n",
       "   Cylinders Transmission Fuel type  City (L/100 km)  Highway (L/100 km)  \\\n",
       "0          4           A4         X             10.2                 7.0   \n",
       "1          4           M5         X              9.6                 7.0   \n",
       "2          4           M5         Z              9.4                 7.0   \n",
       "3          6           A4         Z             12.6                 8.9   \n",
       "4          6           A4         Z             13.0                 9.3   \n",
       "\n",
       "   Combined (L/100 km)  Combined (mpg)  CO2 emissions (g/km)  \n",
       "0                  8.8              32                   202  \n",
       "1                  8.4              34                   193  \n",
       "2                  8.3              34                   191  \n",
       "3                 10.9              26                   251  \n",
       "4                 11.3              25                   260  "
      ]
     },
     "execution_count": 4,
     "metadata": {},
     "output_type": "execute_result"
    }
   ],
   "source": [
    "canada_emissions = pd.read_csv(\"car_emissions_canada2014.csv\")\n",
    "canada_emissions.head(5)"
   ]
  },
  {
   "cell_type": "code",
   "execution_count": 5,
   "metadata": {
    "colab": {
     "base_uri": "https://localhost:8080/",
     "height": 377
    },
    "id": "WeugoMUnLhQb",
    "outputId": "e1ed2626-fca4-41af-9051-4072091f1d5e"
   },
   "outputs": [
    {
     "name": "stderr",
     "output_type": "stream",
     "text": [
      "C:\\Users\\franc\\AppData\\Local\\Temp\\ipykernel_7756\\3678210660.py:1: DtypeWarning: Columns (6,30) have mixed types. Specify dtype option on import or set low_memory=False.\n",
      "  uk_emissions = pd.read_csv(\"car_emissions_uk2013.csv\")\n"
     ]
    },
    {
     "data": {
      "text/html": [
       "<div>\n",
       "<style scoped>\n",
       "    .dataframe tbody tr th:only-of-type {\n",
       "        vertical-align: middle;\n",
       "    }\n",
       "\n",
       "    .dataframe tbody tr th {\n",
       "        vertical-align: top;\n",
       "    }\n",
       "\n",
       "    .dataframe thead th {\n",
       "        text-align: right;\n",
       "    }\n",
       "</style>\n",
       "<table border=\"1\" class=\"dataframe\">\n",
       "  <thead>\n",
       "    <tr style=\"text-align: right;\">\n",
       "      <th></th>\n",
       "      <th>file</th>\n",
       "      <th>year</th>\n",
       "      <th>manufacturer</th>\n",
       "      <th>model</th>\n",
       "      <th>description</th>\n",
       "      <th>euro_standard</th>\n",
       "      <th>tax_band</th>\n",
       "      <th>transmission</th>\n",
       "      <th>transmission_type</th>\n",
       "      <th>engine_capacity</th>\n",
       "      <th>...</th>\n",
       "      <th>nox_emissions</th>\n",
       "      <th>thc_nox_emissions</th>\n",
       "      <th>particulates_emissions</th>\n",
       "      <th>fuel_cost_12000_miles</th>\n",
       "      <th>fuel_cost_6000_miles</th>\n",
       "      <th>standard_12_months</th>\n",
       "      <th>standard_6_months</th>\n",
       "      <th>first_year_12_months</th>\n",
       "      <th>first_year_6_months</th>\n",
       "      <th>date_of_change</th>\n",
       "    </tr>\n",
       "  </thead>\n",
       "  <tbody>\n",
       "    <tr>\n",
       "      <th>0</th>\n",
       "      <td>DatapartC_july2000.csv</td>\n",
       "      <td>2000</td>\n",
       "      <td>Alfa Romeo</td>\n",
       "      <td>145 Range</td>\n",
       "      <td>1.6 Twin Spark 16v</td>\n",
       "      <td>2</td>\n",
       "      <td>NaN</td>\n",
       "      <td>M5</td>\n",
       "      <td>Manual</td>\n",
       "      <td>1598.0</td>\n",
       "      <td>...</td>\n",
       "      <td>NaN</td>\n",
       "      <td>NaN</td>\n",
       "      <td>NaN</td>\n",
       "      <td>NaN</td>\n",
       "      <td>618.0</td>\n",
       "      <td>NaN</td>\n",
       "      <td>NaN</td>\n",
       "      <td>NaN</td>\n",
       "      <td>NaN</td>\n",
       "      <td>NaN</td>\n",
       "    </tr>\n",
       "    <tr>\n",
       "      <th>1</th>\n",
       "      <td>DatapartC_july2000.csv</td>\n",
       "      <td>2000</td>\n",
       "      <td>Alfa Romeo</td>\n",
       "      <td>145 Range</td>\n",
       "      <td>1.8 Twin Spark 16v</td>\n",
       "      <td>2</td>\n",
       "      <td>NaN</td>\n",
       "      <td>M5</td>\n",
       "      <td>Manual</td>\n",
       "      <td>1747.0</td>\n",
       "      <td>...</td>\n",
       "      <td>NaN</td>\n",
       "      <td>NaN</td>\n",
       "      <td>NaN</td>\n",
       "      <td>NaN</td>\n",
       "      <td>633.0</td>\n",
       "      <td>NaN</td>\n",
       "      <td>NaN</td>\n",
       "      <td>NaN</td>\n",
       "      <td>NaN</td>\n",
       "      <td>NaN</td>\n",
       "    </tr>\n",
       "    <tr>\n",
       "      <th>2</th>\n",
       "      <td>DatapartC_july2000.csv</td>\n",
       "      <td>2000</td>\n",
       "      <td>Alfa Romeo</td>\n",
       "      <td>145 Range</td>\n",
       "      <td>Cloverleaf</td>\n",
       "      <td>2</td>\n",
       "      <td>NaN</td>\n",
       "      <td>M5</td>\n",
       "      <td>Manual</td>\n",
       "      <td>1970.0</td>\n",
       "      <td>...</td>\n",
       "      <td>NaN</td>\n",
       "      <td>NaN</td>\n",
       "      <td>NaN</td>\n",
       "      <td>NaN</td>\n",
       "      <td>663.0</td>\n",
       "      <td>NaN</td>\n",
       "      <td>NaN</td>\n",
       "      <td>NaN</td>\n",
       "      <td>NaN</td>\n",
       "      <td>NaN</td>\n",
       "    </tr>\n",
       "    <tr>\n",
       "      <th>3</th>\n",
       "      <td>DatapartC_july2000.csv</td>\n",
       "      <td>2000</td>\n",
       "      <td>Alfa Romeo</td>\n",
       "      <td>146 Range</td>\n",
       "      <td>1.6 Twin Spark 16v</td>\n",
       "      <td>2</td>\n",
       "      <td>NaN</td>\n",
       "      <td>M5</td>\n",
       "      <td>Manual</td>\n",
       "      <td>1598.0</td>\n",
       "      <td>...</td>\n",
       "      <td>NaN</td>\n",
       "      <td>NaN</td>\n",
       "      <td>NaN</td>\n",
       "      <td>NaN</td>\n",
       "      <td>626.0</td>\n",
       "      <td>NaN</td>\n",
       "      <td>NaN</td>\n",
       "      <td>NaN</td>\n",
       "      <td>NaN</td>\n",
       "      <td>NaN</td>\n",
       "    </tr>\n",
       "    <tr>\n",
       "      <th>4</th>\n",
       "      <td>DatapartC_july2000.csv</td>\n",
       "      <td>2000</td>\n",
       "      <td>Alfa Romeo</td>\n",
       "      <td>146 Range</td>\n",
       "      <td>1.8 Twin Spark 16v</td>\n",
       "      <td>2</td>\n",
       "      <td>NaN</td>\n",
       "      <td>M5</td>\n",
       "      <td>Manual</td>\n",
       "      <td>1747.0</td>\n",
       "      <td>...</td>\n",
       "      <td>NaN</td>\n",
       "      <td>NaN</td>\n",
       "      <td>NaN</td>\n",
       "      <td>NaN</td>\n",
       "      <td>633.0</td>\n",
       "      <td>NaN</td>\n",
       "      <td>NaN</td>\n",
       "      <td>NaN</td>\n",
       "      <td>NaN</td>\n",
       "      <td>NaN</td>\n",
       "    </tr>\n",
       "  </tbody>\n",
       "</table>\n",
       "<p>5 rows × 31 columns</p>\n",
       "</div>"
      ],
      "text/plain": [
       "                     file  year manufacturer      model         description  \\\n",
       "0  DatapartC_july2000.csv  2000   Alfa Romeo  145 Range  1.6 Twin Spark 16v   \n",
       "1  DatapartC_july2000.csv  2000   Alfa Romeo  145 Range  1.8 Twin Spark 16v   \n",
       "2  DatapartC_july2000.csv  2000   Alfa Romeo  145 Range          Cloverleaf   \n",
       "3  DatapartC_july2000.csv  2000   Alfa Romeo  146 Range  1.6 Twin Spark 16v   \n",
       "4  DatapartC_july2000.csv  2000   Alfa Romeo  146 Range  1.8 Twin Spark 16v   \n",
       "\n",
       "   euro_standard tax_band transmission transmission_type  engine_capacity  \\\n",
       "0              2      NaN           M5            Manual           1598.0   \n",
       "1              2      NaN           M5            Manual           1747.0   \n",
       "2              2      NaN           M5            Manual           1970.0   \n",
       "3              2      NaN           M5            Manual           1598.0   \n",
       "4              2      NaN           M5            Manual           1747.0   \n",
       "\n",
       "   ... nox_emissions  thc_nox_emissions  particulates_emissions  \\\n",
       "0  ...           NaN                NaN                     NaN   \n",
       "1  ...           NaN                NaN                     NaN   \n",
       "2  ...           NaN                NaN                     NaN   \n",
       "3  ...           NaN                NaN                     NaN   \n",
       "4  ...           NaN                NaN                     NaN   \n",
       "\n",
       "   fuel_cost_12000_miles  fuel_cost_6000_miles  standard_12_months  \\\n",
       "0                    NaN                 618.0                 NaN   \n",
       "1                    NaN                 633.0                 NaN   \n",
       "2                    NaN                 663.0                 NaN   \n",
       "3                    NaN                 626.0                 NaN   \n",
       "4                    NaN                 633.0                 NaN   \n",
       "\n",
       "   standard_6_months  first_year_12_months  first_year_6_months  \\\n",
       "0                NaN                   NaN                  NaN   \n",
       "1                NaN                   NaN                  NaN   \n",
       "2                NaN                   NaN                  NaN   \n",
       "3                NaN                   NaN                  NaN   \n",
       "4                NaN                   NaN                  NaN   \n",
       "\n",
       "   date_of_change  \n",
       "0             NaN  \n",
       "1             NaN  \n",
       "2             NaN  \n",
       "3             NaN  \n",
       "4             NaN  \n",
       "\n",
       "[5 rows x 31 columns]"
      ]
     },
     "execution_count": 5,
     "metadata": {},
     "output_type": "execute_result"
    }
   ],
   "source": [
    "uk_emissions = pd.read_csv(\"car_emissions_uk2013.csv\")\n",
    "uk_emissions.head(5)"
   ]
  },
  {
   "cell_type": "markdown",
   "metadata": {
    "id": "t-RXbQ6GTCu3"
   },
   "source": [
    "# **Esplorazione dei singoli dataset**"
   ]
  },
  {
   "cell_type": "markdown",
   "metadata": {},
   "source": [
    "## Esplorazione del dataset `spain_emissions`"
   ]
  },
  {
   "cell_type": "markdown",
   "metadata": {
    "id": "b4ytHD44Vng_"
   },
   "source": [
    "### Rimozione delle righe riguardanti veicoli elettrici\n",
    "\n",
    "All'interno del dataset proveniente dal ministero spagnolo sono presenti anche dati riguardanti macchine elettriche. Questa tipologia di dato non è interessante per l'obiettivo del modello, ovvero la quantità di CO2 emessa.\n",
    "\n",
    "La cella seguente analizza i valori delle righe che hanno `engine_type` \"Eléctricos puros\", estraendo solo le colonne sul minimo e massimo di consumo di litri di carburante e sul minimio e massimo di emissioni di CO2 per km percorso."
   ]
  },
  {
   "cell_type": "code",
   "execution_count": 6,
   "metadata": {
    "colab": {
     "base_uri": "https://localhost:8080/"
    },
    "id": "4dBbENl8YDCh",
    "outputId": "530df867-0e02-46a3-bf20-fe99899b95e0"
   },
   "outputs": [
    {
     "data": {
      "text/plain": [
       "emissions_min_gCO2_km    True\n",
       "emissions_max_gCO2_km    True\n",
       "dtype: bool"
      ]
     },
     "execution_count": 6,
     "metadata": {},
     "output_type": "execute_result"
    }
   ],
   "source": [
    "columns = [\"emissions_min_gCO2_km\", \"emissions_max_gCO2_km\"]\n",
    "spain_emissions.loc[spain_emissions[\"engine_type\"] == \"Eléctricos puros\", columns].isna().all()"
   ]
  },
  {
   "cell_type": "markdown",
   "metadata": {
    "id": "Sm9sZvHQZPNm"
   },
   "source": [
    "Come era previdibile, tutti i valori delle emissioni di CO2 per km nelle righe riguardanti i veicoli elettrici sono mancanti, quindi le rispettive righe possono essere eliminate, poichè non utili per l'addestramento del modello, il cui obiettivo è la previsione dell'emissione di C02 per veicoli a motore termico."
   ]
  },
  {
   "cell_type": "code",
   "execution_count": 7,
   "metadata": {
    "id": "a2z_hiy2aFIx"
   },
   "outputs": [
    {
     "data": {
      "text/plain": [
       "array(['Gasolina', 'Gasóleo', 'Híbridos enchufables',\n",
       "       'Híbridos de gasolina', 'Gas natural', 'Híbridos de gasóleo',\n",
       "       'Gases licuados del petróleo (GLP)', 'Pila de combustible',\n",
       "       'Autonomía extendida'], dtype=object)"
      ]
     },
     "execution_count": 7,
     "metadata": {},
     "output_type": "execute_result"
    }
   ],
   "source": [
    "electric_cars_index = spain_emissions.loc[spain_emissions[\"engine_type\"] == \"Eléctricos puros\"].index\n",
    "spain_emissions = spain_emissions.drop(electric_cars_index)\n",
    "spain_emissions[\"engine_type\"].unique()"
   ]
  },
  {
   "cell_type": "markdown",
   "metadata": {},
   "source": [
    "Come si può notare dall'output della cella precedente, la colonna `engine_type` non contiene il valore \"Eléctricos puros\"."
   ]
  },
  {
   "cell_type": "markdown",
   "metadata": {},
   "source": [
    "### Traduzione spagnolo-inglese \n",
    "Un'altra elaborazione necessaria è una traduzione dallo spagnolo all'inglese sia per questa colonna, che per la colonna della classificazione delle auto, ovvero `market_segment`."
   ]
  },
  {
   "cell_type": "markdown",
   "metadata": {},
   "source": [
    "Definisco una funzione per sostituire i valori di una colonna di un dataframe con dei nuovi valori passati come argomento, in questo caso la rispettiva traduzione in inglese, tramite una funzione di mapping fornita da pandas."
   ]
  },
  {
   "cell_type": "code",
   "execution_count": 8,
   "metadata": {},
   "outputs": [],
   "source": [
    "def get_column_mapped_values(column, new_values):\n",
    "    mapping = dict(zip(column.unique(), new_values))\n",
    "    return column.map(mapping)"
   ]
  },
  {
   "cell_type": "code",
   "execution_count": 9,
   "metadata": {},
   "outputs": [],
   "source": [
    "#Traduzione della colonna engine_type\n",
    "spanish_engine_type = spain_emissions[\"engine_type\"].unique()\n",
    "english_engine_type = [\"Petrol\", \"Diesel\", \"Plug-in hybrid\", \"Petrol hybrid\", \"Natural gas\", \n",
    "                       \"Diesel Hybrid\", \"Liquefied petroleum gas(LPG)\", \"Fuel cell\", \"Extended range\"]\n",
    "\n",
    "spain_emissions[\"engine_type\"] = get_column_mapped_values(spain_emissions[\"engine_type\"], english_engine_type)"
   ]
  },
  {
   "cell_type": "markdown",
   "metadata": {},
   "source": [
    "Per la traduzione della colonna `market_segment` si fa riferimento al dataset canadese, il quale contiene una colonna per la classificazione dei veicoli, `Vehicle_class`."
   ]
  },
  {
   "cell_type": "code",
   "execution_count": 10,
   "metadata": {},
   "outputs": [
    {
     "data": {
      "text/plain": [
       "array(['Subcompact', 'Compact', 'Two-seater', 'Station wagon: Small',\n",
       "       'Minicompact', 'Mid-size', 'Full-size', 'Station wagon: Mid-size',\n",
       "       'Van: Cargo', 'Van: Passenger', 'Pickup truck: Standard',\n",
       "       'Sport utility vehicle', 'Minivan', 'Pickup truck: Small',\n",
       "       'Special purpose vehicle', 'Sport utility vehicle: Small',\n",
       "       'Sport utility vehicle: Standard'], dtype=object)"
      ]
     },
     "execution_count": 10,
     "metadata": {},
     "output_type": "execute_result"
    }
   ],
   "source": [
    "canada_emissions[\"Vehicle class\"].unique()"
   ]
  },
  {
   "cell_type": "code",
   "execution_count": 11,
   "metadata": {},
   "outputs": [],
   "source": [
    "#Traduzione della colonna market_segment\n",
    "english_market_segment = [\"Minicompact\", \"Compact\", \"Small off-road\", \"Mid-size\", \"Sport utility vehicle\", \"Full-size\", \n",
    "                          \"Mid-size off-road\", \"Full-size off-road\", \"Minivan\", \"Luxury\", \"Minivan\", \"Van: Passenger\"] \\\n",
    "                        + ([\"Van: Cargo\"] * 2) + ([\"Lorry\"] * 7)\n",
    "\n",
    "spain_emissions[\"market_segment\"] = get_column_mapped_values(spain_emissions[\"market_segment\"], english_market_segment)"
   ]
  },
  {
   "cell_type": "markdown",
   "metadata": {
    "id": "S8QP1iTVgNuY"
   },
   "source": [
    "### Calcolo del volume del motore in cm<sup>3</sup>\n",
    "Il dataset contiene tre colonne che rispettivamente indicano le tre dimensioni del motore, ovvero lunghezza, larghezza e altezza in millimetri. Queste tre colonne potrebbero essere delle feature molto importanti per il modello. Quindi è necessario mantenerle nel dataset per motivi di compatibilità con gli altri dataset in una nuova colonna `engine_capacity_cm3`, il volume in centimetri cubi, dato dal prodotto delle tre colonne e convertito successivamente in cm<sup>3</sup>.\n"
   ]
  },
  {
   "cell_type": "code",
   "execution_count": 12,
   "metadata": {
    "colab": {
     "base_uri": "https://localhost:8080/"
    },
    "id": "WhOb6Xx3dLC9",
    "outputId": "d6066574-e7bc-4aa4-ae4c-72c620bd6f4c"
   },
   "outputs": [],
   "source": [
    "spain_emissions[\"engine_capacity_cm3\"] = spain_emissions[\"length_mm\"] * spain_emissions[\"width_mm\"] * spain_emissions[\"height_mm\"]\n",
    "spain_emissions[\"engine_capacity_cm3\"] /= 1000"
   ]
  },
  {
   "cell_type": "markdown",
   "metadata": {},
   "source": [
    "### Rimozione delle colonne contenenti solo valori `NaN`\n",
    "Nel dataset dell'emissioni di CO<sub>2</sub> proveniente dalla Spagna la colonne `type_hybrid`, `electric_consumption_kwh_100km`, `battery_capacity_kwh ` contengono solo valori `NaN`."
   ]
  },
  {
   "cell_type": "code",
   "execution_count": 13,
   "metadata": {},
   "outputs": [
    {
     "data": {
      "text/plain": [
       "True"
      ]
     },
     "execution_count": 13,
     "metadata": {},
     "output_type": "execute_result"
    }
   ],
   "source": [
    "all_nan_columns = [\"type_hybrid\", \"electric_consumption_kwh_100km\", \"battery_capacity_kwh\"]\n",
    "spain_emissions[all_nan_columns].isna().values.all()"
   ]
  },
  {
   "cell_type": "markdown",
   "metadata": {},
   "source": [
    "Quindi possono essere rimosse dal dataset, poiché non sono feature interessanti ed utili per l'addestramento del modello."
   ]
  },
  {
   "cell_type": "code",
   "execution_count": 14,
   "metadata": {},
   "outputs": [],
   "source": [
    "spain_emissions = spain_emissions.drop(all_nan_columns, axis=1)"
   ]
  },
  {
   "cell_type": "markdown",
   "metadata": {},
   "source": [
    "### Grafici \n",
    "Questa sezione contiene alcuni grafici che evidenziano alcuni aspetti del dataframe risulante `spain_emissions`."
   ]
  },
  {
   "cell_type": "code",
   "execution_count": 23,
   "metadata": {},
   "outputs": [
    {
     "data": {
      "image/png": "[encoded data removed]",
      "text/plain": [
       "<Figure size 640x480 with 1 Axes>"
      ]
     },
     "metadata": {},
     "output_type": "display_data"
    }
   ],
   "source": [
    "spain_emissions[\"emissions_max_gCO2_km\"].plot.hist();"
   ]
  },
  {
   "cell_type": "code",
   "execution_count": 24,
   "metadata": {},
   "outputs": [
    {
     "data": {
      "image/png": "[encoded data removed]",
      "text/plain": [
       "<Figure size 640x480 with 1 Axes>"
      ]
     },
     "metadata": {},
     "output_type": "display_data"
    }
   ],
   "source": [
    "spain_emissions[\"consumption_max_l_100km\"].plot.hist();"
   ]
  },
  {
   "cell_type": "code",
   "execution_count": 27,
   "metadata": {},
   "outputs": [
    {
     "data": {
      "image/png": "[encoded data removed]",
      "text/plain": [
       "<Figure size 640x480 with 1 Axes>"
      ]
     },
     "metadata": {},
     "output_type": "display_data"
    }
   ],
   "source": [
    "spain_emissions.plot.scatter(\"consumption_max_l_100km\", \"emissions_max_gCO2_km\");"
   ]
  },
  {
   "cell_type": "markdown",
   "metadata": {
    "id": "1LQEB6jT7pJo"
   },
   "source": [
    "# **Omogeneizzazione ed unione dei dati**\n",
    "Avendo reperito tre set di dati ciascuno da una fonte differente, sebbene questi concernano il medesimo dominio e condividano pertanto una considerevole quantità di attributi,\n",
    "\n",
    "Potremmo essere erroneamente portati a compiere un troncamento delle colonne, conservando esclusivamente quelle appartenenti all'intersezione delle tre tabelle, tuttavia così facendo andremmo a trascurare il caso-limite in cui le features eliminate dovessero essere le uniche legate, attraverso un relazione non randomica, a quella indagata. Una soluzione più scrupolosa consisterebbe, al contrario, nell'unione degli attributi, colmando opportunamente le celle vuote formatesi. In effetti, come visto a lezione, i valori NAN possono essere sostituiti, tra gli altri, da:\n",
    "- media\n",
    "- moda\n",
    "- mediana\n",
    "\n",
    "In aggiunta, le stesse variabili in comune, malgrado facciano riferimento allo stesso concetto, si manifestano talvolta sotto denominazioni diverse, ed a loro volta i valori corrispondenti da queste assunti potrebbero avere formato dissimile (e.g. capitalizzazione delle lettere nel caso testuale o numero di cifre significative in quello numerico).\n",
    "\n",
    "\n",
    "\n",
    "\n",
    "\n"
   ]
  }
 ],
 "metadata": {
  "colab": {
   "include_colab_link": true,
   "provenance": []
  },
  "kernelspec": {
   "display_name": "Python 3 (ipykernel)",
   "language": "python",
   "name": "python3"
  },
  "language_info": {
   "codemirror_mode": {
    "name": "ipython",
    "version": 3
   },
   "file_extension": ".py",
   "mimetype": "text/x-python",
   "name": "python",
   "nbconvert_exporter": "python",
   "pygments_lexer": "ipython3",
   "version": "3.9.13"
  }
 },
 "nbformat": 4,
 "nbformat_minor": 1
}
