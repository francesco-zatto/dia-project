{
 "cells": [
  {
   "cell_type": "markdown",
   "metadata": {
    "colab_type": "text",
    "id": "view-in-github"
   },
   "source": [
    "<a href=\"https://colab.research.google.com/github/francesco-zatto/dia-project/blob/master/car_emissions.ipynb\" target=\"_parent\"><img src=\"https://colab.research.google.com/assets/colab-badge.svg\" alt=\"Open In Colab\"/></a>"
   ]
  },
  {
   "cell_type": "code",
   "execution_count": null,
   "metadata": {
    "id": "soWzXv-ZniK1"
   },
   "outputs": [
    {
     "ename": "",
     "evalue": "",
     "output_type": "error",
     "traceback": [
      "\u001b[1;31mFailed to start the Kernel. \n",
      "\u001b[1;31mKernel Python 3.9.6 64-bit is not usable. Check the Jupyter output tab for more information. \n",
      "\u001b[1;31mView Jupyter <a href='command:jupyter.viewOutput'>log</a> for further details."
     ]
    }
   ],
   "source": [
    "import numpy as np\n",
    "import pandas as pd\n",
    "import matplotlib.pyplot as plt"
   ]
  },
  {
   "cell_type": "code",
   "execution_count": null,
   "metadata": {
    "id": "_G0GLTGzK4YK"
   },
   "outputs": [
    {
     "ename": "",
     "evalue": "",
     "output_type": "error",
     "traceback": [
      "\u001b[1;31mFailed to start the Kernel. \n",
      "\u001b[1;31mKernel Python 3.9.6 64-bit is not usable. Check the Jupyter output tab for more information. \n",
      "\u001b[1;31mView Jupyter <a href='command:jupyter.viewOutput'>log</a> for further details."
     ]
    }
   ],
   "source": [
    "import os.path\n",
    "from urllib.request import urlretrieve\n",
    "\n",
    "DATASETS = {\n",
    "    \"car_emissions_spain2022.csv\": \"https://raw.githubusercontent.com/pietroolivi/dia-datasets/main/car_emissions_spain2022.csv\",\n",
    "    \"car_emissions_canada2014.csv\": \"https://raw.githubusercontent.com/pietroolivi/dia-datasets/main/car_emissions_canada2014/car_emissions_canada2014.csv\",\n",
    "    \"car_emissions_uk2013.csv\": \"https://raw.githubusercontent.com/pietroolivi/dia-datasets/main/car_emissions_uk2013.csv\"\n",
    "}\n",
    "\n",
    "for filename, dataset in DATASETS.items():\n",
    "    if not os.path.exists(filename):\n",
    "      urlretrieve(dataset, filename)"
   ]
  },
  {
   "cell_type": "markdown",
   "metadata": {
    "id": "zqSwNm5VVcVe"
   },
   "source": []
  },
  {
   "cell_type": "markdown",
   "metadata": {},
   "source": []
  },
  {
   "cell_type": "code",
   "execution_count": null,
   "metadata": {
    "colab": {
     "base_uri": "https://localhost:8080/",
     "height": 377
    },
    "id": "V--ZSglqSBnO",
    "outputId": "ef45bb19-1ad2-4f27-e8b5-ec8acf36c6d1"
   },
   "outputs": [
    {
     "ename": "",
     "evalue": "",
     "output_type": "error",
     "traceback": [
      "\u001b[1;31mFailed to start the Kernel. \n",
      "\u001b[1;31mKernel Python 3.9.6 64-bit is not usable. Check the Jupyter output tab for more information. \n",
      "\u001b[1;31mView Jupyter <a href='command:jupyter.viewOutput'>log</a> for further details."
     ]
    }
   ],
   "source": [
    "spain_emissions = pd.read_csv(\"car_emissions_spain2022.csv\")\n",
    "spain_emissions.head(5)"
   ]
  },
  {
   "cell_type": "code",
   "execution_count": null,
   "metadata": {
    "colab": {
     "base_uri": "https://localhost:8080/",
     "height": 258
    },
    "id": "v1eqQSaVSBSI",
    "outputId": "c512c545-22f1-43fd-d452-db8cfa32a414"
   },
   "outputs": [
    {
     "ename": "",
     "evalue": "",
     "output_type": "error",
     "traceback": [
      "\u001b[1;31mFailed to start the Kernel. \n",
      "\u001b[1;31mKernel Python 3.9.6 64-bit is not usable. Check the Jupyter output tab for more information. \n",
      "\u001b[1;31mView Jupyter <a href='command:jupyter.viewOutput'>log</a> for further details."
     ]
    }
   ],
   "source": [
    "canada_emissions = pd.read_csv(\"car_emissions_canada2014.csv\")\n",
    "canada_emissions.head(5)"
   ]
  },
  {
   "cell_type": "code",
   "execution_count": null,
   "metadata": {
    "colab": {
     "base_uri": "https://localhost:8080/",
     "height": 377
    },
    "id": "WeugoMUnLhQb",
    "outputId": "e1ed2626-fca4-41af-9051-4072091f1d5e"
   },
   "outputs": [
    {
     "ename": "",
     "evalue": "",
     "output_type": "error",
     "traceback": [
      "\u001b[1;31mFailed to start the Kernel. \n",
      "\u001b[1;31mKernel Python 3.9.6 64-bit is not usable. Check the Jupyter output tab for more information. \n",
      "\u001b[1;31mView Jupyter <a href='command:jupyter.viewOutput'>log</a> for further details."
     ]
    }
   ],
   "source": [
    "uk_emissions = pd.read_csv(\"car_emissions_uk2013.csv\")\n",
    "uk_emissions.head(5)"
   ]
  },
  {
   "cell_type": "markdown",
   "metadata": {
    "id": "t-RXbQ6GTCu3"
   },
   "source": [
    "# **Esplorazione dei singoli dataset**"
   ]
  },
  {
   "cell_type": "markdown",
   "metadata": {},
   "source": [
    "# Esplorazione del dataset `uk_emissions`"
   ]
  },
  {
   "cell_type": "markdown",
   "metadata": {},
   "source": [
    "Il dataset in questione è stato reso fruibile dalla Vehicle Certification Agency (VCA) del Department for Transport britannico, al fine di reperire informazioni inerenti a tutte le vetture nuove in vendita nel Regno Unito nel lasso temporale 2000-2013, e quelle usate immatricolate per la prima volta a partire dal 1° marzo 2001. Il termine \"nuova\" si riferisce ad una qualsiasi automobile allora disponibile per l'acquisto o il leasing presso un concessionario e che non fosse stata precedentemente registrata. Sempre citando la documentazione, abbiamo che entrambi i veicoli nuovi ed usati possono essere cercati per trovarne i corrispondenti:\n",
    "- Fuel consumption and CO2 emissions (by make and model)\n",
    "- vehicle tax information (by make, model, registration date and current tax tables)\n",
    "- The cost of tax for all vehicle types\n",
    "\n",
    "Mentre sono disponibili solamente per le macchine nuove le seguenti informazioni:\n",
    "\n",
    "- Tax band, including Band A (exempt from tax)\n",
    "- Fuel economy\n",
    "- Annual fuel running costs\n",
    "- Company car taxation, based on CO2 bands\n",
    "- Alternative fuel types\n",
    "\n",
    "Da una prima lettura della descrizione sorge spontanea una perplessità: potrebbero esserci duplicati inconsistenti? Uno stesso modello di auto potrebbe essere stato inserito nella base di dati come nuovo in un determinato anno ed, ad esempio, quello successivo in qualità di vettura usata? In caso affermativo sarebbe nel nostro interesse accertatci che non vi siano incongruenze nei valori delle features dei doppioni, poichè tale errore semantico ci porterebbe a risultati fuorvianti.\n"
   ]
  },
  {
   "cell_type": "code",
   "execution_count": null,
   "metadata": {},
   "outputs": [
    {
     "ename": "",
     "evalue": "",
     "output_type": "error",
     "traceback": [
      "\u001b[1;31mFailed to start the Kernel. \n",
      "\u001b[1;31mKernel Python 3.9.6 64-bit is not usable. Check the Jupyter output tab for more information. \n",
      "\u001b[1;31mView Jupyter <a href='command:jupyter.viewOutput'>log</a> for further details."
     ]
    }
   ],
   "source": [
    "uk_emissions.head(5)"
   ]
  },
  {
   "cell_type": "markdown",
   "metadata": {
    "id": "b4ytHD44Vng_"
   },
   "source": [
    "# Esplorazione del dataset `spain_emissions`\n",
    "\n",
    "All'interno del dataset proveniente dal ministero spagnolo sono presenti anche dati riguardanti macchine elettriche. Questa tipologia di dato non è interessante per l'obiettivo del modello, ovvero la quantità di CO2 emessa.\n",
    "\n",
    "La cella seguente analizza i valori delle righe che hanno `engine_type` \"Eléctricos puros\", estraendo solo le colonne sul minimo e massimo di consumo di litri di carburante e sul minimio e massimo di emissioni di CO2 per km percorso."
   ]
  },
  {
   "cell_type": "code",
   "execution_count": null,
   "metadata": {
    "colab": {
     "base_uri": "https://localhost:8080/"
    },
    "id": "4dBbENl8YDCh",
    "outputId": "530df867-0e02-46a3-bf20-fe99899b95e0"
   },
   "outputs": [
    {
     "data": {
      "text/plain": [
       "emissions_min_gCO2_km    True\n",
       "emissions_max_gCO2_km    True\n",
       "dtype: bool"
      ]
     },
     "execution_count": 13,
     "metadata": {},
     "output_type": "execute_result"
    }
   ],
   "source": [
    "columns = [\"emissions_min_gCO2_km\", \"emissions_max_gCO2_km\"]\n",
    "spain_emissions.loc[spain_emissions[\"engine_type\"] == \"Eléctricos puros\", columns].isna().all()"
   ]
  },
  {
   "cell_type": "markdown",
   "metadata": {
    "id": "Sm9sZvHQZPNm"
   },
   "source": [
    "Come era previdibile, tutti i valori delle emissioni di CO2 per km nelle righe riguardanti i veicoli elettrici sono mancanti, quindi le rispettive righe possono essere eliminate, poichè non utili per l'addestramento del modello, il cui obiettivo è la previsione dell'emissione di C02 per veicoli a motore termico."
   ]
  },
  {
   "cell_type": "code",
   "execution_count": null,
   "metadata": {
    "id": "a2z_hiy2aFIx"
   },
   "outputs": [],
   "source": [
    "electric_cars_index = spain_emissions.loc[spain_emissions[\"engine_type\"] == \"Eléctricos puros\"].index\n",
    "spain_emissions = spain_emissions.drop(electric_cars_index)"
   ]
  },
  {
   "cell_type": "markdown",
   "metadata": {
    "id": "S8QP1iTVgNuY"
   },
   "source": [
    "Il dataset contiene tre colonne che rispettivamente indicano le tre dimensioni del motore, ovvero lunghezza, larghezza e altezza in millimetri. Queste tre colonne potrebbero essere delle feature molto importanti per il modello. Quindi è necessario mantenerle nel dataset per motivi di compatibilità con gli altri dataset in una nuova colonna `engine_capacity`, il volume in millimetri cubi, dato dal prodotto delle tre colonne.\n"
   ]
  },
  {
   "cell_type": "code",
   "execution_count": null,
   "metadata": {
    "colab": {
     "base_uri": "https://localhost:8080/"
    },
    "id": "WhOb6Xx3dLC9",
    "outputId": "d6066574-e7bc-4aa4-ae4c-72c620bd6f4c"
   },
   "outputs": [
    {
     "data": {
      "text/plain": [
       "31         8842907700\n",
       "32         8842907700\n",
       "33         8842907700\n",
       "34         8842907700\n",
       "35         8842907700\n",
       "             ...     \n",
       "17403     97916000000\n",
       "17404    124800000000\n",
       "17405    124800000000\n",
       "17406     90636000000\n",
       "17407     90636000000\n",
       "Length: 15107, dtype: int64"
      ]
     },
     "execution_count": 26,
     "metadata": {},
     "output_type": "execute_result"
    }
   ],
   "source": [
    "spain_emissions[\"length_mm\"] * spain_emissions[\"width_mm\"] * spain_emissions[\"height_mm\"]"
   ]
  },
  {
   "cell_type": "markdown",
   "metadata": {
    "id": "1LQEB6jT7pJo"
   },
   "source": [
    "# **Omogeneizzazione ed unione dei dati**\n",
    "Avendo reperito tre set di dati ciascuno da una fonte differente, sebbene questi concernano il medesimo dominio e condividano pertanto una considerevole quantità di attributi, potremmo essere erroneamente portati a compiere un troncamento delle colonne, conservando esclusivamente quelle appartenenti all'intersezione delle tre tabelle, tuttavia così facendo andremmo a trascurare il caso-limite in cui le features eliminate dovessero essere le uniche legate, attraverso un relazione non randomica, a quella indagata. Una soluzione più scrupolosa consisterebbe, al contrario, nell'**unione** degli **attributi**, colmando opportunamente le celle vuote formatesi. In effetti, come visto a lezione, i valori NAN possono essere sostituiti, tra gli altri, da (a seconda che le colonne siano di tipo categorico o numerico):\n",
    "- media\n",
    "- moda\n",
    "- mediana\n",
    "\n",
    "In aggiunta, le stesse variabili in comune, malgrado facciano riferimento allo stesso concetto, si manifestano saltuariamente sotto denominazioni diverse, ed a loro volta i valori da queste assunti potrebbero avere formato dissimile (e.g. capitalizzazione delle lettere nel caso testuale o numero di cifre significative in quello numerico). \n",
    "\n",
    "\n",
    "\n",
    "\n",
    "\n"
   ]
  },
  {
   "cell_type": "markdown",
   "metadata": {},
   "source": []
  }
 ],
 "metadata": {
  "colab": {
   "include_colab_link": true,
   "provenance": []
  },
  "kernelspec": {
   "display_name": "Python 3.9.6 64-bit",
   "language": "python",
   "name": "python3"
  },
  "language_info": {
   "codemirror_mode": {
    "name": "ipython",
    "version": 3
   },
   "file_extension": ".py",
   "mimetype": "text/x-python",
   "name": "python",
   "nbconvert_exporter": "python",
   "pygments_lexer": "ipython3",
   "version": "3.9.6"
  },
  "vscode": {
   "interpreter": {
    "hash": "31f2aee4e71d21fbe5cf8b01ff0e069b9275f58929596ceb00d14d90e3e16cd6"
   }
  }
 },
 "nbformat": 4,
 "nbformat_minor": 4
}
