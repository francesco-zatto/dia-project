{
 "cells": [
  {
   "cell_type": "markdown",
   "metadata": {
    "colab_type": "text",
    "id": "view-in-github"
   },
   "source": [
    "<a href=\"https://colab.research.google.com/github/francesco-zatto/dia-project/blob/master/car_emissions.ipynb\" target=\"_parent\"><img src=\"https://colab.research.google.com/assets/colab-badge.svg\" alt=\"Open In Colab\"/></a>"
   ]
  },
  {
   "cell_type": "code",
   "execution_count": 1,
   "metadata": {
    "id": "soWzXv-ZniK1"
   },
   "outputs": [],
   "source": [
    "import numpy as np\n",
    "import pandas as pd\n",
    "import matplotlib.pyplot as plt"
   ]
  },
  {
   "cell_type": "code",
   "execution_count": 2,
   "metadata": {
    "id": "_G0GLTGzK4YK"
   },
   "outputs": [],
   "source": [
    "import os.path\n",
    "from urllib.request import urlretrieve\n",
    "\n",
    "DATASETS = {\n",
    "    \"car_emissions_spain2022.csv\": \"https://raw.githubusercontent.com/pietroolivi/dia-datasets/main/car_emissions_spain2022.csv\",\n",
    "    \"car_emissions_canada2014.csv\": \"https://raw.githubusercontent.com/pietroolivi/dia-datasets/main/car_emissions_canada2014/car_emissions_canada2014.csv\",\n",
    "    \"car_emissions_uk2013.csv\": \"https://raw.githubusercontent.com/pietroolivi/dia-datasets/main/car_emissions_uk2013.csv\"\n",
    "}\n",
    "\n",
    "for filename, dataset in DATASETS.items():\n",
    "    if not os.path.exists(filename):\n",
    "      urlretrieve(dataset, filename)"
   ]
  },
  {
   "cell_type": "code",
   "execution_count": 3,
   "metadata": {
    "colab": {
     "base_uri": "https://localhost:8080/",
     "height": 377
    },
    "id": "V--ZSglqSBnO",
    "outputId": "ef45bb19-1ad2-4f27-e8b5-ec8acf36c6d1"
   },
   "outputs": [
    {
     "data": {
      "text/html": [
       "<div>\n",
       "<style scoped>\n",
       "    .dataframe tbody tr th:only-of-type {\n",
       "        vertical-align: middle;\n",
       "    }\n",
       "\n",
       "    .dataframe tbody tr th {\n",
       "        vertical-align: top;\n",
       "    }\n",
       "\n",
       "    .dataframe thead th {\n",
       "        text-align: right;\n",
       "    }\n",
       "</style>\n",
       "<table border=\"1\" class=\"dataframe\">\n",
       "  <thead>\n",
       "    <tr style=\"text-align: right;\">\n",
       "      <th></th>\n",
       "      <th>id</th>\n",
       "      <th>make</th>\n",
       "      <th>model</th>\n",
       "      <th>market_segment</th>\n",
       "      <th>engine_type</th>\n",
       "      <th>consumption_min_l_100km</th>\n",
       "      <th>consumption_max_l_100km</th>\n",
       "      <th>emissions_min_gCO2_km</th>\n",
       "      <th>emissions_max_gCO2_km</th>\n",
       "      <th>transmission</th>\n",
       "      <th>...</th>\n",
       "      <th>avg_wltp_emissions_gCO2_km</th>\n",
       "      <th>length_mm</th>\n",
       "      <th>width_mm</th>\n",
       "      <th>height_mm</th>\n",
       "      <th>gross_vehicle_weight_rating_kg</th>\n",
       "      <th>total_seating</th>\n",
       "      <th>fuel_economy_index</th>\n",
       "      <th>type_hybrid</th>\n",
       "      <th>electric_consumption_kwh_100km</th>\n",
       "      <th>battery_capacity_kwh</th>\n",
       "    </tr>\n",
       "  </thead>\n",
       "  <tbody>\n",
       "    <tr>\n",
       "      <th>0</th>\n",
       "      <td>551266</td>\n",
       "      <td>AIWAYS</td>\n",
       "      <td>AIWAYS U5 MAS861-WVTA/2WB/FL4</td>\n",
       "      <td>Berlinas-Familiares Medios</td>\n",
       "      <td>Eléctricos puros</td>\n",
       "      <td>NaN</td>\n",
       "      <td>NaN</td>\n",
       "      <td>NaN</td>\n",
       "      <td>NaN</td>\n",
       "      <td>A</td>\n",
       "      <td>...</td>\n",
       "      <td>0.0</td>\n",
       "      <td>4680</td>\n",
       "      <td>1865</td>\n",
       "      <td>1700</td>\n",
       "      <td>2135</td>\n",
       "      <td>5</td>\n",
       "      <td>Sin clasificación</td>\n",
       "      <td>NaN</td>\n",
       "      <td>15.75</td>\n",
       "      <td>63.0</td>\n",
       "    </tr>\n",
       "    <tr>\n",
       "      <th>1</th>\n",
       "      <td>579684</td>\n",
       "      <td>AIWAYS</td>\n",
       "      <td>AIWAYS U6 PRIME</td>\n",
       "      <td>Berlinas-Familiares Grandes</td>\n",
       "      <td>Eléctricos puros</td>\n",
       "      <td>NaN</td>\n",
       "      <td>NaN</td>\n",
       "      <td>NaN</td>\n",
       "      <td>NaN</td>\n",
       "      <td>A</td>\n",
       "      <td>...</td>\n",
       "      <td>0.0</td>\n",
       "      <td>4805</td>\n",
       "      <td>1880</td>\n",
       "      <td>1641</td>\n",
       "      <td>2290</td>\n",
       "      <td>5</td>\n",
       "      <td>Sin clasificación</td>\n",
       "      <td>NaN</td>\n",
       "      <td>16.00</td>\n",
       "      <td>63.0</td>\n",
       "    </tr>\n",
       "    <tr>\n",
       "      <th>2</th>\n",
       "      <td>464453</td>\n",
       "      <td>ALKE</td>\n",
       "      <td>ALKE ATX 310 E plomo acido</td>\n",
       "      <td>Chasis-Cabina Pequeño</td>\n",
       "      <td>Eléctricos puros</td>\n",
       "      <td>NaN</td>\n",
       "      <td>NaN</td>\n",
       "      <td>NaN</td>\n",
       "      <td>NaN</td>\n",
       "      <td>SC</td>\n",
       "      <td>...</td>\n",
       "      <td>0.0</td>\n",
       "      <td>3030</td>\n",
       "      <td>1500</td>\n",
       "      <td>2000</td>\n",
       "      <td>1510</td>\n",
       "      <td>2</td>\n",
       "      <td>Sin clasificación</td>\n",
       "      <td>NaN</td>\n",
       "      <td>11.00</td>\n",
       "      <td>10.0</td>\n",
       "    </tr>\n",
       "    <tr>\n",
       "      <th>3</th>\n",
       "      <td>464454</td>\n",
       "      <td>ALKE</td>\n",
       "      <td>ALKE ATX 320 E plomo acido</td>\n",
       "      <td>Chasis-Cabina Pequeño</td>\n",
       "      <td>Eléctricos puros</td>\n",
       "      <td>NaN</td>\n",
       "      <td>NaN</td>\n",
       "      <td>NaN</td>\n",
       "      <td>NaN</td>\n",
       "      <td>SC</td>\n",
       "      <td>...</td>\n",
       "      <td>0.0</td>\n",
       "      <td>3850</td>\n",
       "      <td>1500</td>\n",
       "      <td>2000</td>\n",
       "      <td>1510</td>\n",
       "      <td>2</td>\n",
       "      <td>Sin clasificación</td>\n",
       "      <td>NaN</td>\n",
       "      <td>11.00</td>\n",
       "      <td>10.0</td>\n",
       "    </tr>\n",
       "    <tr>\n",
       "      <th>4</th>\n",
       "      <td>464455</td>\n",
       "      <td>ALKE</td>\n",
       "      <td>ALKE ATX 330 E plomo acido</td>\n",
       "      <td>Chasis-Cabina Pequeño</td>\n",
       "      <td>Eléctricos puros</td>\n",
       "      <td>NaN</td>\n",
       "      <td>NaN</td>\n",
       "      <td>NaN</td>\n",
       "      <td>NaN</td>\n",
       "      <td>SC</td>\n",
       "      <td>...</td>\n",
       "      <td>0.0</td>\n",
       "      <td>3850</td>\n",
       "      <td>1500</td>\n",
       "      <td>2000</td>\n",
       "      <td>1510</td>\n",
       "      <td>2</td>\n",
       "      <td>Sin clasificación</td>\n",
       "      <td>NaN</td>\n",
       "      <td>11.00</td>\n",
       "      <td>10.0</td>\n",
       "    </tr>\n",
       "  </tbody>\n",
       "</table>\n",
       "<p>5 rows × 26 columns</p>\n",
       "</div>"
      ],
      "text/plain": [
       "       id    make                          model               market_segment  \\\n",
       "0  551266  AIWAYS  AIWAYS U5 MAS861-WVTA/2WB/FL4   Berlinas-Familiares Medios   \n",
       "1  579684  AIWAYS                AIWAYS U6 PRIME  Berlinas-Familiares Grandes   \n",
       "2  464453    ALKE     ALKE ATX 310 E plomo acido        Chasis-Cabina Pequeño   \n",
       "3  464454    ALKE     ALKE ATX 320 E plomo acido        Chasis-Cabina Pequeño   \n",
       "4  464455    ALKE     ALKE ATX 330 E plomo acido        Chasis-Cabina Pequeño   \n",
       "\n",
       "        engine_type  consumption_min_l_100km  consumption_max_l_100km  \\\n",
       "0  Eléctricos puros                      NaN                      NaN   \n",
       "1  Eléctricos puros                      NaN                      NaN   \n",
       "2  Eléctricos puros                      NaN                      NaN   \n",
       "3  Eléctricos puros                      NaN                      NaN   \n",
       "4  Eléctricos puros                      NaN                      NaN   \n",
       "\n",
       "   emissions_min_gCO2_km  emissions_max_gCO2_km transmission  ...  \\\n",
       "0                    NaN                    NaN            A  ...   \n",
       "1                    NaN                    NaN            A  ...   \n",
       "2                    NaN                    NaN           SC  ...   \n",
       "3                    NaN                    NaN           SC  ...   \n",
       "4                    NaN                    NaN           SC  ...   \n",
       "\n",
       "   avg_wltp_emissions_gCO2_km  length_mm  width_mm  height_mm  \\\n",
       "0                         0.0       4680      1865       1700   \n",
       "1                         0.0       4805      1880       1641   \n",
       "2                         0.0       3030      1500       2000   \n",
       "3                         0.0       3850      1500       2000   \n",
       "4                         0.0       3850      1500       2000   \n",
       "\n",
       "   gross_vehicle_weight_rating_kg  total_seating  fuel_economy_index  \\\n",
       "0                            2135              5   Sin clasificación   \n",
       "1                            2290              5   Sin clasificación   \n",
       "2                            1510              2   Sin clasificación   \n",
       "3                            1510              2   Sin clasificación   \n",
       "4                            1510              2   Sin clasificación   \n",
       "\n",
       "   type_hybrid  electric_consumption_kwh_100km  battery_capacity_kwh  \n",
       "0          NaN                           15.75                  63.0  \n",
       "1          NaN                           16.00                  63.0  \n",
       "2          NaN                           11.00                  10.0  \n",
       "3          NaN                           11.00                  10.0  \n",
       "4          NaN                           11.00                  10.0  \n",
       "\n",
       "[5 rows x 26 columns]"
      ]
     },
     "execution_count": 3,
     "metadata": {},
     "output_type": "execute_result"
    }
   ],
   "source": [
    "spain_emissions = pd.read_csv(\"car_emissions_spain2022.csv\")\n",
    "spain_emissions.head(5)"
   ]
  },
  {
   "cell_type": "code",
   "execution_count": 4,
   "metadata": {
    "colab": {
     "base_uri": "https://localhost:8080/",
     "height": 258
    },
    "id": "v1eqQSaVSBSI",
    "outputId": "c512c545-22f1-43fd-d452-db8cfa32a414"
   },
   "outputs": [
    {
     "data": {
      "text/html": [
       "<div>\n",
       "<style scoped>\n",
       "    .dataframe tbody tr th:only-of-type {\n",
       "        vertical-align: middle;\n",
       "    }\n",
       "\n",
       "    .dataframe tbody tr th {\n",
       "        vertical-align: top;\n",
       "    }\n",
       "\n",
       "    .dataframe thead th {\n",
       "        text-align: right;\n",
       "    }\n",
       "</style>\n",
       "<table border=\"1\" class=\"dataframe\">\n",
       "  <thead>\n",
       "    <tr style=\"text-align: right;\">\n",
       "      <th></th>\n",
       "      <th>_id</th>\n",
       "      <th>Model year</th>\n",
       "      <th>Make</th>\n",
       "      <th>Model</th>\n",
       "      <th>Vehicle class</th>\n",
       "      <th>Engine size (L)</th>\n",
       "      <th>Cylinders</th>\n",
       "      <th>Transmission</th>\n",
       "      <th>Fuel type</th>\n",
       "      <th>City (L/100 km)</th>\n",
       "      <th>Highway (L/100 km)</th>\n",
       "      <th>Combined (L/100 km)</th>\n",
       "      <th>Combined (mpg)</th>\n",
       "      <th>CO2 emissions (g/km)</th>\n",
       "    </tr>\n",
       "  </thead>\n",
       "  <tbody>\n",
       "    <tr>\n",
       "      <th>0</th>\n",
       "      <td>1</td>\n",
       "      <td>1995</td>\n",
       "      <td>Acura</td>\n",
       "      <td>Integra</td>\n",
       "      <td>Subcompact</td>\n",
       "      <td>1.8</td>\n",
       "      <td>4</td>\n",
       "      <td>A4</td>\n",
       "      <td>X</td>\n",
       "      <td>10.2</td>\n",
       "      <td>7.0</td>\n",
       "      <td>8.8</td>\n",
       "      <td>32</td>\n",
       "      <td>202</td>\n",
       "    </tr>\n",
       "    <tr>\n",
       "      <th>1</th>\n",
       "      <td>2</td>\n",
       "      <td>1995</td>\n",
       "      <td>Acura</td>\n",
       "      <td>Integra</td>\n",
       "      <td>Subcompact</td>\n",
       "      <td>1.8</td>\n",
       "      <td>4</td>\n",
       "      <td>M5</td>\n",
       "      <td>X</td>\n",
       "      <td>9.6</td>\n",
       "      <td>7.0</td>\n",
       "      <td>8.4</td>\n",
       "      <td>34</td>\n",
       "      <td>193</td>\n",
       "    </tr>\n",
       "    <tr>\n",
       "      <th>2</th>\n",
       "      <td>3</td>\n",
       "      <td>1995</td>\n",
       "      <td>Acura</td>\n",
       "      <td>Integra GS-R</td>\n",
       "      <td>Subcompact</td>\n",
       "      <td>1.8</td>\n",
       "      <td>4</td>\n",
       "      <td>M5</td>\n",
       "      <td>Z</td>\n",
       "      <td>9.4</td>\n",
       "      <td>7.0</td>\n",
       "      <td>8.3</td>\n",
       "      <td>34</td>\n",
       "      <td>191</td>\n",
       "    </tr>\n",
       "    <tr>\n",
       "      <th>3</th>\n",
       "      <td>4</td>\n",
       "      <td>1995</td>\n",
       "      <td>Acura</td>\n",
       "      <td>Legend</td>\n",
       "      <td>Compact</td>\n",
       "      <td>3.2</td>\n",
       "      <td>6</td>\n",
       "      <td>A4</td>\n",
       "      <td>Z</td>\n",
       "      <td>12.6</td>\n",
       "      <td>8.9</td>\n",
       "      <td>10.9</td>\n",
       "      <td>26</td>\n",
       "      <td>251</td>\n",
       "    </tr>\n",
       "    <tr>\n",
       "      <th>4</th>\n",
       "      <td>5</td>\n",
       "      <td>1995</td>\n",
       "      <td>Acura</td>\n",
       "      <td>Legend Coupe</td>\n",
       "      <td>Compact</td>\n",
       "      <td>3.2</td>\n",
       "      <td>6</td>\n",
       "      <td>A4</td>\n",
       "      <td>Z</td>\n",
       "      <td>13.0</td>\n",
       "      <td>9.3</td>\n",
       "      <td>11.3</td>\n",
       "      <td>25</td>\n",
       "      <td>260</td>\n",
       "    </tr>\n",
       "  </tbody>\n",
       "</table>\n",
       "</div>"
      ],
      "text/plain": [
       "   _id  Model year   Make         Model Vehicle class  Engine size (L)  \\\n",
       "0    1        1995  Acura       Integra    Subcompact              1.8   \n",
       "1    2        1995  Acura       Integra    Subcompact              1.8   \n",
       "2    3        1995  Acura  Integra GS-R    Subcompact              1.8   \n",
       "3    4        1995  Acura        Legend       Compact              3.2   \n",
       "4    5        1995  Acura  Legend Coupe       Compact              3.2   \n",
       "\n",
       "   Cylinders Transmission Fuel type  City (L/100 km)  Highway (L/100 km)  \\\n",
       "0          4           A4         X             10.2                 7.0   \n",
       "1          4           M5         X              9.6                 7.0   \n",
       "2          4           M5         Z              9.4                 7.0   \n",
       "3          6           A4         Z             12.6                 8.9   \n",
       "4          6           A4         Z             13.0                 9.3   \n",
       "\n",
       "   Combined (L/100 km)  Combined (mpg)  CO2 emissions (g/km)  \n",
       "0                  8.8              32                   202  \n",
       "1                  8.4              34                   193  \n",
       "2                  8.3              34                   191  \n",
       "3                 10.9              26                   251  \n",
       "4                 11.3              25                   260  "
      ]
     },
     "execution_count": 4,
     "metadata": {},
     "output_type": "execute_result"
    }
   ],
   "source": [
    "canada_emissions = pd.read_csv(\"car_emissions_canada2014.csv\")\n",
    "canada_emissions.head(5)"
   ]
  },
  {
   "cell_type": "code",
   "execution_count": 5,
   "metadata": {
    "colab": {
     "base_uri": "https://localhost:8080/",
     "height": 377
    },
    "id": "WeugoMUnLhQb",
    "outputId": "e1ed2626-fca4-41af-9051-4072091f1d5e"
   },
   "outputs": [
    {
     "data": {
      "text/html": [
       "<div>\n",
       "<style scoped>\n",
       "    .dataframe tbody tr th:only-of-type {\n",
       "        vertical-align: middle;\n",
       "    }\n",
       "\n",
       "    .dataframe tbody tr th {\n",
       "        vertical-align: top;\n",
       "    }\n",
       "\n",
       "    .dataframe thead th {\n",
       "        text-align: right;\n",
       "    }\n",
       "</style>\n",
       "<table border=\"1\" class=\"dataframe\">\n",
       "  <thead>\n",
       "    <tr style=\"text-align: right;\">\n",
       "      <th></th>\n",
       "      <th>file</th>\n",
       "      <th>year</th>\n",
       "      <th>manufacturer</th>\n",
       "      <th>model</th>\n",
       "      <th>description</th>\n",
       "      <th>euro_standard</th>\n",
       "      <th>tax_band</th>\n",
       "      <th>transmission</th>\n",
       "      <th>transmission_type</th>\n",
       "      <th>engine_capacity</th>\n",
       "      <th>...</th>\n",
       "      <th>nox_emissions</th>\n",
       "      <th>thc_nox_emissions</th>\n",
       "      <th>particulates_emissions</th>\n",
       "      <th>fuel_cost_12000_miles</th>\n",
       "      <th>fuel_cost_6000_miles</th>\n",
       "      <th>standard_12_months</th>\n",
       "      <th>standard_6_months</th>\n",
       "      <th>first_year_12_months</th>\n",
       "      <th>first_year_6_months</th>\n",
       "      <th>date_of_change</th>\n",
       "    </tr>\n",
       "  </thead>\n",
       "  <tbody>\n",
       "    <tr>\n",
       "      <th>0</th>\n",
       "      <td>DatapartC_july2000.csv</td>\n",
       "      <td>2000</td>\n",
       "      <td>Alfa Romeo</td>\n",
       "      <td>145 Range</td>\n",
       "      <td>1.6 Twin Spark 16v</td>\n",
       "      <td>2</td>\n",
       "      <td>NaN</td>\n",
       "      <td>M5</td>\n",
       "      <td>Manual</td>\n",
       "      <td>1598.0</td>\n",
       "      <td>...</td>\n",
       "      <td>NaN</td>\n",
       "      <td>NaN</td>\n",
       "      <td>NaN</td>\n",
       "      <td>NaN</td>\n",
       "      <td>618.0</td>\n",
       "      <td>NaN</td>\n",
       "      <td>NaN</td>\n",
       "      <td>NaN</td>\n",
       "      <td>NaN</td>\n",
       "      <td>NaN</td>\n",
       "    </tr>\n",
       "    <tr>\n",
       "      <th>1</th>\n",
       "      <td>DatapartC_july2000.csv</td>\n",
       "      <td>2000</td>\n",
       "      <td>Alfa Romeo</td>\n",
       "      <td>145 Range</td>\n",
       "      <td>1.8 Twin Spark 16v</td>\n",
       "      <td>2</td>\n",
       "      <td>NaN</td>\n",
       "      <td>M5</td>\n",
       "      <td>Manual</td>\n",
       "      <td>1747.0</td>\n",
       "      <td>...</td>\n",
       "      <td>NaN</td>\n",
       "      <td>NaN</td>\n",
       "      <td>NaN</td>\n",
       "      <td>NaN</td>\n",
       "      <td>633.0</td>\n",
       "      <td>NaN</td>\n",
       "      <td>NaN</td>\n",
       "      <td>NaN</td>\n",
       "      <td>NaN</td>\n",
       "      <td>NaN</td>\n",
       "    </tr>\n",
       "    <tr>\n",
       "      <th>2</th>\n",
       "      <td>DatapartC_july2000.csv</td>\n",
       "      <td>2000</td>\n",
       "      <td>Alfa Romeo</td>\n",
       "      <td>145 Range</td>\n",
       "      <td>Cloverleaf</td>\n",
       "      <td>2</td>\n",
       "      <td>NaN</td>\n",
       "      <td>M5</td>\n",
       "      <td>Manual</td>\n",
       "      <td>1970.0</td>\n",
       "      <td>...</td>\n",
       "      <td>NaN</td>\n",
       "      <td>NaN</td>\n",
       "      <td>NaN</td>\n",
       "      <td>NaN</td>\n",
       "      <td>663.0</td>\n",
       "      <td>NaN</td>\n",
       "      <td>NaN</td>\n",
       "      <td>NaN</td>\n",
       "      <td>NaN</td>\n",
       "      <td>NaN</td>\n",
       "    </tr>\n",
       "    <tr>\n",
       "      <th>3</th>\n",
       "      <td>DatapartC_july2000.csv</td>\n",
       "      <td>2000</td>\n",
       "      <td>Alfa Romeo</td>\n",
       "      <td>146 Range</td>\n",
       "      <td>1.6 Twin Spark 16v</td>\n",
       "      <td>2</td>\n",
       "      <td>NaN</td>\n",
       "      <td>M5</td>\n",
       "      <td>Manual</td>\n",
       "      <td>1598.0</td>\n",
       "      <td>...</td>\n",
       "      <td>NaN</td>\n",
       "      <td>NaN</td>\n",
       "      <td>NaN</td>\n",
       "      <td>NaN</td>\n",
       "      <td>626.0</td>\n",
       "      <td>NaN</td>\n",
       "      <td>NaN</td>\n",
       "      <td>NaN</td>\n",
       "      <td>NaN</td>\n",
       "      <td>NaN</td>\n",
       "    </tr>\n",
       "    <tr>\n",
       "      <th>4</th>\n",
       "      <td>DatapartC_july2000.csv</td>\n",
       "      <td>2000</td>\n",
       "      <td>Alfa Romeo</td>\n",
       "      <td>146 Range</td>\n",
       "      <td>1.8 Twin Spark 16v</td>\n",
       "      <td>2</td>\n",
       "      <td>NaN</td>\n",
       "      <td>M5</td>\n",
       "      <td>Manual</td>\n",
       "      <td>1747.0</td>\n",
       "      <td>...</td>\n",
       "      <td>NaN</td>\n",
       "      <td>NaN</td>\n",
       "      <td>NaN</td>\n",
       "      <td>NaN</td>\n",
       "      <td>633.0</td>\n",
       "      <td>NaN</td>\n",
       "      <td>NaN</td>\n",
       "      <td>NaN</td>\n",
       "      <td>NaN</td>\n",
       "      <td>NaN</td>\n",
       "    </tr>\n",
       "  </tbody>\n",
       "</table>\n",
       "<p>5 rows × 31 columns</p>\n",
       "</div>"
      ],
      "text/plain": [
       "                     file  year manufacturer      model         description  \\\n",
       "0  DatapartC_july2000.csv  2000   Alfa Romeo  145 Range  1.6 Twin Spark 16v   \n",
       "1  DatapartC_july2000.csv  2000   Alfa Romeo  145 Range  1.8 Twin Spark 16v   \n",
       "2  DatapartC_july2000.csv  2000   Alfa Romeo  145 Range          Cloverleaf   \n",
       "3  DatapartC_july2000.csv  2000   Alfa Romeo  146 Range  1.6 Twin Spark 16v   \n",
       "4  DatapartC_july2000.csv  2000   Alfa Romeo  146 Range  1.8 Twin Spark 16v   \n",
       "\n",
       "   euro_standard tax_band transmission transmission_type  engine_capacity  \\\n",
       "0              2      NaN           M5            Manual           1598.0   \n",
       "1              2      NaN           M5            Manual           1747.0   \n",
       "2              2      NaN           M5            Manual           1970.0   \n",
       "3              2      NaN           M5            Manual           1598.0   \n",
       "4              2      NaN           M5            Manual           1747.0   \n",
       "\n",
       "   ... nox_emissions  thc_nox_emissions  particulates_emissions  \\\n",
       "0  ...           NaN                NaN                     NaN   \n",
       "1  ...           NaN                NaN                     NaN   \n",
       "2  ...           NaN                NaN                     NaN   \n",
       "3  ...           NaN                NaN                     NaN   \n",
       "4  ...           NaN                NaN                     NaN   \n",
       "\n",
       "   fuel_cost_12000_miles  fuel_cost_6000_miles  standard_12_months  \\\n",
       "0                    NaN                 618.0                 NaN   \n",
       "1                    NaN                 633.0                 NaN   \n",
       "2                    NaN                 663.0                 NaN   \n",
       "3                    NaN                 626.0                 NaN   \n",
       "4                    NaN                 633.0                 NaN   \n",
       "\n",
       "   standard_6_months  first_year_12_months  first_year_6_months  \\\n",
       "0                NaN                   NaN                  NaN   \n",
       "1                NaN                   NaN                  NaN   \n",
       "2                NaN                   NaN                  NaN   \n",
       "3                NaN                   NaN                  NaN   \n",
       "4                NaN                   NaN                  NaN   \n",
       "\n",
       "   date_of_change  \n",
       "0             NaN  \n",
       "1             NaN  \n",
       "2             NaN  \n",
       "3             NaN  \n",
       "4             NaN  \n",
       "\n",
       "[5 rows x 31 columns]"
      ]
     },
     "execution_count": 5,
     "metadata": {},
     "output_type": "execute_result"
    }
   ],
   "source": [
    "uk_emissions = pd.read_csv(\"car_emissions_uk2013.csv\", low_memory=False)\n",
    "uk_emissions.head(5)"
   ]
  },
  {
   "cell_type": "markdown",
   "metadata": {
    "id": "t-RXbQ6GTCu3"
   },
   "source": [
    "# **Esplorazione dei singoli dataset**"
   ]
  },
  {
   "cell_type": "markdown",
   "metadata": {},
   "source": [
    "# Esplorazione del dataset `uk_emissions`"
   ]
  },
  {
   "cell_type": "markdown",
   "metadata": {},
   "source": [
    "Il dataset in questione è stato reso fruibile dalla Vehicle Certification Agency (VCA) del Department for Transport britannico, al fine di reperire informazioni inerenti a tutte le vetture nuove in vendita nel Regno Unito nel lasso temporale 2000-2013, e quelle usate immatricolate per la prima volta a partire dal 1° marzo 2001. Il termine *nuova* si riferisce ad una qualsiasi automobile allora disponibile per l'acquisto o il leasing presso un concessionario e che non fosse stata precedentemente registrata. Sempre citando la [documentazione](https://www.gov.uk/co2-and-vehicle-tax-tools), abbiamo che entrambi i veicoli nuovi ed usati possono essere cercati per trovarne i corrispondenti:\n",
    "- Fuel consumption and CO<sub>2</sub> emissions (by make and model)\n",
    "- vehicle tax information (by make, model, registration date and current tax tables)\n",
    "- The cost of tax for all vehicle types\n",
    "\n",
    "Mentre sono disponibili solamente per le macchine nuove le seguenti informazioni:\n",
    "\n",
    "- Tax band, including Band A (exempt from tax)\n",
    "- Fuel economy\n",
    "- Annual fuel running costs\n",
    "- Company car taxation, based on CO<sub>2</sub> bands\n",
    "- Alternative fuel types\n",
    "\n",
    "Potremmo quindi inziare l'analisi del dataset verificando la veridicità di quest'ultimo ragguaglio, ossia controllando che le auto usate assumano valore NaN in corrispondenza delle colonne sopracitate. Sfortunatamente non disponiamo di una variabile che distingua esplicitamente i mezzi nuovi da quelli usati, ma sappiamo che le osservazioni con `date_of_change` (assumendo si riferisca alla data del passaggio di proprietà) diverso da NaN indicano una vettura sicuramente di seconda mano. Quindi sebbene queste rappresentino un sottoinsieme delle usate (mancherebbero quelle usate da un unico proprietario) eseguiamo il test:"
   ]
  },
  {
   "cell_type": "code",
   "execution_count": 6,
   "metadata": {},
   "outputs": [
    {
     "name": "stdout",
     "output_type": "stream",
     "text": [
      "      tax_band  standard_12_months  standard_6_months  first_year_12_months  \\\n",
      "6017       NaN                 NaN                NaN                   NaN   \n",
      "6018       NaN                 NaN                NaN                   NaN   \n",
      "6019       NaN                 NaN                NaN                   NaN   \n",
      "6020       NaN                 NaN                NaN                   NaN   \n",
      "6021       NaN                 NaN                NaN                   NaN   \n",
      "...        ...                 ...                ...                   ...   \n",
      "12226      NaN                 NaN                NaN                   NaN   \n",
      "12227      NaN                 NaN                NaN                   NaN   \n",
      "12228      NaN                 NaN                NaN                   NaN   \n",
      "12229      NaN                 NaN                NaN                   NaN   \n",
      "12230      NaN                 NaN                NaN                   NaN   \n",
      "\n",
      "       first_year_6_months  fuel_cost_12000_miles  \n",
      "6017                   NaN                    NaN  \n",
      "6018                   NaN                    NaN  \n",
      "6019                   NaN                    NaN  \n",
      "6020                   NaN                    NaN  \n",
      "6021                   NaN                    NaN  \n",
      "...                    ...                    ...  \n",
      "12226                  NaN                    NaN  \n",
      "12227                  NaN                    NaN  \n",
      "12228                  NaN                    NaN  \n",
      "12229                  NaN                    NaN  \n",
      "12230                  NaN                    NaN  \n",
      "\n",
      "[6214 rows x 6 columns]\n"
     ]
    },
    {
     "data": {
      "text/plain": [
       "tax_band                 True\n",
       "standard_12_months       True\n",
       "standard_6_months        True\n",
       "first_year_12_months     True\n",
       "first_year_6_months      True\n",
       "fuel_cost_12000_miles    True\n",
       "dtype: bool"
      ]
     },
     "execution_count": 6,
     "metadata": {},
     "output_type": "execute_result"
    }
   ],
   "source": [
    "used_cars_subset = uk_emissions.loc[~uk_emissions[\"date_of_change\"].isna()]\n",
    "columns_supposedly_nan = used_cars_subset[[\"tax_band\", \n",
    "                                           \"standard_12_months\", \n",
    "                                           \"standard_6_months\", \n",
    "                                           \"first_year_12_months\", \n",
    "                                           \"first_year_6_months\", \n",
    "                                           \"fuel_cost_12000_miles\"]]\n",
    "print(columns_supposedly_nan)\n",
    "columns_supposedly_nan.isna().all()"
   ]
  },
  {
   "cell_type": "markdown",
   "metadata": {},
   "source": [
    "Abbiamo appurato l'attendibilità della documentazione riguardo al valore degli attributi supposti NaN nelle auto usate. Ci rimane da esaminare l'assenza di tipi di carburante alternativi (contraddistinti dal valore _Petrol/E85(Flex Fuel)_) nella feature categorica `fuel_type` in tali osservazioni:"
   ]
  },
  {
   "cell_type": "code",
   "execution_count": 7,
   "metadata": {},
   "outputs": [
    {
     "data": {
      "text/plain": [
       "False"
      ]
     },
     "execution_count": 7,
     "metadata": {},
     "output_type": "execute_result"
    }
   ],
   "source": [
    "used_cars_subset[\"fuel_type\"].isin([\"Petrol / E85 (Flex Fuel)\"]).any()"
   ]
  },
  {
   "cell_type": "markdown",
   "metadata": {},
   "source": [
    "Possiamo ritenerci soddisfatti. Sarebbe lecito chiedersi quali siano i marchi automobilistici più popolari nel dataset, ed all'interno di ciascun brand il modello con più occorrenze registrate. \n"
   ]
  },
  {
   "cell_type": "code",
   "execution_count": 8,
   "metadata": {},
   "outputs": [
    {
     "name": "stdout",
     "output_type": "stream",
     "text": [
      "[62] different manufacturers and [45511] total cars are registered\n"
     ]
    },
    {
     "data": {
      "image/png": "[encoded data removed]",
      "text/plain": [
       "<Figure size 600x600 with 1 Axes>"
      ]
     },
     "metadata": {},
     "output_type": "display_data"
    }
   ],
   "source": [
    "# n.b., i termini \"manufacturer\" e \"brand\" sono utilizzati come sinonimi\n",
    "print(\"[\" + str(uk_emissions[\"manufacturer\"].nunique()) \\\n",
    "      + \"] different manufacturers and [\"               \\\n",
    "      + str(uk_emissions[\"manufacturer\"].count())       \\\n",
    "      + \"] total cars are registered\")\n",
    "manufacturers = uk_emissions[\"manufacturer\"].value_counts()\n",
    "majority_brands = manufacturers[:10]\n",
    "minority_brands = manufacturers[10:]\n",
    "# oppure raggruppando i brand che rappresentano meno del 5%\n",
    "# minority_brands_perc = manufacturers[manufacturers < uk_emissions[\"manufacturer\"].count() * 5 / 100]\n",
    "majority_brands[\"Others\"] = minority_brands.sum()\n",
    "my_explode = np.append(np.zeros(majority_brands.count() - 1), 0.1)\n",
    "majority_brands.plot.pie(title = \"TOP 10 BRANDS\", explode = my_explode, shadow = True, autopct = \"%.2f%%\", figsize=(6, 6));"
   ]
  },
  {
   "cell_type": "code",
   "execution_count": 9,
   "metadata": {},
   "outputs": [
    {
     "name": "stdout",
     "output_type": "stream",
     "text": [
      "OTHERS: 11th to 62nd brand in descending order of popularity:\n",
      "\n",
      "            manufacturer  # occurrences  percentage\n",
      "11                 Honda           1222    2.685065\n",
      "12               Citroen           1139    2.502692\n",
      "13                  Saab            902    1.981938\n",
      "14                Toyota            868    1.907231\n",
      "15            Mitsubishi            767    1.685307\n",
      "16                   Kia            721    1.584232\n",
      "17                  Seat            710    1.560062\n",
      "18                  Fiat            702    1.542484\n",
      "19                Nissan            666    1.463382\n",
      "20               Hyundai            641    1.408451\n",
      "21                 Mazda            635    1.395267\n",
      "22         Chrysler Jeep            610    1.340335\n",
      "23               Porsche            606    1.331546\n",
      "24                Subaru            577    1.267825\n",
      "25                Suzuki            531    1.166751\n",
      "26        MG Rover Group            470    1.032717\n",
      "27            Alfa Romeo            465    1.021731\n",
      "28           Jaguar Cars            453    0.995364\n",
      "29             Chevrolet            443    0.973391\n",
      "30                  Mini            371    0.815188\n",
      "31            Land Rover            302    0.663576\n",
      "32                 Smart            296    0.650392\n",
      "33                Proton            259    0.569093\n",
      "34              Cadillac            172    0.377931\n",
      "35                 Lexus            170    0.373536\n",
      "36              Daihatsu            169    0.371339\n",
      "37             SsangYong            168    0.369142\n",
      "38           Daewoo Cars            156    0.342774\n",
      "39  Aston Martin Lagonda            126    0.276856\n",
      "40           Lamborghini            103    0.226319\n",
      "41        Bentley Motors             96    0.210938\n",
      "42                 Lotus             89    0.195557\n",
      "43              Maserati             87    0.191163\n",
      "44     Micro Compact Car             85    0.186768\n",
      "45               Ferrari             81    0.177979\n",
      "46           Rolls-Royce             67    0.147217\n",
      "47                 Dodge             63    0.138428\n",
      "48               Perodua             61    0.134034\n",
      "49   Rover Group Limited             59    0.129639\n",
      "50  Morgan Motor Company             55    0.120850\n",
      "51              Corvette             52    0.114258\n",
      "52                 Isuzu             52    0.114258\n",
      "53              Infiniti             47    0.103272\n",
      "54                   LTI             30    0.065918\n",
      "55              Metrocab             22    0.048340\n",
      "56                Abarth             19    0.041748\n",
      "57                Hummer             10    0.021973\n",
      "58                 Dacia              9    0.019775\n",
      "59          MG Motors Uk              8    0.017578\n",
      "60               McLaren              8    0.017578\n",
      "61                  Tata              7    0.015381\n",
      "62          MG Motors UK              5    0.010986\n"
     ]
    }
   ],
   "source": [
    "print(\"OTHERS: 11th to 62nd brand in descending order of popularity:\\n\")\n",
    "percentages = minority_brands.to_numpy() * 100 / uk_emissions[\"manufacturer\"].count()\n",
    "list_of_series = [minority_brands.index.values, minority_brands.values, percentages]\n",
    "minority_df = pd.DataFrame({\"manufacturer\"  : minority_brands.index.values, \n",
    "                            \"# occurrences\" : minority_brands.values,\n",
    "                            \"percentage\"    : percentages})\n",
    "n_brands = uk_emissions[\"manufacturer\"].nunique()\n",
    "minority_df.index = range(11, n_brands + 1)\n",
    "print(minority_df)"
   ]
  },
  {
   "cell_type": "code",
   "execution_count": 10,
   "metadata": {},
   "outputs": [
    {
     "name": "stdout",
     "output_type": "stream",
     "text": [
      "Manufacturers left after screening: [10]\n"
     ]
    },
    {
     "data": {
      "image/png": "[encoded data removed]",
      "text/plain": [
       "<Figure size 640x480 with 1 Axes>"
      ]
     },
     "metadata": {},
     "output_type": "display_data"
    }
   ],
   "source": [
    "# ISTOGRAMMA 1 => modello più presente nei TOP 10 brand (spiegare motore o trasmissione differente)\n",
    "brands_and_models = uk_emissions[[\"manufacturer\", \"model\"]].copy()\n",
    "brands_and_models = brands_and_models[brands_and_models.manufacturer.isin(majority_brands.index)]\n",
    "print(\"Manufacturers left after screening: [\" + str(brands_and_models.manufacturer.nunique()) + \"]\")\n",
    "majority_brands = majority_brands.drop(\"Others\")\n",
    "brands_and_models = brands_and_models.value_counts([\"manufacturer\", \"model\"]) \\\n",
    "        .reset_index(name = \"count\")                                          \\\n",
    "        .sort_values([\"count\"], ascending = False)                            \\\n",
    "        .drop_duplicates([\"manufacturer\"])                                    \\\n",
    "        .set_index([\"manufacturer\"])                                          \\\n",
    "        .reindex(majority_brands.index) # ri-ordiniamo secondo la classifica dei brand stilata in precedenza\n",
    "brands_and_models[\"car\"] = brands_and_models.index + \"\\n\" + brands_and_models[\"model\"] # concateniamo le stringhe\n",
    "brands_and_models.plot.bar(title = \"MOST POPULAR MODEL FOR EACH OF THE TOP 10 BRANDS \", x = \"car\", y = \"count\");"
   ]
  },
  {
   "cell_type": "code",
   "execution_count": 11,
   "metadata": {},
   "outputs": [
    {
     "name": "stdout",
     "output_type": "stream",
     "text": [
      "Average number of engine variants per model: [9.85]\n",
      "Average number of models per manufacturer:  [43.05]\n"
     ]
    }
   ],
   "source": [
    "# MEDIA & VALORI DISTINTI => MEDIA # DI MOTORI ALTERNATIVI × 1 MODELLO\n",
    "# attenzione a modelli con stesso nome in due brand diversi !!! ignoriamo le differenze in trasmissione\n",
    "n_cars = len(uk_emissions[[\"manufacturer\", \"model\", \"description\"]].copy().drop_duplicates())\n",
    "n_models = len(uk_emissions[[\"manufacturer\", \"model\"]].copy().drop_duplicates())\n",
    "n_brands = len(uk_emissions[[\"manufacturer\"]].copy().drop_duplicates())\n",
    "print(\"Average number of engine variants per model: [{:.2f}]\".format(n_cars / n_models))\n",
    "print(\"Average number of models per manufacturer:  [{:.2f}]\".format(n_models / n_brands))"
   ]
  },
  {
   "cell_type": "code",
   "execution_count": 12,
   "metadata": {},
   "outputs": [
    {
     "data": {
      "image/png": "[encoded data removed]",
      "text/plain": [
       "<Figure size 640x480 with 1 Axes>"
      ]
     },
     "metadata": {},
     "output_type": "display_data"
    }
   ],
   "source": [
    "# QUARTILI => C0 EMISSIONS (Monossido di carbonio) X EURO\n",
    "quartiles_first = uk_emissions.boxplot(column = \"co_emissions\", by = \"euro_standard\", showmeans = True);\n",
    "quartiles_first.set_ylabel(\"co_emissions\");\n",
    "quartiles_first.set_title(\"\");\n",
    "plt.ylim(0, 2500);\n",
    "plt.suptitle(\"\");"
   ]
  },
  {
   "cell_type": "code",
   "execution_count": 13,
   "metadata": {},
   "outputs": [
    {
     "data": {
      "image/png": "[encoded data removed]",
      "text/plain": [
       "<Figure size 1000x1600 with 1 Axes>"
      ]
     },
     "metadata": {},
     "output_type": "display_data"
    }
   ],
   "source": [
    "# QUARTILI => C02 EMISSIONS X TAX_BAND\n",
    "quartiles_second = uk_emissions.boxplot(column = \"co2\", by = \"tax_band\", showmeans=True, figsize = (10, 16));\n",
    "quartiles_second.set_ylabel(\"co2_emissions\");\n",
    "quartiles_second.set_title(\"\");\n",
    "plt.suptitle(\"\");"
   ]
  },
  {
   "cell_type": "code",
   "execution_count": 14,
   "metadata": {},
   "outputs": [],
   "source": [
    "# DISPERSIONE & INDICI CORRELAZIONE => ANNO & NOX_EMISSIONS\n",
    "# uk_emissions.plot.scatter(\"year\", \"nox_emissions\", s=7, c=\"red\");"
   ]
  },
  {
   "cell_type": "code",
   "execution_count": 15,
   "metadata": {},
   "outputs": [
    {
     "data": {
      "image/png": "[encoded data removed]",
      "text/plain": [
       "<Figure size 640x480 with 1 Axes>"
      ]
     },
     "metadata": {},
     "output_type": "display_data"
    }
   ],
   "source": [
    "# DISPERSIONE & INDICI CORRELAZIONE => ENGINE_CAPACITY & FUEL_COST\n",
    "uk_emissions.plot.scatter(\"engine_capacity\", \"fuel_cost_6000_miles\", s=7, c=\"red\");"
   ]
  },
  {
   "cell_type": "markdown",
   "metadata": {
    "id": "b4ytHD44Vng_",
    "tags": []
   },
   "source": [
    "# Esplorazione del dataset `spain_emissions`\n",
    "### Rimozione delle righe riguardanti veicoli elettrici\n",
    "\n",
    "All'interno del dataset proveniente dal ministero spagnolo sono presenti anche dati riguardanti macchine elettriche. Questa tipologia di dato non è interessante per l'obiettivo del modello, ovvero la quantità di CO<sub>2</sub> emessa.\n",
    "\n",
    "La cella seguente analizza i valori delle righe che hanno `engine_type` \"Eléctricos puros\", estraendo solo le colonne sul minimo e massimo di consumo di litri di carburante e sul minimo e massimo di emissioni di CO<sub>2</sub> per km percorso."
   ]
  },
  {
   "cell_type": "code",
   "execution_count": 16,
   "metadata": {
    "colab": {
     "base_uri": "https://localhost:8080/"
    },
    "id": "4dBbENl8YDCh",
    "outputId": "530df867-0e02-46a3-bf20-fe99899b95e0"
   },
   "outputs": [
    {
     "data": {
      "text/plain": [
       "emissions_min_gCO2_km    True\n",
       "emissions_max_gCO2_km    True\n",
       "dtype: bool"
      ]
     },
     "execution_count": 16,
     "metadata": {},
     "output_type": "execute_result"
    }
   ],
   "source": [
    "columns = [\"emissions_min_gCO2_km\", \"emissions_max_gCO2_km\"]\n",
    "spain_emissions.loc[spain_emissions[\"engine_type\"] == \"Eléctricos puros\", columns].isna().all()"
   ]
  },
  {
   "cell_type": "markdown",
   "metadata": {
    "id": "Sm9sZvHQZPNm"
   },
   "source": [
    "Come era previdibile, tutti i valori delle emissioni di CO<sub>2</sub> per km nelle righe riguardanti i veicoli elettrici sono mancanti, quindi le rispettive righe possono essere eliminate, poichè non utili per l'addestramento del modello, il cui obiettivo è la previsione dell'emissione di CO<sub>2</sub> per veicoli a motore termico."
   ]
  },
  {
   "cell_type": "code",
   "execution_count": 17,
   "metadata": {
    "id": "a2z_hiy2aFIx"
   },
   "outputs": [
    {
     "data": {
      "text/plain": [
       "array(['Gasolina', 'Gasóleo', 'Híbridos enchufables',\n",
       "       'Híbridos de gasolina', 'Gas natural', 'Híbridos de gasóleo',\n",
       "       'Gases licuados del petróleo (GLP)', 'Pila de combustible',\n",
       "       'Autonomía extendida'], dtype=object)"
      ]
     },
     "execution_count": 17,
     "metadata": {},
     "output_type": "execute_result"
    }
   ],
   "source": [
    "electric_cars_index = spain_emissions.loc[spain_emissions[\"engine_type\"] == \"Eléctricos puros\"].index\n",
    "spain_emissions = spain_emissions.drop(electric_cars_index)\n",
    "spain_emissions[\"engine_type\"].unique()"
   ]
  },
  {
   "cell_type": "markdown",
   "metadata": {},
   "source": [
    "\n",
    "Come si può notare dall'output della cella precedente, la colonna `engine_type` non contiene il valore \"Eléctricos puros\"."
   ]
  },
  {
   "cell_type": "markdown",
   "metadata": {},
   "source": [
    "### Rimozione delle colonne contenenti solo valori `NaN`\n",
    "Nel dataset dell'emissioni di CO<sub>2</sub> proveniente dalla Spagna la colonne `type_hybrid`, `electric_consumption_kwh_100km`, `battery_capacity_kwh ` contengono solo valori `NaN`."
   ]
  },
  {
   "cell_type": "code",
   "execution_count": 18,
   "metadata": {},
   "outputs": [
    {
     "data": {
      "text/plain": [
       "True"
      ]
     },
     "execution_count": 18,
     "metadata": {},
     "output_type": "execute_result"
    }
   ],
   "source": [
    "all_nan_columns = [\"type_hybrid\", \"electric_consumption_kwh_100km\", \"battery_capacity_kwh\"]\n",
    "spain_emissions[all_nan_columns].isna().values.all()"
   ]
  },
  {
   "cell_type": "code",
   "execution_count": 19,
   "metadata": {},
   "outputs": [],
   "source": [
    "spain_emissions = spain_emissions.drop(all_nan_columns, axis=1)"
   ]
  },
  {
   "cell_type": "markdown",
   "metadata": {},
   "source": [
    "### Rimozione delle righe senza un valore valido di trasmissione\n",
    "La colonna `transmission` contiene il tipo di trasmissione del veicolo, quindi la modalità di cambio della marcia, se automatica o manuale, che nella colonna sono rispettivamente \"A\" e \"M\". L'output della prossima cella mostra che sono presenti 35 righe con valori di trasmissioni non validi, poichè nel dataset spagnolo \"SC\" sta per \"Sin clasificasion\", ovvero non classificato. Perciò le righe con valori di trasmissione non validi, essendo un numero molto ridotto, verrano eliminate."
   ]
  },
  {
   "cell_type": "code",
   "execution_count": 20,
   "metadata": {},
   "outputs": [
    {
     "data": {
      "text/plain": [
       "A     7735\n",
       "M     7337\n",
       "SC      33\n",
       "0        2\n",
       "Name: transmission, dtype: int64"
      ]
     },
     "execution_count": 20,
     "metadata": {},
     "output_type": "execute_result"
    }
   ],
   "source": [
    "spain_emissions[\"transmission\"].value_counts()"
   ]
  },
  {
   "cell_type": "code",
   "execution_count": 21,
   "metadata": {},
   "outputs": [],
   "source": [
    "valid_transmissions = spain_emissions[\"transmission\"].isin([\"A\", \"M\"])\n",
    "spain_emissions[\"transmission\"] =  spain_emissions.loc[valid_transmissions, \"transmission\"]"
   ]
  },
  {
   "cell_type": "markdown",
   "metadata": {
    "tags": []
   },
   "source": [
    "# Esplorazione del dataset `canada_emissions`"
   ]
  },
  {
   "cell_type": "markdown",
   "metadata": {
    "tags": []
   },
   "source": [
    "### Gestione dimensioni motore"
   ]
  },
  {
   "cell_type": "markdown",
   "metadata": {},
   "source": [
    "All'interno del dataset proveniente dal ministero canadese sono presenti le dimensioni in L (Litri) del motore dei vari veicoli. Decidiamo di trasformarle in cm$^3$ rinominando quindi la feature Engine_cm3."
   ]
  },
  {
   "cell_type": "code",
   "execution_count": 22,
   "metadata": {},
   "outputs": [
    {
     "data": {
      "text/html": [
       "<div>\n",
       "<style scoped>\n",
       "    .dataframe tbody tr th:only-of-type {\n",
       "        vertical-align: middle;\n",
       "    }\n",
       "\n",
       "    .dataframe tbody tr th {\n",
       "        vertical-align: top;\n",
       "    }\n",
       "\n",
       "    .dataframe thead th {\n",
       "        text-align: right;\n",
       "    }\n",
       "</style>\n",
       "<table border=\"1\" class=\"dataframe\">\n",
       "  <thead>\n",
       "    <tr style=\"text-align: right;\">\n",
       "      <th></th>\n",
       "      <th>_id</th>\n",
       "      <th>Model year</th>\n",
       "      <th>Make</th>\n",
       "      <th>Model</th>\n",
       "      <th>Vehicle class</th>\n",
       "      <th>Engine_cm3</th>\n",
       "      <th>Cylinders</th>\n",
       "      <th>Transmission</th>\n",
       "      <th>Fuel type</th>\n",
       "      <th>City (L/100 km)</th>\n",
       "      <th>Highway (L/100 km)</th>\n",
       "      <th>Combined (L/100 km)</th>\n",
       "      <th>Combined (mpg)</th>\n",
       "      <th>CO2 emissions (g/km)</th>\n",
       "    </tr>\n",
       "  </thead>\n",
       "  <tbody>\n",
       "    <tr>\n",
       "      <th>0</th>\n",
       "      <td>1</td>\n",
       "      <td>1995</td>\n",
       "      <td>Acura</td>\n",
       "      <td>Integra</td>\n",
       "      <td>Subcompact</td>\n",
       "      <td>1800.0</td>\n",
       "      <td>4</td>\n",
       "      <td>A4</td>\n",
       "      <td>X</td>\n",
       "      <td>10.2</td>\n",
       "      <td>7.0</td>\n",
       "      <td>8.8</td>\n",
       "      <td>32</td>\n",
       "      <td>202</td>\n",
       "    </tr>\n",
       "    <tr>\n",
       "      <th>1</th>\n",
       "      <td>2</td>\n",
       "      <td>1995</td>\n",
       "      <td>Acura</td>\n",
       "      <td>Integra</td>\n",
       "      <td>Subcompact</td>\n",
       "      <td>1800.0</td>\n",
       "      <td>4</td>\n",
       "      <td>M5</td>\n",
       "      <td>X</td>\n",
       "      <td>9.6</td>\n",
       "      <td>7.0</td>\n",
       "      <td>8.4</td>\n",
       "      <td>34</td>\n",
       "      <td>193</td>\n",
       "    </tr>\n",
       "    <tr>\n",
       "      <th>2</th>\n",
       "      <td>3</td>\n",
       "      <td>1995</td>\n",
       "      <td>Acura</td>\n",
       "      <td>Integra GS-R</td>\n",
       "      <td>Subcompact</td>\n",
       "      <td>1800.0</td>\n",
       "      <td>4</td>\n",
       "      <td>M5</td>\n",
       "      <td>Z</td>\n",
       "      <td>9.4</td>\n",
       "      <td>7.0</td>\n",
       "      <td>8.3</td>\n",
       "      <td>34</td>\n",
       "      <td>191</td>\n",
       "    </tr>\n",
       "    <tr>\n",
       "      <th>3</th>\n",
       "      <td>4</td>\n",
       "      <td>1995</td>\n",
       "      <td>Acura</td>\n",
       "      <td>Legend</td>\n",
       "      <td>Compact</td>\n",
       "      <td>3200.0</td>\n",
       "      <td>6</td>\n",
       "      <td>A4</td>\n",
       "      <td>Z</td>\n",
       "      <td>12.6</td>\n",
       "      <td>8.9</td>\n",
       "      <td>10.9</td>\n",
       "      <td>26</td>\n",
       "      <td>251</td>\n",
       "    </tr>\n",
       "    <tr>\n",
       "      <th>4</th>\n",
       "      <td>5</td>\n",
       "      <td>1995</td>\n",
       "      <td>Acura</td>\n",
       "      <td>Legend Coupe</td>\n",
       "      <td>Compact</td>\n",
       "      <td>3200.0</td>\n",
       "      <td>6</td>\n",
       "      <td>A4</td>\n",
       "      <td>Z</td>\n",
       "      <td>13.0</td>\n",
       "      <td>9.3</td>\n",
       "      <td>11.3</td>\n",
       "      <td>25</td>\n",
       "      <td>260</td>\n",
       "    </tr>\n",
       "  </tbody>\n",
       "</table>\n",
       "</div>"
      ],
      "text/plain": [
       "   _id  Model year   Make         Model Vehicle class  Engine_cm3  Cylinders  \\\n",
       "0    1        1995  Acura       Integra    Subcompact      1800.0          4   \n",
       "1    2        1995  Acura       Integra    Subcompact      1800.0          4   \n",
       "2    3        1995  Acura  Integra GS-R    Subcompact      1800.0          4   \n",
       "3    4        1995  Acura        Legend       Compact      3200.0          6   \n",
       "4    5        1995  Acura  Legend Coupe       Compact      3200.0          6   \n",
       "\n",
       "  Transmission Fuel type  City (L/100 km)  Highway (L/100 km)  \\\n",
       "0           A4         X             10.2                 7.0   \n",
       "1           M5         X              9.6                 7.0   \n",
       "2           M5         Z              9.4                 7.0   \n",
       "3           A4         Z             12.6                 8.9   \n",
       "4           A4         Z             13.0                 9.3   \n",
       "\n",
       "   Combined (L/100 km)  Combined (mpg)  CO2 emissions (g/km)  \n",
       "0                  8.8              32                   202  \n",
       "1                  8.4              34                   193  \n",
       "2                  8.3              34                   191  \n",
       "3                 10.9              26                   251  \n",
       "4                 11.3              25                   260  "
      ]
     },
     "execution_count": 22,
     "metadata": {},
     "output_type": "execute_result"
    }
   ],
   "source": [
    "canada_emissions = canada_emissions.rename(columns={\"Engine size (L)\": \"Engine_cm3\"})\n",
    "canada_emissions[\"Engine_cm3\"] = canada_emissions[\"Engine_cm3\"] * 1000\n",
    "canada_emissions.head(5)"
   ]
  },
  {
   "cell_type": "markdown",
   "metadata": {
    "tags": []
   },
   "source": [
    "### Trattamento valori mancanti"
   ]
  },
  {
   "cell_type": "markdown",
   "metadata": {},
   "source": [
    "Con la cella seguente verifico se il dataset contiene dei dati mancanti (nan)."
   ]
  },
  {
   "cell_type": "code",
   "execution_count": 23,
   "metadata": {},
   "outputs": [
    {
     "data": {
      "text/plain": [
       "False"
      ]
     },
     "execution_count": 23,
     "metadata": {},
     "output_type": "execute_result"
    }
   ],
   "source": [
    "canada_emissions.isna().values.any()"
   ]
  },
  {
   "cell_type": "markdown",
   "metadata": {},
   "source": [
    "Visto che il risultato è false non c'è alcun valore mancante da gestire."
   ]
  },
  {
   "cell_type": "markdown",
   "metadata": {
    "tags": []
   },
   "source": [
    "### Grafici \n",
    "Questa sezione contiene alcuni grafici che evidenziano alcuni aspetti del dataframe `canada_emissions`."
   ]
  },
  {
   "cell_type": "markdown",
   "metadata": {},
   "source": [
    "L'istogramma seguente mostra la distribuzione delle emissioni di CO$_2$ nel dataframe canadese. I valori si concentrano principalmente nell'intervallo [150,350]."
   ]
  },
  {
   "cell_type": "code",
   "execution_count": 24,
   "metadata": {},
   "outputs": [
    {
     "data": {
      "image/png": "[encoded data removed]",
      "text/plain": [
       "<Figure size 640x480 with 1 Axes>"
      ]
     },
     "metadata": {},
     "output_type": "display_data"
    }
   ],
   "source": [
    "canada_emissions[\"CO2 emissions (g/km)\"].plot.hist(bins=20,title=\"CO\\u2082 emissions distribution\");"
   ]
  },
  {
   "cell_type": "markdown",
   "metadata": {},
   "source": [
    "L'istogramma seguente mostra le dimensioni dei motori dei vari veicoli nel dataframe canadese. I valori si concentrano principalmente nell'intervallo [1500,6000]."
   ]
  },
  {
   "cell_type": "code",
   "execution_count": 25,
   "metadata": {},
   "outputs": [
    {
     "data": {
      "image/png": "[encoded data removed]",
      "text/plain": [
       "<Figure size 640x480 with 1 Axes>"
      ]
     },
     "metadata": {},
     "output_type": "display_data"
    }
   ],
   "source": [
    "canada_emissions[\"Engine_cm3\"].plot.hist(bins=20,title=\"Engine size\");"
   ]
  },
  {
   "cell_type": "markdown",
   "metadata": {},
   "source": [
    "Il seguente grafico a torta mostra il numero di cilindri (in percentuale) dei vari veicoli nel dataframe canadese. La maggior parte di essi ha 6 cilindri."
   ]
  },
  {
   "cell_type": "code",
   "execution_count": 26,
   "metadata": {},
   "outputs": [
    {
     "data": {
      "image/png": "[encoded data removed]",
      "text/plain": [
       "<Figure size 640x480 with 1 Axes>"
      ]
     },
     "metadata": {},
     "output_type": "display_data"
    }
   ],
   "source": [
    "canada_emissions[\"Cylinders\"].value_counts().plot.pie(title=\"Cylinders number\" ,autopct=\"%.2f%%\")\n",
    "plt.show()"
   ]
  },
  {
   "cell_type": "markdown",
   "metadata": {},
   "source": [
    "Il seguente grafico a barre mostra i vari tipi di veicoli presenti nel dataset canadese con la relativa frequenza."
   ]
  },
  {
   "cell_type": "code",
   "execution_count": 27,
   "metadata": {},
   "outputs": [
    {
     "data": {
      "image/png": "[encoded data removed]",
      "text/plain": [
       "<Figure size 640x480 with 1 Axes>"
      ]
     },
     "metadata": {},
     "output_type": "display_data"
    }
   ],
   "source": [
    "canada_vehicle_class = canada_emissions[\"Vehicle class\"].value_counts()\n",
    "plt.bar(canada_vehicle_class.index, canada_vehicle_class.values)\n",
    "plt.xticks(rotation='vertical')\n",
    "plt.title(\"Vehicle class\")\n",
    "plt.show()"
   ]
  },
  {
   "cell_type": "markdown",
   "metadata": {
    "id": "1LQEB6jT7pJo"
   },
   "source": [
    "# **Omogeneizzazione ed unione dei dati**\n",
    "Avendo reperito tre set di dati ciascuno da una fonte differente, sebbene questi concernano il medesimo dominio e condividano pertanto una considerevole quantità di attributi, potremmo essere erroneamente portati a compiere un troncamento delle colonne, conservando esclusivamente quelle appartenenti all'intersezione delle tre tabelle, tuttavia così facendo andremmo a trascurare il caso-limite in cui le features eliminate dovessero essere le uniche legate, attraverso un relazione non randomica, a quella indagata. Una soluzione più scrupolosa consisterebbe, al contrario, nell'**unione** degli **attributi**, colmando opportunamente le celle vuote formatesi. In effetti, come visto a lezione, i valori NAN possono essere sostituiti, tra gli altri, da (a seconda che le colonne siano di tipo categorico o numerico):\n",
    "- media\n",
    "- moda\n",
    "- mediana\n",
    "\n",
    "In aggiunta, le stesse variabili in comune, malgrado facciano riferimento allo stesso concetto, si manifestano saltuariamente sotto denominazioni diverse, ed a loro volta i valori da queste assunti potrebbero avere formato dissimile (e.g. capitalizzazione delle lettere nel caso testuale o numero di cifre significative in quello numerico). \n",
    "\n",
    "\n",
    "\n",
    "\n",
    "\n"
   ]
  },
  {
   "cell_type": "markdown",
   "metadata": {},
   "source": [
    "## Omogeneizzazione di `uk_emissions`"
   ]
  },
  {
   "cell_type": "code",
   "execution_count": 28,
   "metadata": {},
   "outputs": [],
   "source": [
    "uk_emissions = uk_emissions.drop(columns = [\"file\", \"description\", \"euro_standard\", \"tax_band\", \"transmission\", \"urban_metric\", \n",
    "                                            \"extra_urban_metric\", \"urban_imperial\", \"extra_urban_imperial\", \"combined_imperial\", \n",
    "                                            \"noise_level\", \"thc_emissions\", \"co_emissions\", \"nox_emissions\", \"thc_nox_emissions\",\n",
    "                                            \"particulates_emissions\", \"fuel_cost_12000_miles\", \"fuel_cost_6000_miles\", \"standard_12_months\", \n",
    "                                            \"standard_6_months\", \"first_year_12_months\", \"first_year_6_months\", \"date_of_change\"])"
   ]
  },
  {
   "cell_type": "code",
   "execution_count": 29,
   "metadata": {},
   "outputs": [],
   "source": [
    "uk_emissions.columns = uk_emissions.columns.str.capitalize()\n",
    "uk_emissions.rename(columns = {\"Engine_capacity\" : \"Engine_cm3\", \n",
    "                               \"Combined_metric\" : \"Fuel_consumption\", \n",
    "                               \"Co2\" : \"CO2_Emissions\"}, inplace = True)"
   ]
  },
  {
   "cell_type": "code",
   "execution_count": 30,
   "metadata": {},
   "outputs": [
    {
     "data": {
      "text/html": [
       "<div>\n",
       "<style scoped>\n",
       "    .dataframe tbody tr th:only-of-type {\n",
       "        vertical-align: middle;\n",
       "    }\n",
       "\n",
       "    .dataframe tbody tr th {\n",
       "        vertical-align: top;\n",
       "    }\n",
       "\n",
       "    .dataframe thead th {\n",
       "        text-align: right;\n",
       "    }\n",
       "</style>\n",
       "<table border=\"1\" class=\"dataframe\">\n",
       "  <thead>\n",
       "    <tr style=\"text-align: right;\">\n",
       "      <th></th>\n",
       "      <th>Year</th>\n",
       "      <th>Manufacturer</th>\n",
       "      <th>Model</th>\n",
       "      <th>Transmission_type</th>\n",
       "      <th>Engine_cm3</th>\n",
       "      <th>Fuel_type</th>\n",
       "      <th>Fuel_consumption</th>\n",
       "      <th>CO2_Emissions</th>\n",
       "    </tr>\n",
       "  </thead>\n",
       "  <tbody>\n",
       "    <tr>\n",
       "      <th>0</th>\n",
       "      <td>2000</td>\n",
       "      <td>Alfa Romeo</td>\n",
       "      <td>145</td>\n",
       "      <td>Manual</td>\n",
       "      <td>1598.0</td>\n",
       "      <td>Petrol</td>\n",
       "      <td>8.2</td>\n",
       "      <td>195</td>\n",
       "    </tr>\n",
       "    <tr>\n",
       "      <th>1</th>\n",
       "      <td>2000</td>\n",
       "      <td>Alfa Romeo</td>\n",
       "      <td>145</td>\n",
       "      <td>Manual</td>\n",
       "      <td>1747.0</td>\n",
       "      <td>Petrol</td>\n",
       "      <td>8.4</td>\n",
       "      <td>200</td>\n",
       "    </tr>\n",
       "    <tr>\n",
       "      <th>2</th>\n",
       "      <td>2000</td>\n",
       "      <td>Alfa Romeo</td>\n",
       "      <td>145</td>\n",
       "      <td>Manual</td>\n",
       "      <td>1970.0</td>\n",
       "      <td>Petrol</td>\n",
       "      <td>8.8</td>\n",
       "      <td>210</td>\n",
       "    </tr>\n",
       "    <tr>\n",
       "      <th>3</th>\n",
       "      <td>2000</td>\n",
       "      <td>Alfa Romeo</td>\n",
       "      <td>146</td>\n",
       "      <td>Manual</td>\n",
       "      <td>1598.0</td>\n",
       "      <td>Petrol</td>\n",
       "      <td>8.3</td>\n",
       "      <td>195</td>\n",
       "    </tr>\n",
       "    <tr>\n",
       "      <th>4</th>\n",
       "      <td>2000</td>\n",
       "      <td>Alfa Romeo</td>\n",
       "      <td>146</td>\n",
       "      <td>Manual</td>\n",
       "      <td>1747.0</td>\n",
       "      <td>Petrol</td>\n",
       "      <td>8.4</td>\n",
       "      <td>200</td>\n",
       "    </tr>\n",
       "    <tr>\n",
       "      <th>...</th>\n",
       "      <td>...</td>\n",
       "      <td>...</td>\n",
       "      <td>...</td>\n",
       "      <td>...</td>\n",
       "      <td>...</td>\n",
       "      <td>...</td>\n",
       "      <td>...</td>\n",
       "      <td>...</td>\n",
       "    </tr>\n",
       "    <tr>\n",
       "      <th>45173</th>\n",
       "      <td>2013</td>\n",
       "      <td>Volvo</td>\n",
       "      <td>XC70</td>\n",
       "      <td>Automatic</td>\n",
       "      <td>2400.0</td>\n",
       "      <td>Diesel</td>\n",
       "      <td>6.4</td>\n",
       "      <td>169</td>\n",
       "    </tr>\n",
       "    <tr>\n",
       "      <th>45174</th>\n",
       "      <td>2013</td>\n",
       "      <td>Volvo</td>\n",
       "      <td>XC70</td>\n",
       "      <td>Automatic</td>\n",
       "      <td>2953.0</td>\n",
       "      <td>Petrol</td>\n",
       "      <td>10.6</td>\n",
       "      <td>248</td>\n",
       "    </tr>\n",
       "    <tr>\n",
       "      <th>45175</th>\n",
       "      <td>2013</td>\n",
       "      <td>Volvo</td>\n",
       "      <td>XC90</td>\n",
       "      <td>Automatic</td>\n",
       "      <td>2400.0</td>\n",
       "      <td>Diesel</td>\n",
       "      <td>8.3</td>\n",
       "      <td>219</td>\n",
       "    </tr>\n",
       "    <tr>\n",
       "      <th>45176</th>\n",
       "      <td>2013</td>\n",
       "      <td>Volvo</td>\n",
       "      <td>XC90</td>\n",
       "      <td>Automatic</td>\n",
       "      <td>2400.0</td>\n",
       "      <td>Diesel</td>\n",
       "      <td>8.2</td>\n",
       "      <td>215</td>\n",
       "    </tr>\n",
       "    <tr>\n",
       "      <th>45177</th>\n",
       "      <td>2013</td>\n",
       "      <td>Volvo</td>\n",
       "      <td>XC90</td>\n",
       "      <td>Automatic</td>\n",
       "      <td>2400.0</td>\n",
       "      <td>Diesel</td>\n",
       "      <td>8.2</td>\n",
       "      <td>215</td>\n",
       "    </tr>\n",
       "  </tbody>\n",
       "</table>\n",
       "<p>45170 rows × 8 columns</p>\n",
       "</div>"
      ],
      "text/plain": [
       "       Year Manufacturer Model Transmission_type  Engine_cm3 Fuel_type  \\\n",
       "0      2000   Alfa Romeo   145            Manual      1598.0    Petrol   \n",
       "1      2000   Alfa Romeo   145            Manual      1747.0    Petrol   \n",
       "2      2000   Alfa Romeo   145            Manual      1970.0    Petrol   \n",
       "3      2000   Alfa Romeo   146            Manual      1598.0    Petrol   \n",
       "4      2000   Alfa Romeo   146            Manual      1747.0    Petrol   \n",
       "...     ...          ...   ...               ...         ...       ...   \n",
       "45173  2013        Volvo  XC70         Automatic      2400.0    Diesel   \n",
       "45174  2013        Volvo  XC70         Automatic      2953.0    Petrol   \n",
       "45175  2013        Volvo  XC90         Automatic      2400.0    Diesel   \n",
       "45176  2013        Volvo  XC90         Automatic      2400.0    Diesel   \n",
       "45177  2013        Volvo  XC90         Automatic      2400.0    Diesel   \n",
       "\n",
       "       Fuel_consumption  CO2_Emissions  \n",
       "0                   8.2            195  \n",
       "1                   8.4            200  \n",
       "2                   8.8            210  \n",
       "3                   8.3            195  \n",
       "4                   8.4            200  \n",
       "...                 ...            ...  \n",
       "45173               6.4            169  \n",
       "45174              10.6            248  \n",
       "45175               8.3            219  \n",
       "45176               8.2            215  \n",
       "45177               8.2            215  \n",
       "\n",
       "[45170 rows x 8 columns]"
      ]
     },
     "execution_count": 30,
     "metadata": {},
     "output_type": "execute_result"
    }
   ],
   "source": [
    "uk_emissions.dropna(inplace = True)\n",
    "uk_emissions[\"Model\"] = uk_emissions[\"Model\"].replace(\"[\\(\\[].*?[\\)\\]]\", \"\", regex = True)\n",
    "uk_emissions[\"Model\"] = uk_emissions.apply(lambda row : row[\"Model\"].replace(str(row[\"Manufacturer\"]), ''), axis=1)\n",
    "uk_emissions[\"Model\"] = uk_emissions[\"Model\"].str.split(\" \").str[0].str.replace(\",\", \"\")\n",
    "uk_emissions"
   ]
  },
  {
   "cell_type": "markdown",
   "metadata": {},
   "source": [
    "## Omogeneizzazione di `spain_emissions`"
   ]
  },
  {
   "cell_type": "markdown",
   "metadata": {
    "tags": []
   },
   "source": [
    "### Traduzione spagnolo-inglese \n",
    "Il dataset proveniente dalla Spagna contiene due colonne in spagnolo, `engine_type` e `market_segment`. Quindi è necessaria una traduzione dallo spagnolo all'inglese per entrambe le colonne, così da adattarle agli altri due dataset."
   ]
  },
  {
   "cell_type": "markdown",
   "metadata": {},
   "source": [
    "Definisco una funzione per sostituire i valori di una colonna di un dataframe con dei nuovi valori passati come argomento, in questo caso la rispettiva traduzione in inglese, tramite una funzione di mapping fornita da pandas."
   ]
  },
  {
   "cell_type": "code",
   "execution_count": 31,
   "metadata": {},
   "outputs": [],
   "source": [
    "def get_column_mapped_values(column, new_values):\n",
    "    mapping = dict(zip(column.unique(), new_values))\n",
    "    return column.map(mapping)"
   ]
  },
  {
   "cell_type": "code",
   "execution_count": 32,
   "metadata": {},
   "outputs": [],
   "source": [
    "#Traduzione della colonna engine_type\n",
    "spanish_engine_type = spain_emissions[\"engine_type\"].unique()\n",
    "english_engine_type = [\"Petrol\", \"Diesel\", \"Plug-in hybrid\", \"Petrol hybrid\", \"Natural gas\", \n",
    "                       \"Diesel Hybrid\", \"Liquefied petroleum gas(LPG)\", \"Fuel cell\", \"Extended range\"]\n",
    "\n",
    "spain_emissions[\"engine_type\"] = get_column_mapped_values(spain_emissions[\"engine_type\"], english_engine_type)"
   ]
  },
  {
   "cell_type": "markdown",
   "metadata": {},
   "source": [
    "Per la traduzione della colonna `market_segment` si fa riferimento al dataset canadese, il quale contiene una colonna per la classificazione dei veicoli, `Vehicle class`.\n"
   ]
  },
  {
   "cell_type": "code",
   "execution_count": 33,
   "metadata": {},
   "outputs": [
    {
     "data": {
      "text/plain": [
       "array(['Subcompact', 'Compact', 'Two-seater', 'Station wagon: Small',\n",
       "       'Minicompact', 'Mid-size', 'Full-size', 'Station wagon: Mid-size',\n",
       "       'Van: Cargo', 'Van: Passenger', 'Pickup truck: Standard',\n",
       "       'Sport utility vehicle', 'Minivan', 'Pickup truck: Small',\n",
       "       'Special purpose vehicle', 'Sport utility vehicle: Small',\n",
       "       'Sport utility vehicle: Standard'], dtype=object)"
      ]
     },
     "execution_count": 33,
     "metadata": {},
     "output_type": "execute_result"
    }
   ],
   "source": [
    "canada_emissions[\"Vehicle class\"].unique()"
   ]
  },
  {
   "cell_type": "code",
   "execution_count": 34,
   "metadata": {},
   "outputs": [],
   "source": [
    "#Traduzione della colonna market_segment\n",
    "english_market_segment = [\"Minicompact\", \"Compact\", \"Small off-road\", \"Mid-size\", \"Sport utility vehicle\", \"Full-size\", \n",
    "                          \"Mid-size off-road\", \"Full-size off-road\", \"Minivan\", \"Luxury\", \"Minivan\", \"Van: Passenger\"] \\\n",
    "                        + ([\"Van: Cargo\"] * 2) + ([\"Lorry\"] * 7)\n",
    "\n",
    "spain_emissions[\"market_segment\"] = get_column_mapped_values(spain_emissions[\"market_segment\"], english_market_segment)"
   ]
  },
  {
   "cell_type": "markdown",
   "metadata": {},
   "source": [
    "### Calcolo medie del consumo di carburante e delle emissioni di CO<sub>2</sub>\n",
    "Sia per il consumo di carburante che per le emissioni di CO<sub>2</sub> sono presenti i valori di minimo, di massimo e la media\n",
    "WLTP (<i>Worldwide harmonized Light vehicles Test Procedure</i>), ovvero le misure ottenute dal test standard a livello mondiale per il controllo delle emissioni e dei consumi dei veicoli.\n",
    "Da questi tre valori ne verrà calcolata la media così da avere una sola colonna per i consumi di carburante e una sola colonna per i consumi di CO<sub>2</sub>, la variabile target da predire."
   ]
  },
  {
   "cell_type": "markdown",
   "metadata": {},
   "source": [
    "Prima di poter precedere è necessario controllare che in tutte le righe del dataframe sia presente almeno uno dei tre valori richiesti e che sia diverso da 0, sia per calcolare la media del consumo che delle emissioni.\n",
    "<br>Nella cella successiva si può vedere esattamente in quante righe sono mancanti questi valori necessari."
   ]
  },
  {
   "cell_type": "code",
   "execution_count": 35,
   "metadata": {},
   "outputs": [],
   "source": [
    "def isnaOrIsZero(dataframe):\n",
    "    return dataframe.isna() | dataframe.eq(0)"
   ]
  },
  {
   "cell_type": "code",
   "execution_count": 36,
   "metadata": {},
   "outputs": [
    {
     "name": "stdout",
     "output_type": "stream",
     "text": [
      "Rows with no consumption_l_100km: 1560\n",
      "Rows with no emissions_gCO2_km: 1562\n",
      "Rows with no emissions_gCO2_km and no consumption_l_km: 1560\n"
     ]
    }
   ],
   "source": [
    "consumption_columns = [\"consumption_min_l_100km\", \"consumption_max_l_100km\", \"avg_wltp_consumption_l_100km\"]\n",
    "emissions_columns = [\"emissions_min_gCO2_km\", \"emissions_max_gCO2_km\", \"avg_wltp_emissions_gCO2_km\"]\n",
    "\n",
    "rows_no_consumption = isnaOrIsZero(spain_emissions[consumption_columns]).all(axis=1)\n",
    "number_rows_missing_consumption = rows_no_consumption.sum()\n",
    "print(\"Rows with no consumption_l_100km:\", number_rows_missing_consumption)\n",
    "\n",
    "rows_no_emissions = isnaOrIsZero(spain_emissions[emissions_columns]).all(axis=1)\n",
    "number_rows_missing_emissions = rows_no_emissions.sum()\n",
    "print(\"Rows with no emissions_gCO2_km:\", number_rows_missing_emissions)\n",
    "\n",
    "rows_no_emissions_consumptions = (rows_no_consumption & rows_no_emissions)\n",
    "number_rows_missing_emissions_consumptions = rows_no_emissions_consumptions.sum()\n",
    "print(\"Rows with no emissions_gCO2_km and no consumption_l_km:\", number_rows_missing_emissions_consumptions)"
   ]
  },
  {
   "cell_type": "markdown",
   "metadata": {},
   "source": [
    "Come riportato nell'output della cella precedente, ci sono <strong>1560</strong> righe senza alcun valore di consumo di carburante, <strong>1562</strong> righe senza alcun valore di emissioni di CO<sub>2</sub> e <strong>1560</strong> in cui è assente sia il consumo di carburante che le emissioni di CO<sub>2</sub>. <br> \n",
    "Nella cella successiva vengono calcolate le medie di carburante ed emissioni di ciascuna riga e vengono inserite in due nuove colonne `consumption_l_100km`, `emissions_gCO2_km`. <br>"
   ]
  },
  {
   "cell_type": "code",
   "execution_count": 37,
   "metadata": {},
   "outputs": [],
   "source": [
    "mean_consumption = \"consumption_l_100km\"\n",
    "mean_emissions = \"emissions_gCO2_km\"\n",
    "spain_emissions[mean_consumption] = spain_emissions[consumption_columns].mean(axis=1)\n",
    "spain_emissions[mean_emissions] = spain_emissions[emissions_columns].mean(axis=1)"
   ]
  },
  {
   "cell_type": "code",
   "execution_count": 38,
   "metadata": {},
   "outputs": [],
   "source": [
    "spain_emissions = spain_emissions.drop(consumption_columns + emissions_columns, axis=1)"
   ]
  },
  {
   "cell_type": "markdown",
   "metadata": {},
   "source": [
    "Quindi vengono sostituiti i valori mancanti e i valori posti a 0, poichè considerati anch'essi mancanti, siccome le categorie di veicoli considerate dovrebbero presentare dei consumi di carburante e delle emissioni di CO<sub>2</sub> positivi. <br>\n",
    "La cella successiva mostra le categorie di veicoli in cui sono assenti sia i consumi di carburante che le emissioni. Le due categorie con più occorrenze sono i \"Van: Cargo\" e \"Lorry\", due mezzi molto pesanti e con valori differenti rispetto ad altre categorie, quindi sarebbe più corretto riempire i valori assenti o posti a 0, con i mediani delle due rispettive categorie. Mentre per le restanti categorie si può utilizzare direttamente il mediano di tutta la colonna."
   ]
  },
  {
   "cell_type": "code",
   "execution_count": 39,
   "metadata": {},
   "outputs": [
    {
     "data": {
      "text/plain": [
       "Van: Cargo            1202\n",
       "Lorry                  327\n",
       "Luxury                  15\n",
       "Full-size off-road       9\n",
       "Van: Passenger           3\n",
       "Name: market_segment, dtype: int64"
      ]
     },
     "execution_count": 39,
     "metadata": {},
     "output_type": "execute_result"
    }
   ],
   "source": [
    "most_missing_market_segments = spain_emissions.loc[rows_no_emissions_consumptions, \"market_segment\"].value_counts()[:5]\n",
    "most_missing_market_segments"
   ]
  },
  {
   "cell_type": "markdown",
   "metadata": {},
   "source": [
    "Le celle successive evidenziano la necessità di usare, come valore per riempire i valori NaN o posti a 0 delle categorie di veicoli \"Van: Cargo\" e \"Lorry\", i rispettivi mediani, anzichè usare direttamente il mediano di tutta la colonna, vista l'ampia differenza causata dalla presenza di veicoli di diverse dimensioni e consumi."
   ]
  },
  {
   "cell_type": "code",
   "execution_count": 40,
   "metadata": {},
   "outputs": [],
   "source": [
    "columns = [mean_consumption, mean_emissions]\n",
    "market_segments = [\"Van: Cargo\", \"Lorry\"]"
   ]
  },
  {
   "cell_type": "code",
   "execution_count": 41,
   "metadata": {},
   "outputs": [],
   "source": [
    "all_median = pd.DataFrame(spain_emissions[columns].median(), columns = [\"All\"]).T\n",
    "van_cargo_lorries = spain_emissions.loc[spain_emissions[\"market_segment\"].isin(market_segments), [\"market_segment\"] + columns]\n",
    "van_cargo_lorries_median = van_cargo_lorries[van_cargo_lorries.ne(0)].groupby(\"market_segment\").median()"
   ]
  },
  {
   "cell_type": "code",
   "execution_count": 42,
   "metadata": {},
   "outputs": [
    {
     "data": {
      "text/html": [
       "<style type=\"text/css\">\n",
       "</style>\n",
       "<table id=\"T_55a97\">\n",
       "  <caption>Market segments medians</caption>\n",
       "  <thead>\n",
       "    <tr>\n",
       "      <th class=\"blank level0\" >&nbsp;</th>\n",
       "      <th id=\"T_55a97_level0_col0\" class=\"col_heading level0 col0\" >consumption_l_100km</th>\n",
       "      <th id=\"T_55a97_level0_col1\" class=\"col_heading level0 col1\" >emissions_gCO2_km</th>\n",
       "    </tr>\n",
       "  </thead>\n",
       "  <tbody>\n",
       "    <tr>\n",
       "      <th id=\"T_55a97_level0_row0\" class=\"row_heading level0 row0\" >All</th>\n",
       "      <td id=\"T_55a97_row0_col0\" class=\"data row0 col0\" >6.000000</td>\n",
       "      <td id=\"T_55a97_row0_col1\" class=\"data row0 col1\" >141.000000</td>\n",
       "    </tr>\n",
       "    <tr>\n",
       "      <th id=\"T_55a97_level0_row1\" class=\"row_heading level0 row1\" >Lorry</th>\n",
       "      <td id=\"T_55a97_row1_col0\" class=\"data row1 col0\" >7.900000</td>\n",
       "      <td id=\"T_55a97_row1_col1\" class=\"data row1 col1\" >203.333333</td>\n",
       "    </tr>\n",
       "    <tr>\n",
       "      <th id=\"T_55a97_level0_row2\" class=\"row_heading level0 row2\" >Van: Cargo</th>\n",
       "      <td id=\"T_55a97_row2_col0\" class=\"data row2 col0\" >7.950000</td>\n",
       "      <td id=\"T_55a97_row2_col1\" class=\"data row2 col1\" >196.083333</td>\n",
       "    </tr>\n",
       "  </tbody>\n",
       "</table>\n"
      ],
      "text/plain": [
       "<pandas.io.formats.style.Styler at 0x1f23e824c10>"
      ]
     },
     "execution_count": 42,
     "metadata": {},
     "output_type": "execute_result"
    }
   ],
   "source": [
    "pd.concat([all_median, van_cargo_lorries_median]).style.set_caption(\"Market segments medians\")"
   ]
  },
  {
   "cell_type": "code",
   "execution_count": 43,
   "metadata": {},
   "outputs": [],
   "source": [
    "def fillnaZeroes(market_segment, columns):\n",
    "    vehicles = spain_emissions.loc[spain_emissions[\"market_segment\"] == market_segment, columns].replace(0, np.nan)\n",
    "    vehicles = vehicles.fillna(vehicles.median())\n",
    "    return vehicles"
   ]
  },
  {
   "cell_type": "code",
   "execution_count": 44,
   "metadata": {},
   "outputs": [],
   "source": [
    "for market_segment in market_segments:\n",
    "    spain_emissions.loc[spain_emissions[\"market_segment\"] == market_segment, columns] = fillnaZeroes(market_segment, columns)"
   ]
  },
  {
   "cell_type": "code",
   "execution_count": 45,
   "metadata": {},
   "outputs": [],
   "source": [
    "other_market_segments = set(spain_emissions[\"market_segment\"].unique()) - set(market_segments)\n",
    "spain_emissions[columns] = spain_emissions[columns].replace(0, np.nan).fillna(spain_emissions[columns].median())"
   ]
  },
  {
   "cell_type": "markdown",
   "metadata": {},
   "source": [
    "### Utilizzo di valori espliciti per il tipo di trasmissione\n",
    "Il dataset spagnolo per indicare la tipologia di trasmissione utilizza solamente \"A\" e \"M\". Per adattarlo agli altri dataset e per renderlo più chiaro si è deciso di mappare i rispettivi valori con la versione estesa, ovvero \"Automatic\", \"Manual\"."
   ]
  },
  {
   "cell_type": "code",
   "execution_count": 46,
   "metadata": {},
   "outputs": [],
   "source": [
    "renaming_dict = {\"A\": \"Automatic\", \"M\": \"Manual\"}\n",
    "spain_emissions[\"transmission\"] = spain_emissions[\"transmission\"].map(renaming_dict)"
   ]
  },
  {
   "cell_type": "markdown",
   "metadata": {},
   "source": [
    "### Inserimento dell'anno del modello del veicolo\n",
    "I dataset canadesi e britannici presentano entrambi una colonna per l'anno del modello(`Model year` in `canada_emissions` e `year` in `uk_emissions`), una feature che può essere importante per la predezioni delle emissioni prodotte. Quindi a partire dagli altri due dataset, viene estratta la colonna dell'anno."
   ]
  },
  {
   "cell_type": "markdown",
   "metadata": {},
   "source": [
    "Prima di procedere all'inserimento è necessario un adattamento della colonna `model`, poichè nel dataset `spain_emissions` ciascun valore è formato dal nome della casa automobilistica, ovvero il valore della colonna `make`, dal nome effettivo del modello e da altre informazioni aggiuntive sul modello. Quindi, si procede all'eliminazione della casa automobilistica e delle informazioni aggiuntive per adattarlo alla colonna del modello degli altri due dataset."
   ]
  },
  {
   "cell_type": "markdown",
   "metadata": {},
   "source": [
    "La prossime due celle rimuovono suffissi non presenti negli altri due dataset, eliminando le parole contenute nella variabile locale `useless_words`."
   ]
  },
  {
   "cell_type": "code",
   "execution_count": 47,
   "metadata": {},
   "outputs": [],
   "source": [
    "useless_words = {\"Canarias\", \"Vehículos\", \"Turismos\", \"Comerciales\", \"Nuevo\", \"NUEVO\", \"Turismos\"}\n",
    "# Per rimuovere suffissi fuorvianti, non presenti negli altri dataset, nei nomi delle case automobilistiche\n",
    "def remove_useless_suffix(make):\n",
    "    make_words = make.split()\n",
    "    make_words = set(make_words) - useless_words\n",
    "    return \" \".join(make_words)"
   ]
  },
  {
   "cell_type": "code",
   "execution_count": 48,
   "metadata": {},
   "outputs": [],
   "source": [
    "spain_emissions[\"make\"] = spain_emissions[\"make\"].apply(remove_useless_suffix)"
   ]
  },
  {
   "cell_type": "markdown",
   "metadata": {},
   "source": [
    "Di seguito, l'adattamento del nome del modello eliminando la casa automobilistica e le informazioni aggiuntive."
   ]
  },
  {
   "cell_type": "code",
   "execution_count": 49,
   "metadata": {},
   "outputs": [],
   "source": [
    "# Per rimuovere il nome della casa automobilistica e le informazioni aggiuntive dal nome del modello\n",
    "def remove_manufacturer_and_addional_info(make_model):\n",
    "    make = make_model[\"make\"]\n",
    "    model = make_model[\"model\"]\n",
    "    removedManufacturer = model.replace(make, \"\").split()\n",
    "    model = [word for word in removedManufacturer if word not in useless_words][0]\n",
    "    return model"
   ]
  },
  {
   "cell_type": "code",
   "execution_count": 50,
   "metadata": {},
   "outputs": [],
   "source": [
    "spain_emissions[\"model\"] = spain_emissions[[\"make\", \"model\"]].apply(remove_manufacturer_and_addional_info, axis=1)"
   ]
  },
  {
   "cell_type": "markdown",
   "metadata": {},
   "source": [
    "Dopo l'adattamento del nome della casa automobilistica e del nome del modello del veicolo, si può procedere all'effettivo inserimento dell'anno in base ai valori dell'anno nei dataset `uk_emissions` e `canada_emissions`. I valori dell'anno che risultano non presenti a seguito del join con `uk_emissions` verranno prelevati dal secondo dataset `canada_emissions`. In caso dei valori risultassero ancora mancanti, tali righe verranno scartate dal dataset, poichè prive di un'informazione rilevante ai fini dell'addestramento del modello."
   ]
  },
  {
   "cell_type": "code",
   "execution_count": 51,
   "metadata": {},
   "outputs": [],
   "source": [
    "spain_emissions = (\n",
    "    pd.merge(\n",
    "        spain_emissions,\n",
    "        uk_emissions[[\"Manufacturer\", \"Model\", \"Year\"]],\n",
    "        how = \"left\",\n",
    "        left_on = [\"make\", \"model\"],\n",
    "        right_on =  [\"Manufacturer\", \"Model\"]\n",
    "    )\n",
    "    .drop_duplicates()\n",
    ")[list(spain_emissions.columns) + [\"Year\"]]"
   ]
  },
  {
   "cell_type": "code",
   "execution_count": 52,
   "metadata": {},
   "outputs": [],
   "source": [
    "spain_emissions_year_na = spain_emissions[spain_emissions[\"Year\"].isna()].drop(\"Year\", axis=1)\n",
    "spain_emissions_year_canada = (\n",
    "    pd.merge(\n",
    "        spain_emissions_year_na,\n",
    "        canada_emissions[[\"Make\", \"Model\", \"Model year\"]],\n",
    "        how = \"left\",\n",
    "        left_on = [\"make\", \"model\"],\n",
    "        right_on =  [\"Make\", \"Model\"]\n",
    "    )\n",
    "    .drop_duplicates()\n",
    "    .rename(columns = {\"Model year\": \"Year\"})\n",
    ")[list(spain_emissions.columns)]"
   ]
  },
  {
   "cell_type": "markdown",
   "metadata": {},
   "source": [
    "La cella a seguire inserisce i valori dell'anno ottenuti dal join con `canada_emissions` al posto dei valori mancanti a seguito del join con `uk_emissions`. Infine, le righe in cui la colonna `year` risulta ancora mancante dopo i due join verranno scartate.   "
   ]
  },
  {
   "cell_type": "code",
   "execution_count": 53,
   "metadata": {},
   "outputs": [],
   "source": [
    "spain_emissions[\"Year\"] = spain_emissions[\"Year\"].fillna(spain_emissions_year_canada[\"Year\"])\n",
    "spain_emissions = spain_emissions.dropna()"
   ]
  },
  {
   "cell_type": "markdown",
   "metadata": {},
   "source": [
    "### Grafici di `spain_emissions`\n",
    "Questa sezione contiene alcuni grafici che evidenziano alcuni aspetti del dataframe risultante `spain_emissions`.value_countsunique"
   ]
  },
  {
   "cell_type": "markdown",
   "metadata": {},
   "source": [
    "L'istogramma seguente mostra la distribuzione delle emissioni di CO<sub>2</sub> nel dataset spagnolo. I valori si concentrano principalmente nell'intervallo [100, 200]."
   ]
  },
  {
   "cell_type": "code",
   "execution_count": 54,
   "metadata": {},
   "outputs": [
    {
     "data": {
      "image/png": "[encoded data removed]",
      "text/plain": [
       "<Figure size 640x480 with 1 Axes>"
      ]
     },
     "metadata": {},
     "output_type": "display_data"
    }
   ],
   "source": [
    "spain_emissions[\"emissions_gCO2_km\"].plot.hist(bins=20,title=\"CO\\u2082 emissions distribution\");"
   ]
  },
  {
   "cell_type": "markdown",
   "metadata": {},
   "source": [
    "Il seguente grafico mostra la correlazione tra il consumo di carburante e le emissioni di CO<sub>2</sub>. Si evince che esiste una dipendenza tra i due valori, fatta eccezione per alcuni punti. "
   ]
  },
  {
   "cell_type": "code",
   "execution_count": 55,
   "metadata": {},
   "outputs": [
    {
     "data": {
      "image/png": "[encoded data removed]",
      "text/plain": [
       "<Figure size 640x480 with 1 Axes>"
      ]
     },
     "metadata": {},
     "output_type": "display_data"
    }
   ],
   "source": [
    "spain_emissions.plot.scatter(\"consumption_l_100km\", \"emissions_gCO2_km\", title=\"Fuel consumption and CO\\u2082 emissions correlation\");"
   ]
  },
  {
   "cell_type": "markdown",
   "metadata": {},
   "source": [
    "Nel grafico a torta è rappresentata la distribuzione delle categorie di veicoli. Una metà è occupata da sole 4 categorie, mentre le altre 9 si spartiscono il restante 50%."
   ]
  },
  {
   "cell_type": "code",
   "execution_count": 56,
   "metadata": {},
   "outputs": [
    {
     "data": {
      "image/png": "[encoded data removed]",
      "text/plain": [
       "<Figure size 600x600 with 1 Axes>"
      ]
     },
     "metadata": {},
     "output_type": "display_data"
    }
   ],
   "source": [
    "spain_emissions[\"market_segment\"].value_counts().plot.pie(autopct=\"%.2f%%\", title=\"Market segments distribution\", label=\"\", figsize=(6,6));"
   ]
  },
  {
   "cell_type": "markdown",
   "metadata": {},
   "source": [
    "Nel seguente grafico è mostrata la relazione tra ciascuna categoria di veicoli e le emissioni di CO<sub>2</sub> corrispondenti. Sono presenti molti outlier sia nella parte inferiore che nella parte superiore di ciascun boxplot. Si può notare come i le medie dei valori di veicoli più pesanti e più inquinanti come \"Lorry\", \"Van: Cargo\" e \"Luxury\" siano molto più alti delle medie dei valori corrispondenti ai veicoli più leggeri e meno inquinanti come \"Compact\", \"Minicompact\" e \"Mid-size\". Questa osservazione è vera solo per le medie e i mediani, siccome i valori di ciascun boxplot coprono una buona parte dell'asse y, quindi alcuni veicoli \"Compact\" hanno valori più alti di alcuni \"Lorry\"."
   ]
  },
  {
   "cell_type": "code",
   "execution_count": 57,
   "metadata": {},
   "outputs": [
    {
     "data": {
      "image/png": "[encoded data removed]",
      "text/plain": [
       "<Figure size 1800x600 with 1 Axes>"
      ]
     },
     "metadata": {},
     "output_type": "display_data"
    }
   ],
   "source": [
    "spain_emissions.boxplot(column=\"emissions_gCO2_km\", by=\"market_segment\", showmeans=True, figsize=(18, 6)).set_title(\"CO\\u2082 emissions grouped by market segment\");"
   ]
  },
  {
   "cell_type": "markdown",
   "metadata": {},
   "source": [
    "Mentre nel grafico successivo vengono mostrati gli stessi valori, ma in relazione alla tipologia di motore. Quasi tutti boxplot hanno i valori di media e mediana che si assestano tra 150 e 200, presentando però anche in questo caso molti outlier."
   ]
  },
  {
   "cell_type": "code",
   "execution_count": 58,
   "metadata": {},
   "outputs": [
    {
     "data": {
      "image/png": "[encoded data removed]",
      "text/plain": [
       "<Figure size 1800x600 with 1 Axes>"
      ]
     },
     "metadata": {},
     "output_type": "display_data"
    }
   ],
   "source": [
    "spain_emissions.boxplot(column=\"emissions_gCO2_km\", by=\"engine_type\", showmeans=True, figsize=(18, 6)).set_title(\"CO\\u2082 emissions grouped by market engine type\");"
   ]
  },
  {
   "cell_type": "markdown",
   "metadata": {},
   "source": [
    "### Scelta delle colonne di `spain_emissions` per l'addestramento\n",
    "Questa ultima parte dell'omogeneizzazione di `spain_emissions` seleziona solo le colonne utilizzate nell'addestramento rinominandole e facendo le ultime modifiche ai valori delle colonne, in modo da utilizzare uno standard comune agli altri dataset."
   ]
  },
  {
   "cell_type": "code",
   "execution_count": 59,
   "metadata": {},
   "outputs": [],
   "source": [
    "old_columns = [\"Year\", \"make\", \"model\", \"engine_displacement_cm3\", \"consumption_l_100km\", \"engine_type\", \"emissions_gCO2_km\", \"transmission\"] \n",
    "new_columns = [\"Year\", \"Manufacturer\", \"Model\", \"Engine_cm3\", \"Fuel_consumption\", \"Fuel_type\", \"CO2_Emissions\", \"Transmission_type\"]\n",
    "columns_dict = dict(zip(old_columns, new_columns))"
   ]
  },
  {
   "cell_type": "code",
   "execution_count": 60,
   "metadata": {},
   "outputs": [],
   "source": [
    "spain_emissions = spain_emissions[old_columns].rename(columns = columns_dict)"
   ]
  },
  {
   "cell_type": "markdown",
   "metadata": {},
   "source": [
    "Da questo punto in poi, Liquefied Petroleum Gas (LPG) verrà semplicemente sostituito con LPG."
   ]
  },
  {
   "cell_type": "code",
   "execution_count": 61,
   "metadata": {},
   "outputs": [],
   "source": [
    "spain_emissions[\"Fuel_type\"] = spain_emissions[\"Fuel_type\"].replace(\"Liquefied petroleum gas(LPG)\", \"LPG\")"
   ]
  },
  {
   "cell_type": "markdown",
   "metadata": {
    "tags": []
   },
   "source": [
    "# **Omogeneizzazione di `canada_emissions`**"
   ]
  },
  {
   "cell_type": "markdown",
   "metadata": {},
   "source": [
    "### Gestione tipi di carburante"
   ]
  },
  {
   "cell_type": "markdown",
   "metadata": {},
   "source": [
    "All'interno del dataset proveniente dal ministero canadese sono presenti dati riguardanti il tipo di carburante (colonna \"Fuel type\"). "
   ]
  },
  {
   "cell_type": "markdown",
   "metadata": {},
   "source": [
    "La cella seguente mostra il numero di occorrenze di ogni lettera nella colonna Fuel type."
   ]
  },
  {
   "cell_type": "code",
   "execution_count": 62,
   "metadata": {},
   "outputs": [
    {
     "data": {
      "text/plain": [
       "X    10445\n",
       "Z     6314\n",
       "E      770\n",
       "D      199\n",
       "N       38\n",
       "Name: Fuel type, dtype: int64"
      ]
     },
     "execution_count": 62,
     "metadata": {},
     "output_type": "execute_result"
    }
   ],
   "source": [
    "canada_emissions[\"Fuel type\"].value_counts()"
   ]
  },
  {
   "cell_type": "markdown",
   "metadata": {},
   "source": [
    "Riportiamo sotto il significato delle lettere.\n",
    "\n",
    "- `X`: Benzina normale (ha un indice di ottano più basso ed è quindi meno resistente alla detonazione)\n",
    "- `Z`: Benzina premium (ha un indice di ottano più alto e offre una maggiore resistenza alla detonazione. È ideale per motori ad alte prestazioni, che hanno un rapporto di compressione                           più elevato e richiedono un carburante più stabile.)\n",
    "- `D`: Diesel\n",
    "- `E`: Etanolo(E85)\n",
    "- `N`: gas naturale"
   ]
  },
  {
   "cell_type": "markdown",
   "metadata": {},
   "source": [
    "Per motivi di compatibilità dei dataset è superfluo mantenere la distinzione tra benzina normale e benzina premium. Compattiamo quindi le due lettere X e Z in una parola unica: Petrol.\n",
    "Inoltre trasformiamo anche E in Etanolo, N in Natural gas e D in Diesel per gli stessi motivi di confrontabilità.\n",
    "Prima di iniziare a modificare il dataframe per poter effettuare tutte le doverose modifiche per renderlo confrontabile con gli altri dataset ne salviamo una copia per evitare di perdere quello originale che potrebbe tornare utile."
   ]
  },
  {
   "cell_type": "code",
   "execution_count": 63,
   "metadata": {},
   "outputs": [
    {
     "data": {
      "text/plain": [
       "Petrol         16759\n",
       "Ethanol          770\n",
       "Diesel           199\n",
       "Natural Gas       38\n",
       "Name: Fuel type, dtype: int64"
      ]
     },
     "execution_count": 63,
     "metadata": {},
     "output_type": "execute_result"
    }
   ],
   "source": [
    "canada_emissions_copy = canada_emissions.copy()\n",
    "canada_emissions[\"Fuel type\"] = canada_emissions[\"Fuel type\"].replace({'X': 'Petrol', 'Z': 'Petrol', 'D': 'Diesel', 'N': 'Natural Gas', 'E': 'Ethanol'})\n",
    "canada_emissions[\"Fuel type\"].value_counts()"
   ]
  },
  {
   "cell_type": "markdown",
   "metadata": {},
   "source": [
    "Il seguente grafico a torta mostra la percentuale dei diversi tipi di carburante presi in considerazione. Si può notare che la maggior parte dei dati riguardano veicoli a benzina."
   ]
  },
  {
   "cell_type": "code",
   "execution_count": 64,
   "metadata": {},
   "outputs": [
    {
     "data": {
      "image/png": "[encoded data removed]",
      "text/plain": [
       "<Figure size 640x480 with 1 Axes>"
      ]
     },
     "metadata": {},
     "output_type": "display_data"
    }
   ],
   "source": [
    "fuel_type_colors = {\"Petrol\": \"yellow\", \"Ethanol\": \"red\", \"Diesel\": \"green\", \"Natural Gas\": \"blue\"}\n",
    "canada_fuel_type = canada_emissions[\"Fuel type\"].value_counts()\n",
    "canada_fuel_type.plot.pie(colors = canada_fuel_type.index.map(fuel_type_colors), autopct=\"%.2f%%\")\n",
    "plt.show()"
   ]
  },
  {
   "cell_type": "markdown",
   "metadata": {},
   "source": [
    "### Eliminazione colonne superflue e rename delle feature importanti"
   ]
  },
  {
   "cell_type": "markdown",
   "metadata": {},
   "source": [
    "E' inoltre doveroso eliminare le feature City, Highway, Combined che indicano rispettivamente il consumo di carburante: nelle strade di città, nelle autostrade e in entrambe. Eliminiamo inoltre la colonna superflua dell'id, quella del tipo veicolo (Vehicle class) e quella del numero di cilindri (Cylinders) del veicolo, non presente negli altri dataframe."
   ]
  },
  {
   "cell_type": "code",
   "execution_count": 65,
   "metadata": {},
   "outputs": [
    {
     "data": {
      "text/html": [
       "<div>\n",
       "<style scoped>\n",
       "    .dataframe tbody tr th:only-of-type {\n",
       "        vertical-align: middle;\n",
       "    }\n",
       "\n",
       "    .dataframe tbody tr th {\n",
       "        vertical-align: top;\n",
       "    }\n",
       "\n",
       "    .dataframe thead th {\n",
       "        text-align: right;\n",
       "    }\n",
       "</style>\n",
       "<table border=\"1\" class=\"dataframe\">\n",
       "  <thead>\n",
       "    <tr style=\"text-align: right;\">\n",
       "      <th></th>\n",
       "      <th>Model year</th>\n",
       "      <th>Make</th>\n",
       "      <th>Model</th>\n",
       "      <th>Engine_cm3</th>\n",
       "      <th>Transmission</th>\n",
       "      <th>Fuel type</th>\n",
       "      <th>Combined (mpg)</th>\n",
       "      <th>CO2 emissions (g/km)</th>\n",
       "    </tr>\n",
       "  </thead>\n",
       "  <tbody>\n",
       "    <tr>\n",
       "      <th>0</th>\n",
       "      <td>1995</td>\n",
       "      <td>Acura</td>\n",
       "      <td>Integra</td>\n",
       "      <td>1800.0</td>\n",
       "      <td>A4</td>\n",
       "      <td>Petrol</td>\n",
       "      <td>32</td>\n",
       "      <td>202</td>\n",
       "    </tr>\n",
       "    <tr>\n",
       "      <th>1</th>\n",
       "      <td>1995</td>\n",
       "      <td>Acura</td>\n",
       "      <td>Integra</td>\n",
       "      <td>1800.0</td>\n",
       "      <td>M5</td>\n",
       "      <td>Petrol</td>\n",
       "      <td>34</td>\n",
       "      <td>193</td>\n",
       "    </tr>\n",
       "    <tr>\n",
       "      <th>2</th>\n",
       "      <td>1995</td>\n",
       "      <td>Acura</td>\n",
       "      <td>Integra GS-R</td>\n",
       "      <td>1800.0</td>\n",
       "      <td>M5</td>\n",
       "      <td>Petrol</td>\n",
       "      <td>34</td>\n",
       "      <td>191</td>\n",
       "    </tr>\n",
       "    <tr>\n",
       "      <th>3</th>\n",
       "      <td>1995</td>\n",
       "      <td>Acura</td>\n",
       "      <td>Legend</td>\n",
       "      <td>3200.0</td>\n",
       "      <td>A4</td>\n",
       "      <td>Petrol</td>\n",
       "      <td>26</td>\n",
       "      <td>251</td>\n",
       "    </tr>\n",
       "    <tr>\n",
       "      <th>4</th>\n",
       "      <td>1995</td>\n",
       "      <td>Acura</td>\n",
       "      <td>Legend Coupe</td>\n",
       "      <td>3200.0</td>\n",
       "      <td>A4</td>\n",
       "      <td>Petrol</td>\n",
       "      <td>25</td>\n",
       "      <td>260</td>\n",
       "    </tr>\n",
       "  </tbody>\n",
       "</table>\n",
       "</div>"
      ],
      "text/plain": [
       "   Model year   Make         Model  Engine_cm3 Transmission Fuel type  \\\n",
       "0        1995  Acura       Integra      1800.0           A4    Petrol   \n",
       "1        1995  Acura       Integra      1800.0           M5    Petrol   \n",
       "2        1995  Acura  Integra GS-R      1800.0           M5    Petrol   \n",
       "3        1995  Acura        Legend      3200.0           A4    Petrol   \n",
       "4        1995  Acura  Legend Coupe      3200.0           A4    Petrol   \n",
       "\n",
       "   Combined (mpg)  CO2 emissions (g/km)  \n",
       "0              32                   202  \n",
       "1              34                   193  \n",
       "2              34                   191  \n",
       "3              26                   251  \n",
       "4              25                   260  "
      ]
     },
     "execution_count": 65,
     "metadata": {},
     "output_type": "execute_result"
    }
   ],
   "source": [
    "canada_emissions = canada_emissions.drop([\"_id\",\"Highway (L/100 km)\",\"City (L/100 km)\", \"Combined (L/100 km)\", \"Vehicle class\", \"Cylinders\"], axis=1)\n",
    "canada_emissions.head(5)"
   ]
  },
  {
   "cell_type": "markdown",
   "metadata": {},
   "source": [
    "La celle seguente serve solo per modificare i nomi delle feature in modo che siano compatibili con gli altri dataset."
   ]
  },
  {
   "cell_type": "code",
   "execution_count": 66,
   "metadata": {},
   "outputs": [
    {
     "data": {
      "text/html": [
       "<div>\n",
       "<style scoped>\n",
       "    .dataframe tbody tr th:only-of-type {\n",
       "        vertical-align: middle;\n",
       "    }\n",
       "\n",
       "    .dataframe tbody tr th {\n",
       "        vertical-align: top;\n",
       "    }\n",
       "\n",
       "    .dataframe thead th {\n",
       "        text-align: right;\n",
       "    }\n",
       "</style>\n",
       "<table border=\"1\" class=\"dataframe\">\n",
       "  <thead>\n",
       "    <tr style=\"text-align: right;\">\n",
       "      <th></th>\n",
       "      <th>Year</th>\n",
       "      <th>Manufacturer</th>\n",
       "      <th>Model</th>\n",
       "      <th>Engine_cm3</th>\n",
       "      <th>Transmission_type</th>\n",
       "      <th>Fuel_type</th>\n",
       "      <th>Fuel_consumption</th>\n",
       "      <th>CO2_Emissions</th>\n",
       "    </tr>\n",
       "  </thead>\n",
       "  <tbody>\n",
       "    <tr>\n",
       "      <th>0</th>\n",
       "      <td>1995</td>\n",
       "      <td>Acura</td>\n",
       "      <td>Integra</td>\n",
       "      <td>1800.0</td>\n",
       "      <td>A4</td>\n",
       "      <td>Petrol</td>\n",
       "      <td>32</td>\n",
       "      <td>202</td>\n",
       "    </tr>\n",
       "    <tr>\n",
       "      <th>1</th>\n",
       "      <td>1995</td>\n",
       "      <td>Acura</td>\n",
       "      <td>Integra</td>\n",
       "      <td>1800.0</td>\n",
       "      <td>M5</td>\n",
       "      <td>Petrol</td>\n",
       "      <td>34</td>\n",
       "      <td>193</td>\n",
       "    </tr>\n",
       "    <tr>\n",
       "      <th>2</th>\n",
       "      <td>1995</td>\n",
       "      <td>Acura</td>\n",
       "      <td>Integra GS-R</td>\n",
       "      <td>1800.0</td>\n",
       "      <td>M5</td>\n",
       "      <td>Petrol</td>\n",
       "      <td>34</td>\n",
       "      <td>191</td>\n",
       "    </tr>\n",
       "    <tr>\n",
       "      <th>3</th>\n",
       "      <td>1995</td>\n",
       "      <td>Acura</td>\n",
       "      <td>Legend</td>\n",
       "      <td>3200.0</td>\n",
       "      <td>A4</td>\n",
       "      <td>Petrol</td>\n",
       "      <td>26</td>\n",
       "      <td>251</td>\n",
       "    </tr>\n",
       "    <tr>\n",
       "      <th>4</th>\n",
       "      <td>1995</td>\n",
       "      <td>Acura</td>\n",
       "      <td>Legend Coupe</td>\n",
       "      <td>3200.0</td>\n",
       "      <td>A4</td>\n",
       "      <td>Petrol</td>\n",
       "      <td>25</td>\n",
       "      <td>260</td>\n",
       "    </tr>\n",
       "  </tbody>\n",
       "</table>\n",
       "</div>"
      ],
      "text/plain": [
       "   Year Manufacturer         Model  Engine_cm3 Transmission_type Fuel_type  \\\n",
       "0  1995        Acura       Integra      1800.0                A4    Petrol   \n",
       "1  1995        Acura       Integra      1800.0                M5    Petrol   \n",
       "2  1995        Acura  Integra GS-R      1800.0                M5    Petrol   \n",
       "3  1995        Acura        Legend      3200.0                A4    Petrol   \n",
       "4  1995        Acura  Legend Coupe      3200.0                A4    Petrol   \n",
       "\n",
       "   Fuel_consumption  CO2_Emissions  \n",
       "0                32            202  \n",
       "1                34            193  \n",
       "2                34            191  \n",
       "3                26            251  \n",
       "4                25            260  "
      ]
     },
     "execution_count": 66,
     "metadata": {},
     "output_type": "execute_result"
    }
   ],
   "source": [
    "canada_emissions = canada_emissions.rename(columns={\"Model year\": \"Year\",\"Make\": \"Manufacturer\",\"Fuel type\": \"Fuel_type\", \"Transmission\": \"Transmission_type\",\"Combined (mpg)\": \"Fuel_consumption\", \"CO2 emissions (g/km)\": \"CO2_Emissions\"})\n",
    "canada_emissions.head(5)"
   ]
  },
  {
   "cell_type": "markdown",
   "metadata": {
    "tags": []
   },
   "source": [
    "### Gestione del tipo di trasmissione"
   ]
  },
  {
   "cell_type": "markdown",
   "metadata": {},
   "source": [
    "Le prossime celle servono per rendere confrontabili con gli altri dataframe i valori riguardanti il tipo di trasmissione. In particolare trasformiamo tutti i valori di trasmissioni inizianti per A in Automatic e tutti quelli inizianti per M in Manual eccetto per i valori AM (che sarebbero automated manual) che verranno eliminati per evitare incomprensioni dato che gli altri dataset distinguono solamente tra cambio manuale e automatico."
   ]
  },
  {
   "cell_type": "code",
   "execution_count": 67,
   "metadata": {},
   "outputs": [
    {
     "data": {
      "text/plain": [
       "Automatic    12730\n",
       "Manual        4848\n",
       "Name: Transmission_type, dtype: int64"
      ]
     },
     "execution_count": 67,
     "metadata": {},
     "output_type": "execute_result"
    }
   ],
   "source": [
    "index_to_drop = canada_emissions[canada_emissions[\"Transmission_type\"].str.startswith(\"AM\")].index\n",
    "canada_emissions = canada_emissions.drop(index_to_drop)\n",
    "canada_emissions[\"Transmission_type\"] = canada_emissions[\"Transmission_type\"].replace({r'^M.*': 'Manual',r'^A.*': 'Automatic' }, regex=True)\n",
    "canada_emissions[\"Transmission_type\"].value_counts()"
   ]
  },
  {
   "cell_type": "markdown",
   "metadata": {},
   "source": [
    "Mostriamo ora i risultati appena ottenuti in un grafico a torta."
   ]
  },
  {
   "cell_type": "code",
   "execution_count": 68,
   "metadata": {},
   "outputs": [
    {
     "data": {
      "image/png": "[encoded data removed]",
      "text/plain": [
       "<Figure size 640x480 with 1 Axes>"
      ]
     },
     "metadata": {},
     "output_type": "display_data"
    }
   ],
   "source": [
    "canada_emissions[\"Transmission_type\"].value_counts().plot.pie(autopct=\"%.2f%%\")\n",
    "plt.show()"
   ]
  },
  {
   "cell_type": "markdown",
   "metadata": {},
   "source": [
    "Come ci aspettavamo grazie allì'uso della funzione `value_counts()` i veicoli a cambio automatico sono la maggioranza."
   ]
  },
  {
   "cell_type": "markdown",
   "metadata": {
    "tags": []
   },
   "source": [
    "### Dataset risultante"
   ]
  },
  {
   "cell_type": "markdown",
   "metadata": {},
   "source": [
    "Di seguito, l'adattamento finale del nome del modello eliminando la casa automobilistica e le informazioni aggiuntive."
   ]
  },
  {
   "cell_type": "code",
   "execution_count": 69,
   "metadata": {},
   "outputs": [],
   "source": [
    "# Per rimuovere il nome della casa automobilistica e le informazioni aggiuntive dal nome del modello\n",
    "def remove_manufacturer(make_model):\n",
    "    make = make_model[\"Manufacturer\"]\n",
    "    model = make_model[\"Model\"]\n",
    "    removedManufacturer = model.replace(make, \"\").split()\n",
    "    model = [word for word in removedManufacturer if word not in useless_words][0]\n",
    "    return model"
   ]
  },
  {
   "cell_type": "code",
   "execution_count": 70,
   "metadata": {},
   "outputs": [],
   "source": [
    "canada_emissions[\"Model\"] = canada_emissions[[\"Manufacturer\", \"Model\"]].apply(remove_manufacturer, axis=1)"
   ]
  },
  {
   "cell_type": "markdown",
   "metadata": {},
   "source": [
    "Mostriamo di seguito il dataframe risultante `canada_emissions`"
   ]
  },
  {
   "cell_type": "code",
   "execution_count": 71,
   "metadata": {},
   "outputs": [
    {
     "data": {
      "text/html": [
       "<div>\n",
       "<style scoped>\n",
       "    .dataframe tbody tr th:only-of-type {\n",
       "        vertical-align: middle;\n",
       "    }\n",
       "\n",
       "    .dataframe tbody tr th {\n",
       "        vertical-align: top;\n",
       "    }\n",
       "\n",
       "    .dataframe thead th {\n",
       "        text-align: right;\n",
       "    }\n",
       "</style>\n",
       "<table border=\"1\" class=\"dataframe\">\n",
       "  <thead>\n",
       "    <tr style=\"text-align: right;\">\n",
       "      <th></th>\n",
       "      <th>Year</th>\n",
       "      <th>Manufacturer</th>\n",
       "      <th>Model</th>\n",
       "      <th>Engine_cm3</th>\n",
       "      <th>Transmission_type</th>\n",
       "      <th>Fuel_type</th>\n",
       "      <th>Fuel_consumption</th>\n",
       "      <th>CO2_Emissions</th>\n",
       "    </tr>\n",
       "  </thead>\n",
       "  <tbody>\n",
       "    <tr>\n",
       "      <th>0</th>\n",
       "      <td>1995</td>\n",
       "      <td>Acura</td>\n",
       "      <td>Integra</td>\n",
       "      <td>1800.0</td>\n",
       "      <td>Automatic</td>\n",
       "      <td>Petrol</td>\n",
       "      <td>32</td>\n",
       "      <td>202</td>\n",
       "    </tr>\n",
       "    <tr>\n",
       "      <th>1</th>\n",
       "      <td>1995</td>\n",
       "      <td>Acura</td>\n",
       "      <td>Integra</td>\n",
       "      <td>1800.0</td>\n",
       "      <td>Manual</td>\n",
       "      <td>Petrol</td>\n",
       "      <td>34</td>\n",
       "      <td>193</td>\n",
       "    </tr>\n",
       "    <tr>\n",
       "      <th>2</th>\n",
       "      <td>1995</td>\n",
       "      <td>Acura</td>\n",
       "      <td>Integra</td>\n",
       "      <td>1800.0</td>\n",
       "      <td>Manual</td>\n",
       "      <td>Petrol</td>\n",
       "      <td>34</td>\n",
       "      <td>191</td>\n",
       "    </tr>\n",
       "    <tr>\n",
       "      <th>3</th>\n",
       "      <td>1995</td>\n",
       "      <td>Acura</td>\n",
       "      <td>Legend</td>\n",
       "      <td>3200.0</td>\n",
       "      <td>Automatic</td>\n",
       "      <td>Petrol</td>\n",
       "      <td>26</td>\n",
       "      <td>251</td>\n",
       "    </tr>\n",
       "    <tr>\n",
       "      <th>4</th>\n",
       "      <td>1995</td>\n",
       "      <td>Acura</td>\n",
       "      <td>Legend</td>\n",
       "      <td>3200.0</td>\n",
       "      <td>Automatic</td>\n",
       "      <td>Petrol</td>\n",
       "      <td>25</td>\n",
       "      <td>260</td>\n",
       "    </tr>\n",
       "    <tr>\n",
       "      <th>5</th>\n",
       "      <td>1995</td>\n",
       "      <td>Acura</td>\n",
       "      <td>Legend</td>\n",
       "      <td>3200.0</td>\n",
       "      <td>Manual</td>\n",
       "      <td>Petrol</td>\n",
       "      <td>25</td>\n",
       "      <td>258</td>\n",
       "    </tr>\n",
       "    <tr>\n",
       "      <th>6</th>\n",
       "      <td>1995</td>\n",
       "      <td>Acura</td>\n",
       "      <td>NSX</td>\n",
       "      <td>3000.0</td>\n",
       "      <td>Automatic</td>\n",
       "      <td>Petrol</td>\n",
       "      <td>24</td>\n",
       "      <td>267</td>\n",
       "    </tr>\n",
       "    <tr>\n",
       "      <th>7</th>\n",
       "      <td>1995</td>\n",
       "      <td>Acura</td>\n",
       "      <td>NSX</td>\n",
       "      <td>3000.0</td>\n",
       "      <td>Manual</td>\n",
       "      <td>Petrol</td>\n",
       "      <td>25</td>\n",
       "      <td>255</td>\n",
       "    </tr>\n",
       "    <tr>\n",
       "      <th>8</th>\n",
       "      <td>1995</td>\n",
       "      <td>Alfa Romeo</td>\n",
       "      <td>164</td>\n",
       "      <td>3000.0</td>\n",
       "      <td>Automatic</td>\n",
       "      <td>Petrol</td>\n",
       "      <td>22</td>\n",
       "      <td>301</td>\n",
       "    </tr>\n",
       "    <tr>\n",
       "      <th>9</th>\n",
       "      <td>1995</td>\n",
       "      <td>Alfa Romeo</td>\n",
       "      <td>164</td>\n",
       "      <td>3000.0</td>\n",
       "      <td>Manual</td>\n",
       "      <td>Petrol</td>\n",
       "      <td>24</td>\n",
       "      <td>267</td>\n",
       "    </tr>\n",
       "  </tbody>\n",
       "</table>\n",
       "</div>"
      ],
      "text/plain": [
       "   Year Manufacturer    Model  Engine_cm3 Transmission_type Fuel_type  \\\n",
       "0  1995        Acura  Integra      1800.0         Automatic    Petrol   \n",
       "1  1995        Acura  Integra      1800.0            Manual    Petrol   \n",
       "2  1995        Acura  Integra      1800.0            Manual    Petrol   \n",
       "3  1995        Acura   Legend      3200.0         Automatic    Petrol   \n",
       "4  1995        Acura   Legend      3200.0         Automatic    Petrol   \n",
       "5  1995        Acura   Legend      3200.0            Manual    Petrol   \n",
       "6  1995        Acura      NSX      3000.0         Automatic    Petrol   \n",
       "7  1995        Acura      NSX      3000.0            Manual    Petrol   \n",
       "8  1995   Alfa Romeo      164      3000.0         Automatic    Petrol   \n",
       "9  1995   Alfa Romeo      164      3000.0            Manual    Petrol   \n",
       "\n",
       "   Fuel_consumption  CO2_Emissions  \n",
       "0                32            202  \n",
       "1                34            193  \n",
       "2                34            191  \n",
       "3                26            251  \n",
       "4                25            260  \n",
       "5                25            258  \n",
       "6                24            267  \n",
       "7                25            255  \n",
       "8                22            301  \n",
       "9                24            267  "
      ]
     },
     "execution_count": 71,
     "metadata": {},
     "output_type": "execute_result"
    }
   ],
   "source": [
    "canada_emissions.head(10)"
   ]
  },
  {
   "cell_type": "markdown",
   "metadata": {},
   "source": [
    "# Unione dei dataset"
   ]
  },
  {
   "cell_type": "code",
   "execution_count": 72,
   "metadata": {},
   "outputs": [],
   "source": [
    "emissions = pd.concat([spain_emissions, canada_emissions, uk_emissions], ignore_index=True)"
   ]
  },
  {
   "cell_type": "markdown",
   "metadata": {},
   "source": [
    "Infine, per i contenuti di tipo stringa come `Manufacturer` e `Model`, sarà necessaria una standardizzazione tra i diversi dataset. Lo standard scelto è la maiuscola per il primo carattere e la minuscola per gli altri caratteri."
   ]
  },
  {
   "cell_type": "code",
   "execution_count": 73,
   "metadata": {},
   "outputs": [],
   "source": [
    "capitalize_columns = [\"Manufacturer\", \"Model\"]\n",
    "emissions[capitalize_columns] = emissions[capitalize_columns].apply(lambda col: col.str.capitalize())"
   ]
  },
  {
   "cell_type": "markdown",
   "metadata": {},
   "source": [
    "Nella prossima cella, mostriamo una breve descrizione in formato tabellare delle feature numeriche del dataset completo"
   ]
  },
  {
   "cell_type": "code",
   "execution_count": 74,
   "metadata": {},
   "outputs": [
    {
     "data": {
      "text/html": [
       "<div>\n",
       "<style scoped>\n",
       "    .dataframe tbody tr th:only-of-type {\n",
       "        vertical-align: middle;\n",
       "    }\n",
       "\n",
       "    .dataframe tbody tr th {\n",
       "        vertical-align: top;\n",
       "    }\n",
       "\n",
       "    .dataframe thead th {\n",
       "        text-align: right;\n",
       "    }\n",
       "</style>\n",
       "<table border=\"1\" class=\"dataframe\">\n",
       "  <thead>\n",
       "    <tr style=\"text-align: right;\">\n",
       "      <th></th>\n",
       "      <th>Year</th>\n",
       "      <th>Engine_cm3</th>\n",
       "      <th>Fuel_consumption</th>\n",
       "      <th>CO2_Emissions</th>\n",
       "    </tr>\n",
       "  </thead>\n",
       "  <tbody>\n",
       "    <tr>\n",
       "      <th>count</th>\n",
       "      <td>92777.000000</td>\n",
       "      <td>92777.000000</td>\n",
       "      <td>92777.000000</td>\n",
       "      <td>92777.000000</td>\n",
       "    </tr>\n",
       "    <tr>\n",
       "      <th>mean</th>\n",
       "      <td>2007.179872</td>\n",
       "      <td>2300.303211</td>\n",
       "      <td>10.993650</td>\n",
       "      <td>189.090697</td>\n",
       "    </tr>\n",
       "    <tr>\n",
       "      <th>std</th>\n",
       "      <td>4.325171</td>\n",
       "      <td>1100.722660</td>\n",
       "      <td>8.709515</td>\n",
       "      <td>64.555215</td>\n",
       "    </tr>\n",
       "    <tr>\n",
       "      <th>min</th>\n",
       "      <td>1995.000000</td>\n",
       "      <td>110.000000</td>\n",
       "      <td>0.450000</td>\n",
       "      <td>18.666667</td>\n",
       "    </tr>\n",
       "    <tr>\n",
       "      <th>25%</th>\n",
       "      <td>2004.000000</td>\n",
       "      <td>1598.000000</td>\n",
       "      <td>5.900000</td>\n",
       "      <td>144.000000</td>\n",
       "    </tr>\n",
       "    <tr>\n",
       "      <th>50%</th>\n",
       "      <td>2008.000000</td>\n",
       "      <td>1991.000000</td>\n",
       "      <td>7.400000</td>\n",
       "      <td>179.000000</td>\n",
       "    </tr>\n",
       "    <tr>\n",
       "      <th>75%</th>\n",
       "      <td>2011.000000</td>\n",
       "      <td>2597.000000</td>\n",
       "      <td>10.800000</td>\n",
       "      <td>224.000000</td>\n",
       "    </tr>\n",
       "    <tr>\n",
       "      <th>max</th>\n",
       "      <td>2014.000000</td>\n",
       "      <td>19894.000000</td>\n",
       "      <td>78.000000</td>\n",
       "      <td>590.000000</td>\n",
       "    </tr>\n",
       "  </tbody>\n",
       "</table>\n",
       "</div>"
      ],
      "text/plain": [
       "               Year    Engine_cm3  Fuel_consumption  CO2_Emissions\n",
       "count  92777.000000  92777.000000      92777.000000   92777.000000\n",
       "mean    2007.179872   2300.303211         10.993650     189.090697\n",
       "std        4.325171   1100.722660          8.709515      64.555215\n",
       "min     1995.000000    110.000000          0.450000      18.666667\n",
       "25%     2004.000000   1598.000000          5.900000     144.000000\n",
       "50%     2008.000000   1991.000000          7.400000     179.000000\n",
       "75%     2011.000000   2597.000000         10.800000     224.000000\n",
       "max     2014.000000  19894.000000         78.000000     590.000000"
      ]
     },
     "execution_count": 74,
     "metadata": {},
     "output_type": "execute_result"
    }
   ],
   "source": [
    "emissions.describe()"
   ]
  },
  {
   "cell_type": "markdown",
   "metadata": {
    "tags": []
   },
   "source": [
    "# Addestramento modelli\n",
    "A seguito dell'esplorazione e dell'omogeneizzazione dei tre dataset, si può procedere all'addestramento dei modelli. I modelli verranno addestrati sulle seguenti feature indipendenti saranno:\n",
    "- `Year`: anno in cui è stato prodotto il veicolo \n",
    "- `Manufacturer`: casa automobilistica che ha prodotto il veicolo\n",
    "- `Model`: nome del modello del veicolo\n",
    "- `Engine_cm3`: volume del motore in cm<sup>3</sup>\n",
    "- `Transmission_type`: tipologia di trasmissione del veicolo, ovvero se il cambio della marcia è automatico o manuale\n",
    "- `Fuel_type`: tipologia di carburante usato nel veicolo. Per esempio può essere benzina, diesel, benzina e ibrida ecc. \n",
    "- `Fuel_consumption`: i litri di carburante consumati dal veicolo ogni 100 km"
   ]
  },
  {
   "cell_type": "markdown",
   "metadata": {},
   "source": [
    "La variabile dipendente target dell'addestramento è `CO2_Emissions`, la quantità di CO<sub>2</sub> emessa dal veicolo in grammi per km."
   ]
  },
  {
   "cell_type": "markdown",
   "metadata": {},
   "source": [
    "Del dataset completo, ne viene utilizzato un 30%. Da questa parte ne viene prelevato un 60% per l'addestramento, che successivamente verrà diviso in training set e validation set a seconda della modalità scelta (holdout o cross validation). Il restante 40% verrà utilizzato per testare i modelli migliori trovati nell'addestramento."
   ]
  },
  {
   "cell_type": "code",
   "execution_count": 93,
   "metadata": {},
   "outputs": [],
   "source": [
    "emissions= emissions.sample(frac=0.3, random_state=42)\n",
    "emissions_train = emissions.sample(frac=0.6, random_state=42)\n",
    "X = emissions_train.drop([\"CO2_Emissions\"], axis=1)\n",
    "y = emissions_train[\"CO2_Emissions\"]\n",
    "emissions_test = emissions.drop(emissions_train.index)"
   ]
  },
  {
   "cell_type": "markdown",
   "metadata": {},
   "source": [
    "Nel dataset ci sono sia feature numeriche che categoriche. <br>\n",
    "Per le numeriche è necessario applicare una normalizzazione dei dati che altrimenti avrebbero valori su scale molto diverse che renderebbero più difficile la convergenza dell'addestramento. <br>\n",
    "Per le categoriche si usa un OneHotEncoder per poterle utilizzare nell'addestramento di un modello di regressione, creando nuove colonne binarie per ciascuno dei valori ammissibili della variabile categoriche."
   ]
  },
  {
   "cell_type": "code",
   "execution_count": 76,
   "metadata": {},
   "outputs": [],
   "source": [
    "from sklearn.compose import ColumnTransformer\n",
    "from sklearn.preprocessing import StandardScaler\n",
    "from sklearn.preprocessing import OneHotEncoder\n",
    "\n",
    "categorical_features = X.select_dtypes(include=\"object\").columns\n",
    "numerical_features = X.select_dtypes(exclude=\"object\").columns\n",
    "\n",
    "preprocessor = ColumnTransformer([\n",
    "    ( \"numeric\"    , StandardScaler(), numerical_features ),\n",
    "    ( \"categorical\", OneHotEncoder(handle_unknown='ignore') , categorical_features )\n",
    "])"
   ]
  },
  {
   "cell_type": "code",
   "execution_count": 77,
   "metadata": {},
   "outputs": [],
   "source": [
    "X[categorical_features] = X[categorical_features].astype(\"category\")"
   ]
  },
  {
   "cell_type": "code",
   "execution_count": 78,
   "metadata": {},
   "outputs": [],
   "source": [
    "from sklearn.model_selection import train_test_split\n",
    "\n",
    "X_train, X_val, y_train, y_val = train_test_split(\n",
    "    X, y,\n",
    "    test_size=1/3,\n",
    "    random_state=42\n",
    ")\n",
    "model_list=[]    #salviamo una lista di modelli per confrontarli alla fine del progetto"
   ]
  },
  {
   "cell_type": "markdown",
   "metadata": {},
   "source": [
    "## Regressione lineare\n",
    "Il modello più semplice da addestrare è la regressione lineare, senza filtri polinomiali o regolarizzazioni. Grazie all'elevato numero di dati usato per l'addestramento, si possono utilizzare degli ottimi risultati, anche se migliorabili, già con questo primo modello."
   ]
  },
  {
   "cell_type": "code",
   "execution_count": 88,
   "metadata": {},
   "outputs": [],
   "source": [
    "from sklearn.linear_model import LinearRegression\n",
    "from sklearn.pipeline import Pipeline\n",
    "import copy\n",
    "\n",
    "model = Pipeline([\n",
    "    (\"preproc\", preprocessor),\n",
    "    (\"regr\"   , LinearRegression())\n",
    "])\n",
    "model_list.append(copy.copy(model))"
   ]
  },
  {
   "cell_type": "code",
   "execution_count": 89,
   "metadata": {},
   "outputs": [
    {
     "name": "stdout",
     "output_type": "stream",
     "text": [
      "Wall time: 709 ms\n"
     ]
    },
    {
     "data": {
      "text/plain": [
       "Pipeline(steps=[('preproc',\n",
       "                 ColumnTransformer(transformers=[('numeric', StandardScaler(),\n",
       "                                                  Index(['Year', 'Engine_cm3', 'Fuel_consumption'], dtype='object')),\n",
       "                                                 ('categorical',\n",
       "                                                  OneHotEncoder(handle_unknown='ignore'),\n",
       "                                                  Index(['Manufacturer', 'Model', 'Fuel_type', 'Transmission_type'], dtype='object'))])),\n",
       "                ('regr', LinearRegression())])"
      ]
     },
     "execution_count": 89,
     "metadata": {},
     "output_type": "execute_result"
    }
   ],
   "source": [
    "%time model.fit(X_train, y_train)"
   ]
  },
  {
   "cell_type": "markdown",
   "metadata": {},
   "source": [
    "La funzione nella cella successiva stampa tre misure di valutazioni di un modello, ovvero l'errore quadratico medio, l'errore relativo e il coefficiente R<sup>2</sup>."
   ]
  },
  {
   "cell_type": "code",
   "execution_count": 90,
   "metadata": {},
   "outputs": [],
   "source": [
    "from sklearn.metrics import mean_squared_error\n",
    "from sklearn.metrics import r2_score\n",
    "\n",
    "def relative_error(y_true, y_pred):\n",
    "    return np.mean(np.abs((y_true - y_pred) / y_true))\n",
    "\n",
    "def print_eval(X, y, model):\n",
    "    preds = model.predict(X)\n",
    "    mse = mean_squared_error(y, preds)\n",
    "    re = relative_error(y, preds)\n",
    "    r2 = r2_score(y, preds)\n",
    "    print(f\"   Mean squared error: {mse:.5}\")\n",
    "    print(f\"       Relative error: {re:.5%}\")\n",
    "    print(f\"R-squared coefficient: {r2:.5}\")"
   ]
  },
  {
   "cell_type": "code",
   "execution_count": 91,
   "metadata": {},
   "outputs": [
    {
     "name": "stdout",
     "output_type": "stream",
     "text": [
      "   Mean squared error: 368.38\n",
      "       Relative error: 8.77680%\n",
      "R-squared coefficient: 0.91216\n"
     ]
    }
   ],
   "source": [
    "print_eval(X_val, y_val, model)"
   ]
  },
  {
   "cell_type": "code",
   "execution_count": 92,
   "metadata": {},
   "outputs": [
    {
     "data": {
      "text/plain": [
       "numeric__Year                                       -9.205939\n",
       "numeric__Engine_cm3                                 33.914289\n",
       "numeric__Fuel_consumption                            1.917237\n",
       "categorical__Manufacturer_Abarth                   -13.541615\n",
       "categorical__Manufacturer_Acura                    -39.802365\n",
       "categorical__Manufacturer_Alfa romeo                32.083419\n",
       "categorical__Manufacturer_Aston martin              31.392476\n",
       "categorical__Manufacturer_Aston martin lagonda      47.950622\n",
       "categorical__Manufacturer_Audi                      -4.558716\n",
       "categorical__Manufacturer_Bentley                   62.644299\n",
       "categorical__Manufacturer_Bentley motors            93.161510\n",
       "categorical__Manufacturer_Bmw                      -37.487501\n",
       "categorical__Manufacturer_Bugatti                   50.434446\n",
       "categorical__Manufacturer_Buick                    -26.431310\n",
       "categorical__Manufacturer_Cadillac                  18.244909\n",
       "categorical__Manufacturer_Chevrolet                -31.402707\n",
       "categorical__Manufacturer_Chrysler                  18.823978\n",
       "categorical__Manufacturer_Chrysler jeep             48.921958\n",
       "categorical__Manufacturer_Citroen                   -2.110879\n",
       "categorical__Manufacturer_Corvette                 -32.323543\n",
       "categorical__Manufacturer_Dacia                    -18.668658\n",
       "categorical__Manufacturer_Daewoo                   -54.872285\n",
       "categorical__Manufacturer_Daewoo cars              -25.039512\n",
       "categorical__Manufacturer_Daihatsu                 -20.993607\n",
       "categorical__Manufacturer_Dodge                      5.755456\n",
       "categorical__Manufacturer_Eagle                    -16.872423\n",
       "categorical__Manufacturer_Ferrari                   64.731712\n",
       "categorical__Manufacturer_Fiat                     -19.903211\n",
       "categorical__Manufacturer_Ford                      -5.568679\n",
       "categorical__Manufacturer_Geo                      -30.930042\n",
       "categorical__Manufacturer_Gmc                      -33.263265\n",
       "categorical__Manufacturer_Honda                     -5.934048\n",
       "categorical__Manufacturer_Hummer                    29.975001\n",
       "categorical__Manufacturer_Hyundai                  -17.908934\n",
       "categorical__Manufacturer_Infiniti                 -68.516899\n",
       "categorical__Manufacturer_Isuzu                     21.748553\n",
       "categorical__Manufacturer_Jaguar                   -22.208231\n",
       "categorical__Manufacturer_Jaguar cars                7.596678\n",
       "categorical__Manufacturer_Jeep                      30.516439\n",
       "categorical__Manufacturer_Kia                      -21.549481\n",
       "categorical__Manufacturer_Lamborghini              107.909119\n",
       "categorical__Manufacturer_Land rover                98.512939\n",
       "categorical__Manufacturer_Lexus                    -35.222006\n",
       "categorical__Manufacturer_Lincoln                  -12.206071\n",
       "categorical__Manufacturer_Lotus                     16.741056\n",
       "categorical__Manufacturer_Lti                       -5.502525\n",
       "categorical__Manufacturer_Maserati                 120.311157\n",
       "categorical__Manufacturer_Mazda                    -41.372044\n",
       "categorical__Manufacturer_Mclaren                   10.328802\n",
       "categorical__Manufacturer_Mercedes-benz             -1.615357\n",
       "categorical__Manufacturer_Mercury                  -39.282736\n",
       "categorical__Manufacturer_Metrocab                  39.603164\n",
       "categorical__Manufacturer_Mg motors uk              32.085005\n",
       "categorical__Manufacturer_Mg rover group            28.129394\n",
       "categorical__Manufacturer_Micro compact car        -69.777712\n",
       "categorical__Manufacturer_Mini                      24.139272\n",
       "categorical__Manufacturer_Mitsubishi                30.976582\n",
       "categorical__Manufacturer_Morgan motor company     -14.866819\n",
       "categorical__Manufacturer_Nissan                     5.915733\n",
       "categorical__Manufacturer_Oldsmobile               -32.237361\n",
       "categorical__Manufacturer_Perodua                  -62.718281\n",
       "categorical__Manufacturer_Peugeot                  -13.666168\n",
       "categorical__Manufacturer_Plymouth                   5.355206\n",
       "categorical__Manufacturer_Pontiac                  -24.067861\n",
       "categorical__Manufacturer_Porsche                  -31.430062\n",
       "categorical__Manufacturer_Proton                    -8.763154\n",
       "categorical__Manufacturer_Ram                       -7.248158\n",
       "categorical__Manufacturer_Renault                   -5.567960\n",
       "categorical__Manufacturer_Rolls-royce               62.924706\n",
       "categorical__Manufacturer_Rover group limited       19.689380\n",
       "categorical__Manufacturer_Saab                      -4.238640\n",
       "categorical__Manufacturer_Saturn                   -48.273041\n",
       "categorical__Manufacturer_Scion                    -27.704243\n",
       "categorical__Manufacturer_Seat                     -14.711797\n",
       "categorical__Manufacturer_Skoda                    -18.317819\n",
       "categorical__Manufacturer_Smart                    -72.025275\n",
       "categorical__Manufacturer_Srt                       24.883805\n",
       "categorical__Manufacturer_Ssangyong                -75.322929\n",
       "categorical__Manufacturer_Subaru                    -7.792500\n",
       "categorical__Manufacturer_Suzuki                    34.260648\n",
       "categorical__Manufacturer_Tata                      31.926211\n",
       "categorical__Manufacturer_Toyota                   -20.785473\n",
       "categorical__Manufacturer_Vauxhall                  -7.805477\n",
       "categorical__Manufacturer_Volkswagen                -7.993740\n",
       "categorical__Manufacturer_Volvo                      2.729482\n",
       "categorical__Model_                                 14.066491\n",
       "categorical__Model_08my                            -21.510218\n",
       "categorical__Model_09my                            -25.354592\n",
       "categorical__Model_1                                -4.595926\n",
       "categorical__Model_1.6el                           -15.169309\n",
       "categorical__Model_1.7el                           -14.610706\n",
       "categorical__Model_1007                            -25.801832\n",
       "categorical__Model_106                             -20.305975\n",
       "categorical__Model_107                             -54.645947\n",
       "categorical__Model_121                               2.766909\n",
       "categorical__Model_128i                             10.522100\n",
       "categorical__Model_135i                             21.144123\n",
       "categorical__Model_145                             -46.591307\n",
       "categorical__Model_146                             -46.669393\n",
       "categorical__Model_147                             -38.349280\n",
       "categorical__Model_1500                              3.522922\n",
       "categorical__Model_156                             -23.526548\n",
       "categorical__Model_159                             -23.681094\n",
       "categorical__Model_1600                            -23.773305\n",
       "categorical__Model_164                             -17.977051\n",
       "categorical__Model_166                              12.067112\n",
       "categorical__Model_2                                -2.809662\n",
       "categorical__Model_2.2cl                            -7.267681\n",
       "categorical__Model_2.3cl                            -1.331894\n",
       "categorical__Model_2.5tl                            23.602734\n",
       "categorical__Model_200                             -53.450906\n",
       "categorical__Model_2000                            -18.239474\n",
       "categorical__Model_2008                            -20.540122\n",
       "categorical__Model_200sx                           -37.999134\n",
       "categorical__Model_206                             -22.984533\n",
       "categorical__Model_207                             -19.735383\n",
       "categorical__Model_208                             -29.614380\n",
       "categorical__Model_240sx                           -35.993859\n",
       "categorical__Model_3                                10.298493\n",
       "categorical__Model_3.2cl                            11.032407\n",
       "categorical__Model_3.2tl                            -0.478048\n",
       "categorical__Model_3.5rl                            19.711742\n",
       "categorical__Model_300                             -57.282335\n",
       "categorical__Model_3000                              6.804492\n",
       "categorical__Model_3000gt                            5.424669\n",
       "categorical__Model_3008                             -2.585737\n",
       "categorical__Model_300c                            -74.660947\n",
       "categorical__Model_300m                            -42.465848\n",
       "categorical__Model_300zx                           -16.068672\n",
       "categorical__Model_306                              -7.459359\n",
       "categorical__Model_307                             -12.391325\n",
       "categorical__Model_308                             -18.377444\n",
       "categorical__Model_318i                              6.511916\n",
       "categorical__Model_318i/318is                       10.705603\n",
       "categorical__Model_318i/is                           6.824846\n",
       "categorical__Model_318is                            10.894954\n",
       "categorical__Model_318ti                             8.037617\n",
       "categorical__Model_3200                             15.346876\n",
       "categorical__Model_320i                             14.594267\n",
       "categorical__Model_323                              16.842612\n",
       "categorical__Model_323ci                            25.623492\n",
       "categorical__Model_323i                             21.916835\n",
       "categorical__Model_323is                            24.451805\n",
       "categorical__Model_325ci                            31.529611\n",
       "categorical__Model_325i                             24.049811\n",
       "categorical__Model_325i/325is                       20.352085\n",
       "categorical__Model_325xi                            31.670212\n",
       "categorical__Model_328d                             11.786454\n",
       "categorical__Model_328i                             19.866194\n",
       "categorical__Model_328i/is                          11.469348\n",
       "categorical__Model_328is                            12.528806\n",
       "categorical__Model_328xi                            27.924920\n",
       "categorical__Model_330ci                            15.356438\n",
       "categorical__Model_330i                              9.350580\n",
       "categorical__Model_330xi                            19.495151\n",
       "categorical__Model_335d                             24.548325\n",
       "categorical__Model_335i                             18.572631\n",
       "categorical__Model_335is                            36.173508\n",
       "categorical__Model_335xi                            33.758147\n",
       "categorical__Model_350z                            -13.220011\n",
       "categorical__Model_360                              89.660343\n",
       "categorical__Model_370z                             -5.200418\n",
       "categorical__Model_4-runner                         86.021181\n",
       "categorical__Model_4/4                             -10.258590\n",
       "categorical__Model_400                             -31.469619\n",
       "categorical__Model_4007                             26.792954\n",
       "categorical__Model_406                              -6.810067\n",
       "categorical__Model_407                               4.861942\n",
       "categorical__Model_428i                             -3.113267\n",
       "categorical__Model_435i                             -9.344898\n",
       "categorical__Model_456                              48.994575\n",
       "categorical__Model_4d                                7.458796\n",
       "categorical__Model_4runner                          30.971523\n",
       "categorical__Model_5                                12.688433\n",
       "categorical__Model_500                              -8.318416\n",
       "categorical__Model_5008                             -3.948517\n",
       "categorical__Model_500l                             17.004488\n",
       "categorical__Model_508                              -8.249606\n",
       "categorical__Model_525i                             25.727690\n",
       "categorical__Model_525xi                            18.659134\n",
       "categorical__Model_528i                              7.072698\n",
       "categorical__Model_528xi                            22.230153\n",
       "categorical__Model_530i                             13.611700\n",
       "categorical__Model_530xi                            22.303018\n",
       "categorical__Model_535i                             24.944315\n",
       "categorical__Model_535xi                            56.460414\n",
       "categorical__Model_540i                             13.930976\n",
       "categorical__Model_550i                             19.721374\n",
       "categorical__Model_575                              36.655891\n",
       "categorical__Model_575m                             30.956969\n",
       "categorical__Model_599                               7.017600\n",
       "categorical__Model_6                                17.519439\n",
       "categorical__Model_607                               4.521529\n",
       "categorical__Model_612                              27.897213\n",
       "categorical__Model_626                              19.101220\n",
       "categorical__Model_645ci                            -8.794465\n",
       "categorical__Model_650ci                             3.882514\n",
       "categorical__Model_650i                             17.361078\n",
       "categorical__Model_7                                22.934888\n",
       "categorical__Model_740i                             -0.775832\n",
       "categorical__Model_740il                             0.630946\n",
       "categorical__Model_740li                            18.411160\n",
       "categorical__Model_745i                            -10.421441\n",
       "categorical__Model_745li                            -8.356252\n",
       "categorical__Model_750i                             17.489077\n",
       "categorical__Model_750il                            24.987049\n",
       "categorical__Model_760i                             -4.702623\n",
       "categorical__Model_760li                             9.816389\n",
       "categorical__Model_806                              16.361834\n",
       "categorical__Model_807                              25.693141\n",
       "categorical__Model_840ci                            11.380163\n",
       "categorical__Model_840cl                             4.370462\n",
       "categorical__Model_850                             -12.646125\n",
       "categorical__Model_850ci                            22.651521\n",
       "categorical__Model_9-2x                            -10.870068\n",
       "categorical__Model_9-3                               5.400742\n",
       "categorical__Model_9-5                              12.536640\n",
       "categorical__Model_9-7x                             -7.406649\n",
       "categorical__Model_90                              -17.502491\n",
       "categorical__Model_900                              -4.514604\n",
       "categorical__Model_9000                              0.615299\n",
       "categorical__Model_911                              32.674382\n",
       "categorical__Model_928                               7.408808\n",
       "categorical__Model_929                              31.210306\n",
       "categorical__Model_940                             -12.086693\n",
       "categorical__Model_960                              -7.100162\n",
       "categorical__Model_968                              27.771282\n",
       "categorical__Model_A-class                         -32.482218\n",
       "categorical__Model_A1                              -34.633748\n",
       "categorical__Model_A2                              -41.032193\n",
       "categorical__Model_A3                              -34.640896\n",
       "categorical__Model_A4                              -19.547697\n",
       "categorical__Model_A5                              -21.104229\n",
       "categorical__Model_A6                              -13.029065\n",
       "categorical__Model_A7                              -10.899546\n",
       "categorical__Model_A8                              -13.760252\n",
       "categorical__Model_A8l                             -20.944868\n",
       "categorical__Model_Acadia                           26.180744\n",
       "categorical__Model_Accent                          -22.804205\n",
       "categorical__Model_Acclaim                         -51.631500\n",
       "categorical__Model_Accord                          -14.896657\n",
       "categorical__Model_Achieva                          -6.546505\n",
       "categorical__Model_Activehybrid                    -11.899736\n",
       "categorical__Model_Adam                            -43.743307\n",
       "categorical__Model_Aerio                           -71.490232\n",
       "categorical__Model_Aero                             -5.420880\n",
       "categorical__Model_Aerostar                         -1.064829\n",
       "categorical__Model_Agila                           -31.553535\n",
       "categorical__Model_Alero                            -5.824486\n",
       "categorical__Model_Alfa                            -25.801905\n",
       "categorical__Model_Alhambra                         20.480643\n",
       "categorical__Model_All                              51.259573\n",
       "categorical__Model_All-new                          -3.858438\n",
       "categorical__Model_Allroad                          35.306969\n",
       "categorical__Model_Allure                          -10.087955\n",
       "categorical__Model_Almera                          -32.255229\n",
       "categorical__Model_Alpina                           47.282799\n",
       "categorical__Model_Altea                            -3.857913\n",
       "categorical__Model_Altima                          -51.900701\n",
       "categorical__Model_Alto                            -97.581175\n",
       "categorical__Model_Amanti                           19.838993\n",
       "categorical__Model_Amica                           -23.607204\n",
       "categorical__Model_Ampera                          -55.054977\n",
       "categorical__Model_Antara                           32.060301\n",
       "categorical__Model_Armada                           14.258719\n",
       "categorical__Model_Arnage                            4.900471\n",
       "categorical__Model_Arosa                           -26.410489\n",
       "categorical__Model_Aspen                           -69.699926\n",
       "categorical__Model_Aston                            69.827154\n",
       "categorical__Model_Astra                           -16.170476\n",
       "categorical__Model_Astro                            34.189598\n",
       "categorical__Model_Asx                             -42.991362\n",
       "categorical__Model_Atoz                            -24.739282\n",
       "categorical__Model_Ats                             -43.436250\n",
       "categorical__Model_Aura                             10.812394\n",
       "categorical__Model_Auris                           -19.160842\n",
       "categorical__Model_Aurora                            3.370660\n",
       "categorical__Model_Avalanche                         7.705568\n",
       "categorical__Model_Avalon                          -28.568836\n",
       "categorical__Model_Avantime                         25.787300\n",
       "categorical__Model_Avenger                         -24.896062\n",
       "categorical__Model_Avensis                          -2.397507\n",
       "categorical__Model_Aventador                       -57.525632\n",
       "categorical__Model_Aveo                             -7.824482\n",
       "categorical__Model_Aviator                          64.581222\n",
       "categorical__Model_Axxess                          -22.811958\n",
       "categorical__Model_Aygo                            -41.282500\n",
       "categorical__Model_Aztek                             1.873074\n",
       "categorical__Model_Azure                             0.316595\n",
       "categorical__Model_B                               -24.256807\n",
       "categorical__Model_B-class                         -28.066391\n",
       "categorical__Model_B-max                           -35.632402\n",
       "categorical__Model_B2300                            29.048536\n",
       "categorical__Model_B2500                            13.346063\n",
       "categorical__Model_B3000                            57.414198\n",
       "categorical__Model_B4000                            47.176878\n",
       "categorical__Model_B9                               38.597797\n",
       "categorical__Model_Baja                             -4.279831\n",
       "categorical__Model_Baleno                          -58.879210\n",
       "categorical__Model_Barchetta                         2.231802\n",
       "categorical__Model_Beetle                           -8.733228\n",
       "categorical__Model_Bentley                          13.912686\n",
       "categorical__Model_Beretta                         -25.590463\n",
       "categorical__Model_Berlingo                        -13.613217\n",
       "categorical__Model_Bipper                          -15.638286\n",
       "categorical__Model_Blazer                           60.555870\n",
       "categorical__Model_Bls                             -12.478811\n",
       "categorical__Model_Bonneville                      -22.928020\n",
       "categorical__Model_Bora                             -8.488389\n",
       "categorical__Model_Borrego                          13.115258\n",
       "categorical__Model_Boxster                          23.256888\n",
       "categorical__Model_Brava                            -0.410756\n",
       "categorical__Model_Bravada                          38.161672\n",
       "categorical__Model_Bravo                            -9.275094\n",
       "categorical__Model_Breeze                          -40.481186\n",
       "categorical__Model_Brera                           -18.700862\n",
       "categorical__Model_Bronco                           23.620101\n",
       "categorical__Model_Brooklands                      -34.864383\n",
       "categorical__Model_Brz                             -26.711740\n",
       "categorical__Model_C                                -7.907131\n",
       "categorical__Model_C-class                         -20.073307\n",
       "categorical__Model_C-crosser                        11.302761\n",
       "categorical__Model_C-max                           -31.295115\n",
       "categorical__Model_C1                              -61.197161\n",
       "categorical__Model_C1500                            29.769576\n",
       "categorical__Model_C2                              -39.551572\n",
       "categorical__Model_C2500                            49.807307\n",
       "categorical__Model_C3                              -38.614408\n",
       "categorical__Model_C30                             -27.081467\n",
       "categorical__Model_C4                              -25.051774\n",
       "categorical__Model_C5                              -16.365709\n",
       "categorical__Model_C6                               13.093983\n",
       "categorical__Model_C70                               3.122320\n",
       "categorical__Model_C8                               13.276156\n",
       "categorical__Model_Cabrio                          -17.792623\n",
       "categorical__Model_Cabriolet                         3.532880\n",
       "categorical__Model_Caddy                           -16.810772\n",
       "categorical__Model_Cadenza                          -4.863621\n",
       "categorical__Model_Caliber                         -27.941672\n",
       "categorical__Model_California                       61.122359\n",
       "categorical__Model_Camaro                           -7.534016\n",
       "categorical__Model_Camry                           -18.312559\n",
       "categorical__Model_Canyon                           34.743182\n",
       "categorical__Model_Caprice                         -57.379057\n",
       "categorical__Model_Captiva                          49.243828\n",
       "categorical__Model_Captur                          -20.196500\n",
       "categorical__Model_Caravan                         -18.781274\n",
       "categorical__Model_Caravelle                        53.151571\n",
       "categorical__Model_Carens                           15.931241\n",
       "categorical__Model_Cargo                           -10.771080\n",
       "categorical__Model_Carisma                         -58.568446\n",
       "categorical__Model_Carrera                           9.597229\n",
       "categorical__Model_Cascada                         -10.806299\n",
       "categorical__Model_Catera                          -24.685730\n",
       "categorical__Model_Cavalier                         -2.852569\n",
       "categorical__Model_Cayenne                          33.860821\n",
       "categorical__Model_Cayman                            9.859757\n",
       "categorical__Model_Cc                              -15.429424\n",
       "categorical__Model_Cee'd                            -9.330891\n",
       "categorical__Model_Celica                           -3.114860\n",
       "categorical__Model_Century                         -12.365069\n",
       "categorical__Model_Cerato                           -9.427373\n",
       "categorical__Model_Challenger                      -52.781119\n",
       "categorical__Model_Charade                         -27.419111\n",
       "categorical__Model_Charger                         -43.432219\n",
       "categorical__Model_Cherokee                        -30.817996\n",
       "categorical__Model_Chrysler                        -51.818345\n",
       "categorical__Model_Ciera                            -6.313140\n",
       "categorical__Model_Cirrus                          -41.234407\n",
       "categorical__Model_Citigo                          -46.405884\n",
       "categorical__Model_City                             -7.246090\n",
       "categorical__Model_Civic                           -36.348427\n",
       "categorical__Model_Cl                              -10.300089\n",
       "categorical__Model_Cl-class                         -6.555859\n",
       "categorical__Model_Clarus                           35.497879\n",
       "categorical__Model_Clc-class                       -12.190821\n",
       "categorical__Model_Clio                            -40.217440\n",
       "categorical__Model_Clk                              -9.284682\n",
       "categorical__Model_Clk-class                        -8.694933\n",
       "categorical__Model_Cls                             -21.452468\n",
       "categorical__Model_Cls-class                       -24.650692\n",
       "categorical__Model_Cobalt                           -6.333700\n",
       "categorical__Model_Colorado                         33.360760\n",
       "categorical__Model_Colt                            -65.422935\n",
       "categorical__Model_Combo                           -11.330451\n",
       "categorical__Model_Commander                        -6.158908\n",
       "categorical__Model_Compact                           6.792737\n",
       "categorical__Model_Compass                         -53.730473\n",
       "categorical__Model_Concorde                        -49.183588\n",
       "categorical__Model_Concourse                       -69.789868\n",
       "categorical__Model_Continental                     -28.655390\n",
       "categorical__Model_Contour                         -27.892166\n",
       "categorical__Model_Cooper                          -60.289167\n",
       "categorical__Model_Copen                           -24.231159\n",
       "categorical__Model_Cordoba                         -23.895230\n",
       "categorical__Model_Corniche                         -5.014812\n",
       "categorical__Model_Corolla                         -17.298595\n",
       "categorical__Model_Corrado                          -5.264872\n",
       "categorical__Model_Corsa                           -29.448891\n",
       "categorical__Model_Corsica                         -20.635578\n",
       "categorical__Model_Corvette                        -43.632826\n",
       "categorical__Model_Cougar                           -3.045010\n",
       "categorical__Model_Coupe                           -11.695393\n",
       "categorical__Model_Coupé                             6.536028\n",
       "categorical__Model_Courier                         -15.063428\n",
       "categorical__Model_Cr-v                             -6.791164\n",
       "categorical__Model_Cr-z                            -42.900534\n",
       "categorical__Model_Crafter                          79.972488\n",
       "categorical__Model_Croma                             8.371160\n",
       "categorical__Model_Crossfire                       -21.368112\n",
       "categorical__Model_Crosstour                       -30.228966\n",
       "categorical__Model_Crown                           -36.441721\n",
       "categorical__Model_Cruze                             6.967322\n",
       "categorical__Model_Csx                              16.371063\n",
       "categorical__Model_Ct                              -33.534658\n",
       "categorical__Model_Ct200h                          -34.308578\n",
       "categorical__Model_Cts                             -26.703589\n",
       "categorical__Model_Cts-v                           -29.356021\n",
       "categorical__Model_Cube                            -42.233055\n",
       "categorical__Model_Cuore                           -18.346253\n",
       "categorical__Model_Cutlass                           4.393011\n",
       "categorical__Model_Cx-5                              9.763823\n",
       "categorical__Model_Cx-7                             54.383184\n",
       "categorical__Model_Cx-9                             41.032163\n",
       "categorical__Model_Cygnet                         -108.322867\n",
       "categorical__Model_Daimler                          -1.876497\n",
       "categorical__Model_Dakota                           16.339855\n",
       "categorical__Model_Dart                            -42.094768\n",
       "categorical__Model_Db7                              83.858442\n",
       "categorical__Model_Db9                               5.217754\n",
       "categorical__Model_Dbs                               2.429998\n",
       "categorical__Model_Defender                         -7.024804\n",
       "categorical__Model_Del                             -49.500121\n",
       "categorical__Model_Demio                            15.695599\n",
       "categorical__Model_Deville                         -68.558039\n",
       "categorical__Model_Diablo                           98.409962\n",
       "categorical__Model_Diamante                        -37.447325\n",
       "categorical__Model_Discovery                       -35.932929\n",
       "categorical__Model_Dispatch                         21.559873\n",
       "categorical__Model_Doblo                            27.195611\n",
       "categorical__Model_Ds3                             -41.650963\n",
       "categorical__Model_Ds4                             -27.737517\n",
       "categorical__Model_Ds5                             -23.642244\n",
       "categorical__Model_Dts                             -48.158105\n",
       "categorical__Model_Ducato                           88.115105\n",
       "categorical__Model_Durango                           8.934697\n",
       "categorical__Model_Duster                            1.094456\n",
       "categorical__Model_E                               -15.412979\n",
       "categorical__Model_E-class                         -17.621292\n",
       "categorical__Model_E150                             34.393874\n",
       "categorical__Model_E250                             43.323189\n",
       "categorical__Model_E350                             59.648077\n",
       "categorical__Model_Echo                            -48.693859\n",
       "categorical__Model_Eclipse                         -49.015867\n",
       "categorical__Model_Edge                            -11.392596\n",
       "categorical__Model_Eighty-eight                     -6.854433\n",
       "categorical__Model_Elantra                         -14.854600\n",
       "categorical__Model_Eldorado                        -57.456967\n",
       "categorical__Model_Element                           0.956655\n",
       "categorical__Model_Elise                           -14.184527\n",
       "categorical__Model_Enclave                          18.971634\n",
       "categorical__Model_Encore                           13.750613\n",
       "categorical__Model_Endeavor                        -30.452790\n",
       "categorical__Model_Envoy                            39.347228\n",
       "categorical__Model_Enzo                            160.473067\n",
       "categorical__Model_Eos                             -17.806235\n",
       "categorical__Model_Epica                            50.954553\n",
       "categorical__Model_Equator                         -20.773911\n",
       "categorical__Model_Equinox                          14.201686\n",
       "categorical__Model_Equus                           -18.930082\n",
       "categorical__Model_Es                               -9.042729\n",
       "categorical__Model_Escalade                        -18.745019\n",
       "categorical__Model_Escape                          -19.535954\n",
       "categorical__Model_Escort                          -31.131994\n",
       "categorical__Model_Espace                           -5.350984\n",
       "categorical__Model_Esprit                           78.355285\n",
       "categorical__Model_Esteem                          -93.320309\n",
       "categorical__Model_Europa                           -1.193929\n",
       "categorical__Model_Eurovan                          46.666546\n",
       "categorical__Model_Evora                           -35.381717\n",
       "categorical__Model_Ex                               92.708921\n",
       "categorical__Model_Ex35                             59.559628\n",
       "categorical__Model_Exeo                            -10.508745\n",
       "categorical__Model_Exige                           -10.854057\n",
       "categorical__Model_Expedition                       32.810278\n",
       "categorical__Model_Expert                           29.167053\n",
       "categorical__Model_Explorer                         14.700132\n",
       "categorical__Model_Express                          57.843898\n",
       "categorical__Model_F-150                            15.612349\n",
       "categorical__Model_F-250                            20.685598\n",
       "categorical__Model_F-type                          -17.749949\n",
       "categorical__Model_F355                            105.398315\n",
       "categorical__Model_F355/355                        115.765005\n",
       "categorical__Model_F430                             19.154874\n",
       "categorical__Model_Fabia                           -18.272685\n",
       "categorical__Model_Felicia                         -19.194778\n",
       "categorical__Model_Fiesta                          -36.482265\n",
       "categorical__Model_Fiorino                           9.866740\n",
       "categorical__Model_Firebird                        -45.637708\n",
       "categorical__Model_Firebird/formula                -44.142160\n",
       "categorical__Model_Firefly                         -53.314204\n",
       "categorical__Model_Fit                             -41.103628\n",
       "categorical__Model_Five                            -19.667132\n",
       "categorical__Model_Fj                               24.551870\n",
       "categorical__Model_Fleetwood                      -107.638527\n",
       "categorical__Model_Flex                              2.657857\n",
       "categorical__Model_Flying                          -74.254985\n",
       "categorical__Model_Focus                           -27.081539\n",
       "categorical__Model_Forester                          2.780344\n",
       "categorical__Model_Forfour                          23.359642\n",
       "categorical__Model_Formula                         -48.715285\n",
       "categorical__Model_Forte                           -18.864930\n",
       "categorical__Model_Fortwo                           15.193745\n",
       "categorical__Model_Fox                             -27.618470\n",
       "categorical__Model_Fr-s                              0.211200\n",
       "categorical__Model_Fr-v                            -12.240285\n",
       "categorical__Model_Freelander                      -68.681449\n",
       "categorical__Model_Freestar                         -7.978497\n",
       "categorical__Model_Freestyle                        -3.177783\n",
       "categorical__Model_Frontera                         67.059494\n",
       "categorical__Model_Frontier                         17.971270\n",
       "categorical__Model_Fun                             -11.399414\n",
       "categorical__Model_Fusion                          -31.031685\n",
       "categorical__Model_Fx                               98.781251\n",
       "categorical__Model_Fx35                             84.294780\n",
       "categorical__Model_Fx45                             95.350991\n",
       "categorical__Model_Fx50                             56.182158\n",
       "categorical__Model_G                                70.517232\n",
       "categorical__Model_G-class                          61.413567\n",
       "categorical__Model_G10/g20                          38.384456\n",
       "categorical__Model_G15                              44.712325\n",
       "categorical__Model_G15/25                           56.174373\n",
       "categorical__Model_G15/g25                          42.212040\n",
       "categorical__Model_G1500/g2500                      51.839711\n",
       "categorical__Model_G20                              43.956390\n",
       "categorical__Model_G25                              53.638264\n",
       "categorical__Model_G3                              -17.980204\n",
       "categorical__Model_G30                              50.974786\n",
       "categorical__Model_G35                              48.594389\n",
       "categorical__Model_G37                              60.582905\n",
       "categorical__Model_G37x                             33.292925\n",
       "categorical__Model_G5                              -24.363626\n",
       "categorical__Model_G500                             80.738849\n",
       "categorical__Model_G6                              -14.498988\n",
       "categorical__Model_G8                              -41.926486\n",
       "categorical__Model_Galant                          -43.162304\n",
       "categorical__Model_Galaxy                            4.635459\n",
       "categorical__Model_Gallardo                        -40.153498\n",
       "categorical__Model_Gen-2                           -14.020865\n",
       "categorical__Model_Genesis                         -14.975896\n",
       "categorical__Model_Getz                            -26.174950\n",
       "categorical__Model_Ghost                           -94.563018\n",
       "categorical__Model_Giulietta                       -75.221437\n",
       "categorical__Model_Gl                               35.938314\n",
       "categorical__Model_Gl-class                         31.790007\n",
       "categorical__Model_Glk                              -0.190825\n",
       "categorical__Model_Golf                            -39.635714\n",
       "categorical__Model_Golf/gti                        -23.594394\n",
       "categorical__Model_Grancabrio                      -62.709554\n",
       "categorical__Model_Grand                           -20.071400\n",
       "categorical__Model_Grande                          -17.923617\n",
       "categorical__Model_Grandeur                          7.016429\n",
       "categorical__Model_Grandis                         -22.138936\n",
       "categorical__Model_Granturismo                     -60.887455\n",
       "categorical__Model_Gs                               -0.149986\n",
       "categorical__Model_Gt                              -29.493352\n",
       "categorical__Model_Gt86                             13.558787\n",
       "categorical__Model_Gti                             -10.605158\n",
       "categorical__Model_Gtr                              21.576447\n",
       "categorical__Model_Gx                               47.399543\n",
       "categorical__Model_H15                              51.633974\n",
       "categorical__Model_H15/25                           62.386693\n",
       "categorical__Model_H3                               29.372090\n",
       "categorical__Model_H3t                               0.602911\n",
       "categorical__Model_Hhr                               4.922653\n",
       "categorical__Model_Hiace                            55.180514\n",
       "categorical__Model_Highlander                      -11.569222\n",
       "categorical__Model_Hombre                          -36.972984\n",
       "categorical__Model_Honda                            23.523108\n",
       "categorical__Model_Hr-v                            -13.506476\n",
       "categorical__Model_Hs                              -59.401000\n",
       "categorical__Model_I10                             -32.754420\n",
       "categorical__Model_I20                             -18.086047\n",
       "categorical__Model_I30                              -7.628033\n",
       "categorical__Model_I35                              34.773697\n",
       "categorical__Model_I40                             -14.517970\n",
       "categorical__Model_I800                             57.415026\n",
       "categorical__Model_Ibiza                           -25.298798\n",
       "categorical__Model_Idea                            -13.682394\n",
       "categorical__Model_Ignis                           -69.342027\n",
       "categorical__Model_Ilx                              -6.368888\n",
       "categorical__Model_Impala                          -16.314199\n",
       "categorical__Model_Impian                          -12.264123\n",
       "categorical__Model_Impreza                           1.408205\n",
       "categorical__Model_Insight                         -61.228458\n",
       "categorical__Model_Insignia                          4.764475\n",
       "categorical__Model_Integra                           4.072409\n",
       "categorical__Model_Intrepid                        -47.903265\n",
       "categorical__Model_Intrigue                        -25.519132\n",
       "categorical__Model_Ion                              12.064132\n",
       "categorical__Model_Iq                              -42.845953\n",
       "categorical__Model_Is                                3.938882\n",
       "categorical__Model_Is250                            16.832973\n",
       "categorical__Model_Is300h                          -76.553438\n",
       "categorical__Model_Ix20                            -14.656834\n",
       "categorical__Model_Ix35                             10.881793\n",
       "categorical__Model_J30                              54.455986\n",
       "categorical__Model_Jaguar                           -6.564158\n",
       "categorical__Model_Jazz                            -46.605224\n",
       "categorical__Model_Jeep                            -17.676217\n",
       "categorical__Model_Jetta                           -18.266117\n",
       "categorical__Model_Jimmy                            48.886615\n",
       "categorical__Model_Jimny                           -46.823184\n",
       "categorical__Model_John                            -56.533153\n",
       "categorical__Model_Journey                         -11.156008\n",
       "categorical__Model_Juke                            -35.498848\n",
       "categorical__Model_Justy                           -27.445744\n",
       "categorical__Model_Jx35                             51.741186\n",
       "categorical__Model_K1500                            59.178337\n",
       "categorical__Model_K2500                            60.386394\n",
       "categorical__Model_Ka                              -30.684741\n",
       "categorical__Model_Kalos                             3.470460\n",
       "categorical__Model_Kangoo                          -10.216635\n",
       "categorical__Model_Kizashi                         -62.024750\n",
       "categorical__Model_Kjr                             -26.436805\n",
       "categorical__Model_Koleos                            9.297960\n",
       "categorical__Model_Korando                          82.789551\n",
       "categorical__Model_Kuga                            -16.679980\n",
       "categorical__Model_Kyron                           103.751940\n",
       "categorical__Model_L100/200                         16.785188\n",
       "categorical__Model_L300                             13.919630\n",
       "categorical__Model_Lacetti                          17.463973\n",
       "categorical__Model_Lacrosse                         -0.630460\n",
       "categorical__Model_Laguna                           -9.720156\n",
       "categorical__Model_Lancer                          -40.643682\n",
       "categorical__Model_Land                             60.065218\n",
       "categorical__Model_Landcruiser                      91.447064\n",
       "categorical__Model_Lanos                            24.233091\n",
       "categorical__Model_Lantra                            3.716811\n",
       "categorical__Model_Lebaron                         -68.718656\n",
       "categorical__Model_Legacy                           -3.669859\n",
       "categorical__Model_Legacy/outback                  -15.631293\n",
       "categorical__Model_Leganza                          49.594253\n",
       "categorical__Model_Legend                           25.473435\n",
       "categorical__Model_Leon                             -6.717588\n",
       "categorical__Model_Lesabre                         -33.078899\n",
       "categorical__Model_Lfa                             123.483425\n",
       "categorical__Model_Lhs                             -48.232655\n",
       "categorical__Model_Liana                           -59.375860\n",
       "categorical__Model_Liberty                         -11.898891\n",
       "categorical__Model_Logo                            -40.584858\n",
       "categorical__Model_Lr2                             -93.295386\n",
       "categorical__Model_Lr3                             -56.643807\n",
       "categorical__Model_Lr4                             -57.974665\n",
       "categorical__Model_Ls                                6.026719\n",
       "categorical__Model_Ls400                           -12.385315\n",
       "categorical__Model_Ls460                             2.418107\n",
       "categorical__Model_Lt                               70.821272\n",
       "categorical__Model_Lucerne                         -13.412803\n",
       "categorical__Model_Lumina                           -5.526180\n",
       "categorical__Model_Lupo                            -33.328402\n",
       "categorical__Model_Lw200                            17.553021\n",
       "categorical__Model_Lw300                            14.963422\n",
       "categorical__Model_Lx                               60.819186\n",
       "categorical__Model_M                                33.121071\n",
       "categorical__Model_M-class                          33.994660\n",
       "categorical__Model_M3                               56.363471\n",
       "categorical__Model_M35                              56.352618\n",
       "categorical__Model_M35h                            -29.246558\n",
       "categorical__Model_M35x                             68.654942\n",
       "categorical__Model_M37                              29.206507\n",
       "categorical__Model_M37x                             43.646727\n",
       "categorical__Model_M45                              45.790260\n",
       "categorical__Model_M45x                             74.104031\n",
       "categorical__Model_M5                               79.853772\n",
       "categorical__Model_M56                              -4.767723\n",
       "categorical__Model_M56x                              7.451698\n",
       "categorical__Model_M6                               81.918961\n",
       "categorical__Model_Magentis                          8.458330\n",
       "categorical__Model_Magnum                          -52.292398\n",
       "categorical__Model_Malibu                          -11.804194\n",
       "categorical__Model_Marauder                        -23.947341\n",
       "categorical__Model_Marea                             6.275626\n",
       "categorical__Model_Mark                            -12.604417\n",
       "categorical__Model_Materia                           3.925697\n",
       "categorical__Model_Matiz                            -0.755553\n",
       "categorical__Model_Matrix                            4.374322\n",
       "categorical__Model_Maverick                         14.921226\n",
       "categorical__Model_Maxima                          -36.957073\n",
       "categorical__Model_Maybach                          70.385214\n",
       "categorical__Model_Mcc                               8.204523\n",
       "categorical__Model_Mdx                              44.964942\n",
       "categorical__Model_Megane                          -23.352764\n",
       "categorical__Model_Mentor                            1.643663\n",
       "categorical__Model_Meriva                          -12.110273\n",
       "categorical__Model_Metro                           -47.409754\n",
       "categorical__Model_Mg                              -42.185983\n",
       "categorical__Model_Mgf                             -58.259010\n",
       "categorical__Model_Micra                           -51.503818\n",
       "categorical__Model_Millenia                         29.890896\n",
       "categorical__Model_Mini                            -55.338835\n",
       "categorical__Model_Mirage                         -104.018818\n",
       "categorical__Model_Mito                            -75.398493\n",
       "categorical__Model_Mks                              -2.508396\n",
       "categorical__Model_Mkt                              10.503953\n",
       "categorical__Model_Mkx                               0.922191\n",
       "categorical__Model_Mkz                             -31.311416\n",
       "categorical__Model_Ml                               30.262066\n",
       "categorical__Model_Ml-class                         35.986831\n",
       "categorical__Model_Modus                           -28.828970\n",
       "categorical__Model_Mokka                           -19.745556\n",
       "categorical__Model_Mondeo                           -8.882407\n",
       "categorical__Model_Montana                           6.694548\n",
       "categorical__Model_Monte                           -15.352216\n",
       "categorical__Model_Montero                           1.710098\n",
       "categorical__Model_Morgan                           27.121338\n",
       "categorical__Model_Movano                           50.884872\n",
       "categorical__Model_Mp4-12c                          10.328802\n",
       "categorical__Model_Mpv                              61.053846\n",
       "categorical__Model_Mr2                             -11.439900\n",
       "categorical__Model_Mulsanne                        -43.543536\n",
       "categorical__Model_Multi-van                        54.534058\n",
       "categorical__Model_Multipla                         20.630790\n",
       "categorical__Model_Murano                           -4.930627\n",
       "categorical__Model_Murcielago                       40.759087\n",
       "categorical__Model_Murcielargo                      17.868327\n",
       "categorical__Model_Murcielgo                        48.550873\n",
       "categorical__Model_Musso                            91.564162\n",
       "categorical__Model_Mustang                         -39.450227\n",
       "categorical__Model_Mx                               36.826463\n",
       "categorical__Model_Mx-3                             22.502335\n",
       "categorical__Model_Mx-5                             26.041720\n",
       "categorical__Model_Mx-5/miata                       19.781487\n",
       "categorical__Model_Mx-6                              7.124787\n",
       "categorical__Model_Mystique                          3.446621\n",
       "categorical__Model_Myvi                             24.006917\n",
       "categorical__Model_Mégane                          -21.270400\n",
       "categorical__Model_Navigator                        39.996830\n",
       "categorical__Model_Nemo                            -27.085092\n",
       "categorical__Model_Neon                            -63.153458\n",
       "categorical__Model_New                             -10.371172\n",
       "categorical__Model_Ninety-eight                    -28.721881\n",
       "categorical__Model_Nitro                             0.009102\n",
       "categorical__Model_Note                            -40.522899\n",
       "categorical__Model_Nsx                              44.154036\n",
       "categorical__Model_Nubira                           33.985340\n",
       "categorical__Model_Nv                              -18.247799\n",
       "categorical__Model_Nv200                           -17.270044\n",
       "categorical__Model_Octavia                          -3.020627\n",
       "categorical__Model_Odyssey                         -21.262792\n",
       "categorical__Model_Omega                            23.264035\n",
       "categorical__Model_Optima                          -12.294010\n",
       "categorical__Model_Optra                            24.044625\n",
       "categorical__Model_Orlando                          25.298177\n",
       "categorical__Model_Outback                          -4.860022\n",
       "categorical__Model_Outlander                       -33.444858\n",
       "categorical__Model_Outlook                          36.976099\n",
       "categorical__Model_Pacifica                        -22.776488\n",
       "categorical__Model_Panamera                         -5.714278\n",
       "categorical__Model_Panda                            -5.193433\n",
       "categorical__Model_Park                            -16.361468\n",
       "categorical__Model_Partner                           4.462977\n",
       "categorical__Model_Paseo                           -35.066699\n",
       "categorical__Model_Passat                          -10.512123\n",
       "categorical__Model_Pathfinder                       26.131539\n",
       "categorical__Model_Patriot                         -53.772700\n",
       "categorical__Model_Patrol                           67.734548\n",
       "categorical__Model_Persona                           6.034947\n",
       "categorical__Model_Phaeton                          36.990869\n",
       "categorical__Model_Phantom                         -54.005246\n",
       "categorical__Model_Picanto                         -33.317763\n",
       "categorical__Model_Picnic                           33.509402\n",
       "categorical__Model_Pilot                             3.988570\n",
       "categorical__Model_Pixo                            -65.404023\n",
       "categorical__Model_Plus                              8.899600\n",
       "categorical__Model_Polo                            -37.748302\n",
       "categorical__Model_Prelude                         -14.690354\n",
       "categorical__Model_Premacy                          29.173120\n",
       "categorical__Model_Previa                           34.446071\n",
       "categorical__Model_Primastar                        64.627049\n",
       "categorical__Model_Primera                         -23.760805\n",
       "categorical__Model_Prius                           -56.817143\n",
       "categorical__Model_Pro_cee'd                       -16.077812\n",
       "categorical__Model_Probe                           -29.009311\n",
       "categorical__Model_Protege                          -0.011454\n",
       "categorical__Model_Protege/protege5                 16.224973\n",
       "categorical__Model_Prowler                         -17.289079\n",
       "categorical__Model_Pt                              -29.828185\n",
       "categorical__Model_Puma                            -34.334182\n",
       "categorical__Model_Punto                           -25.254857\n",
       "categorical__Model_Pursuit                         -24.517805\n",
       "categorical__Model_Putra                            17.939338\n",
       "categorical__Model_Q3                               -5.747583\n",
       "categorical__Model_Q45                              33.394530\n",
       "categorical__Model_Q5                              -15.894770\n",
       "categorical__Model_Q60                              47.798665\n",
       "categorical__Model_Q7                                5.803861\n",
       "categorical__Model_Q70                              24.028308\n",
       "categorical__Model_Qashqai                         -23.702026\n",
       "categorical__Model_Qashqai+2                       -17.627994\n",
       "categorical__Model_Quattroporte                    -48.650919\n",
       "categorical__Model_Qubo                            -10.304743\n",
       "categorical__Model_Quest                           -20.635486\n",
       "categorical__Model_Qx4                             115.078903\n",
       "categorical__Model_Qx56                             73.148400\n",
       "categorical__Model_Qx60                             33.376623\n",
       "categorical__Model_Qx70                             71.458720\n",
       "categorical__Model_Qx80                             60.702397\n",
       "categorical__Model_R                                27.095389\n",
       "categorical__Model_R-class                          20.198283\n",
       "categorical__Model_R8                               36.263717\n",
       "categorical__Model_Rabbit                          -19.993611\n",
       "categorical__Model_Rainier                          34.096978\n",
       "categorical__Model_Ram                              24.286627\n",
       "categorical__Model_Range                           -49.826410\n",
       "categorical__Model_Ranger                           15.366793\n",
       "categorical__Model_Rapid                           -30.663243\n",
       "categorical__Model_Rapide                          -22.028141\n",
       "categorical__Model_Rav4                            -22.822667\n",
       "categorical__Model_Rcz                             -13.113250\n",
       "categorical__Model_Rdx                              58.518811\n",
       "categorical__Model_Regal                            -9.613998\n",
       "categorical__Model_Relay                            34.297288\n",
       "categorical__Model_Rendezvous                        9.559211\n",
       "categorical__Model_Rexton                          128.849946\n",
       "categorical__Model_Ridgeline                        27.338734\n",
       "categorical__Model_Rio                             -21.296065\n",
       "categorical__Model_Riviera                         -20.296701\n",
       "categorical__Model_Rl                               30.044784\n",
       "categorical__Model_Roadster                         12.633580\n",
       "categorical__Model_Roadster-coupé                   18.818674\n",
       "categorical__Model_Rodeo                            16.250803\n",
       "categorical__Model_Rodius                          113.734139\n",
       "categorical__Model_Rogue                           -46.139905\n",
       "categorical__Model_Rondo                             8.816259\n",
       "categorical__Model_Roomster                         -8.793875\n",
       "categorical__Model_Routan                           -4.735879\n",
       "categorical__Model_Rover                           -33.621647\n",
       "categorical__Model_Rs                               26.422737\n",
       "categorical__Model_Rs6                              33.196596\n",
       "categorical__Model_Rsx                               7.575412\n",
       "categorical__Model_Rvr                             -62.890186\n",
       "categorical__Model_Rx                               -0.904361\n",
       "categorical__Model_Rx-7                             97.568553\n",
       "categorical__Model_Rx-8                            100.150494\n",
       "categorical__Model_S                                 0.953807\n",
       "categorical__Model_S-class                         -11.861663\n",
       "categorical__Model_S-max                             1.040622\n",
       "categorical__Model_S-type                           -1.825635\n",
       "categorical__Model_S/v40                           -21.149575\n",
       "categorical__Model_S10                              20.043187\n",
       "categorical__Model_S15                              17.610041\n",
       "categorical__Model_S2000                            29.753557\n",
       "categorical__Model_S3                              -22.693741\n",
       "categorical__Model_S4                               13.881400\n",
       "categorical__Model_S40                             -23.566460\n",
       "categorical__Model_S5                                4.365626\n",
       "categorical__Model_S6                               13.850231\n",
       "categorical__Model_S60                             -19.188549\n",
       "categorical__Model_S70                             -12.061044\n",
       "categorical__Model_S8                               11.936786\n",
       "categorical__Model_S80                             -12.043059\n",
       "categorical__Model_S80/s80                         -15.829583\n",
       "categorical__Model_Sable                             5.239839\n",
       "categorical__Model_Safari                           37.132681\n",
       "categorical__Model_Safrane                          10.618287\n",
       "categorical__Model_Sandero                         -19.763114\n",
       "categorical__Model_Santa                            20.835049\n",
       "categorical__Model_Satria                            6.124074\n",
       "categorical__Model_Savana                           59.743668\n",
       "categorical__Model_Savvy                           -40.355917\n",
       "categorical__Model_Saxo                            -30.581029\n",
       "categorical__Model_Sc                               -4.614224\n",
       "categorical__Model_Scenic                          -24.382251\n",
       "categorical__Model_Scirocco                        -22.481141\n",
       "categorical__Model_Scoupe                          -47.826218\n",
       "categorical__Model_Scudo                            42.083558\n",
       "categorical__Model_Scènic                          -11.500626\n",
       "categorical__Model_Scénic                          -13.071727\n",
       "categorical__Model_Sebring                         -41.009841\n",
       "categorical__Model_Sedici                            1.329567\n",
       "categorical__Model_Sedona                           41.267974\n",
       "categorical__Model_Seicento                        -22.106210\n",
       "categorical__Model_Sentra                          -47.656680\n",
       "categorical__Model_Sentra/200sx                    -60.350539\n",
       "categorical__Model_Sephia                            5.027955\n",
       "categorical__Model_Sequoia                          43.240806\n",
       "categorical__Model_Seville                         -40.926698\n",
       "categorical__Model_Sharan                           22.822924\n",
       "categorical__Model_Shogun                            7.590406\n",
       "categorical__Model_Shuma                            16.441927\n",
       "categorical__Model_Shuttle                          23.096868\n",
       "categorical__Model_Sidekick                        -44.154470\n",
       "categorical__Model_Sienna                            6.440970\n",
       "categorical__Model_Sierra                           13.065385\n",
       "categorical__Model_Signum                            4.646119\n",
       "categorical__Model_Silhouette                        1.616874\n",
       "categorical__Model_Silver                          -36.832409\n",
       "categorical__Model_Silverado                        11.817041\n",
       "categorical__Model_Sirion                          -26.528997\n",
       "categorical__Model_Sky                              47.749720\n",
       "categorical__Model_Skylark                          -7.821523\n",
       "categorical__Model_Sl                              -11.742292\n",
       "categorical__Model_Sl-class                         -4.742071\n",
       "categorical__Model_Slk                             -22.988143\n",
       "categorical__Model_Slk-class                       -10.242634\n",
       "categorical__Model_Slr                              31.418750\n",
       "categorical__Model_Sls                             -24.930767\n",
       "categorical__Model_Smart                            11.290529\n",
       "categorical__Model_Solstice                         26.612507\n",
       "categorical__Model_Sonata                          -14.361445\n",
       "categorical__Model_Sonic                            -3.811912\n",
       "categorical__Model_Sonoma                           38.333061\n",
       "categorical__Model_Sorento                          22.585716\n",
       "categorical__Model_Soul                             -3.684614\n",
       "categorical__Model_Sovereign                        -5.488788\n",
       "categorical__Model_Space                           -31.706392\n",
       "categorical__Model_Spark                           -17.547336\n",
       "categorical__Model_Spectra                          -2.225421\n",
       "categorical__Model_Speed                            63.765165\n",
       "categorical__Model_Speed3                           54.998334\n",
       "categorical__Model_Spider                          -14.521621\n",
       "categorical__Model_Spider/gtv                       -5.232301\n",
       "categorical__Model_Spirit                          -53.910856\n",
       "categorical__Model_Splash                          -82.999232\n",
       "categorical__Model_Sportage                         11.074543\n",
       "categorical__Model_Sports                          144.294158\n",
       "categorical__Model_Spyder                           -0.951688\n",
       "categorical__Model_Sq5                              25.769030\n",
       "categorical__Model_Srt-4                           -22.185155\n",
       "categorical__Model_Srt10                            85.947835\n",
       "categorical__Model_Srx                              -1.985131\n",
       "categorical__Model_Ssr                              29.578470\n",
       "categorical__Model_Stealth                         -22.231729\n",
       "categorical__Model_Stilo                            -4.043011\n",
       "categorical__Model_Stratus                         -36.614399\n",
       "categorical__Model_Stream                           -6.273051\n",
       "categorical__Model_Street                           -3.761545\n",
       "categorical__Model_Streetwise                      -47.024671\n",
       "categorical__Model_Sts                             -25.094145\n",
       "categorical__Model_Sts-v                            61.457671\n",
       "categorical__Model_Suburban                          5.412368\n",
       "categorical__Model_Summit                          -14.993589\n",
       "categorical__Model_Sunfire                         -16.260560\n",
       "categorical__Model_Sunrunner                        14.960563\n",
       "categorical__Model_Super                            -2.533598\n",
       "categorical__Model_Superb                            9.338962\n",
       "categorical__Model_Supra                             1.355658\n",
       "categorical__Model_Svx                             -11.256485\n",
       "categorical__Model_Sw                               -7.801698\n",
       "categorical__Model_Swift                           -79.084318\n",
       "categorical__Model_Swift+                          -71.023868\n",
       "categorical__Model_Sx                              -46.720337\n",
       "categorical__Model_Sx4                             -60.269635\n",
       "categorical__Model_Synergie                          8.726821\n",
       "categorical__Model_T100                             34.006145\n",
       "categorical__Model_T5                               46.346905\n",
       "categorical__Model_Tacoma                           26.855940\n",
       "categorical__Model_Tacuma                           41.586864\n",
       "categorical__Model_Tahoe                           -19.472018\n",
       "categorical__Model_Talon                            -1.878834\n",
       "categorical__Model_Targa                            11.171667\n",
       "categorical__Model_Taurus                          -18.586378\n",
       "categorical__Model_Taxi                             34.100640\n",
       "categorical__Model_Tc                              -13.601445\n",
       "categorical__Model_Tercel                          -47.944183\n",
       "categorical__Model_Terios                           19.173584\n",
       "categorical__Model_Terracan                         35.515399\n",
       "categorical__Model_Terrain                          25.332899\n",
       "categorical__Model_Terrano                          36.947863\n",
       "categorical__Model_Terraza                          18.988732\n",
       "categorical__Model_Thunderbird                     -34.560267\n",
       "categorical__Model_Tiburon                           8.160053\n",
       "categorical__Model_Tigra                           -17.613916\n",
       "categorical__Model_Tiguan                           -8.797390\n",
       "categorical__Model_Tino                            -16.717368\n",
       "categorical__Model_Titan                             9.213821\n",
       "categorical__Model_Tj                                3.212523\n",
       "categorical__Model_Tl                                8.934678\n",
       "categorical__Model_Toledo                           -4.276512\n",
       "categorical__Model_Torrent                           8.651401\n",
       "categorical__Model_Touareg                          25.774028\n",
       "categorical__Model_Touran                          -13.713015\n",
       "categorical__Model_Tourneo                          -1.226233\n",
       "categorical__Model_Town                            -32.896430\n",
       "categorical__Model_Tracker                          21.213743\n",
       "categorical__Model_Trailblazer                      34.763853\n",
       "categorical__Model_Trajet                           38.439235\n",
       "categorical__Model_Trans                            16.449849\n",
       "categorical__Model_Transit                          39.477045\n",
       "categorical__Model_Transporter                      46.595061\n",
       "categorical__Model_Traverse                         23.511518\n",
       "categorical__Model_Trax                              9.922208\n",
       "categorical__Model_Tribeca                          11.878966\n",
       "categorical__Model_Tribute                          33.374898\n",
       "categorical__Model_Trooper                          42.470733\n",
       "categorical__Model_Truck                            32.745017\n",
       "categorical__Model_Tsx                               2.202800\n",
       "categorical__Model_Tt                              -20.270825\n",
       "categorical__Model_Tts                              -5.974916\n",
       "categorical__Model_Tucson                            6.736906\n",
       "categorical__Model_Tundra                           35.555598\n",
       "categorical__Model_Turbo                           -30.197653\n",
       "categorical__Model_Twingo                          -33.142464\n",
       "categorical__Model_Ulysse                           30.162811\n",
       "categorical__Model_Uplander                         17.735200\n",
       "categorical__Model_Urban                           -11.721654\n",
       "categorical__Model_V-class                          49.778855\n",
       "categorical__Model_V12                              22.272001\n",
       "categorical__Model_V40                             -45.234846\n",
       "categorical__Model_V50                             -21.354765\n",
       "categorical__Model_V60                             -19.983040\n",
       "categorical__Model_V70                              -4.944640\n",
       "categorical__Model_V70r                             11.623791\n",
       "categorical__Model_V8                               -7.105793\n",
       "categorical__Model_Vanden                           -3.752985\n",
       "categorical__Model_Vaneo                           -12.099570\n",
       "categorical__Model_Vanquish                         33.194550\n",
       "categorical__Model_Vectra                           -4.696338\n",
       "categorical__Model_Vel                              17.653784\n",
       "categorical__Model_Veloster                        -17.605116\n",
       "categorical__Model_Venga                           -14.202132\n",
       "categorical__Model_Venture                          11.032223\n",
       "categorical__Model_Venza                           -11.357382\n",
       "categorical__Model_Veracruz                          5.838857\n",
       "categorical__Model_Verano                            1.870398\n",
       "categorical__Model_Verona                          -47.987012\n",
       "categorical__Model_Versa                           -48.415508\n",
       "categorical__Model_Verso                            -3.521398\n",
       "categorical__Model_Verso-s                         -34.954206\n",
       "categorical__Model_Veyron                           50.434446\n",
       "categorical__Model_Viano                            40.707567\n",
       "categorical__Model_Vibe                            -14.903188\n",
       "categorical__Model_Villager                         34.093321\n",
       "categorical__Model_Viper                           -68.719858\n",
       "categorical__Model_Vitara                          -39.100920\n",
       "categorical__Model_Vito                             35.180542\n",
       "categorical__Model_Vivaro                           47.438961\n",
       "categorical__Model_Voyager                         -26.224084\n",
       "categorical__Model_Vue                              29.889368\n",
       "categorical__Model_Vw                              -52.601758\n",
       "categorical__Model_Vx220                            -5.417100\n",
       "categorical__Model_Wagon                           -73.071799\n",
       "categorical__Model_Wave                             -5.201580\n",
       "categorical__Model_Wind                            -20.148747\n",
       "categorical__Model_Window                           48.019643\n",
       "categorical__Model_Windstar                         -6.481513\n",
       "categorical__Model_Wira                             20.986656\n",
       "categorical__Model_Wraith                          -87.708921\n",
       "categorical__Model_Wrangler                         -7.223315\n",
       "categorical__Model_Wrx                              41.031714\n",
       "categorical__Model_X                                -4.852274\n",
       "categorical__Model_X-trail                          -6.519317\n",
       "categorical__Model_X-type                           24.983543\n",
       "categorical__Model_X1                               16.891528\n",
       "categorical__Model_X3                               26.315461\n",
       "categorical__Model_X5                               35.854512\n",
       "categorical__Model_X6                               39.849635\n",
       "categorical__Model_Xantia                           -0.428488\n",
       "categorical__Model_Xb                                7.347646\n",
       "categorical__Model_Xc60                             -3.233665\n",
       "categorical__Model_Xc70                              1.486323\n",
       "categorical__Model_Xc90                             13.195216\n",
       "categorical__Model_Xd                              -18.625013\n",
       "categorical__Model_Xedos                            53.489156\n",
       "categorical__Model_Xf                              -18.743886\n",
       "categorical__Model_Xfr                             -11.712156\n",
       "categorical__Model_Xfr-s                            -5.050542\n",
       "categorical__Model_Xg                               14.258178\n",
       "categorical__Model_Xg350                             4.520965\n",
       "categorical__Model_Xj                               -4.013971\n",
       "categorical__Model_Xj12                             57.130033\n",
       "categorical__Model_Xj6                             -12.953126\n",
       "categorical__Model_Xj8                             -11.464158\n",
       "categorical__Model_Xj8l                            -12.843959\n",
       "categorical__Model_Xjl                              -9.951329\n",
       "categorical__Model_Xjr                              10.931549\n",
       "categorical__Model_Xjs                               0.099025\n",
       "categorical__Model_Xk                               -9.176375\n",
       "categorical__Model_Xk8                             -15.173125\n",
       "categorical__Model_Xkr                               5.449680\n",
       "categorical__Model_Xkr-s                             0.807831\n",
       "categorical__Model_Xkr8                            -15.806967\n",
       "categorical__Model_Xl-7                              3.766732\n",
       "categorical__Model_Xl7                             -33.166302\n",
       "categorical__Model_Xlr                             -43.691271\n",
       "categorical__Model_Xm                               13.999822\n",
       "categorical__Model_Xsara                           -26.931762\n",
       "categorical__Model_Xterra                           28.879838\n",
       "categorical__Model_Xts                             -39.482327\n",
       "categorical__Model_Xv                              -17.093349\n",
       "categorical__Model_Yaris                           -29.097782\n",
       "categorical__Model_Yeti                              6.153746\n",
       "categorical__Model_Yj                               -2.245474\n",
       "categorical__Model_Yrv                             -25.424721\n",
       "categorical__Model_Yukon                             4.827156\n",
       "categorical__Model_Z06                               8.651077\n",
       "categorical__Model_Z3                               19.175808\n",
       "categorical__Model_Z4                                3.569294\n",
       "categorical__Model_Z8                               79.775598\n",
       "categorical__Model_Zafira                            1.414625\n",
       "categorical__Model_Zdx                              32.334363\n",
       "categorical__Model_Zr1                              39.455290\n",
       "categorical__Fuel_type_CNG                          -7.960530\n",
       "categorical__Fuel_type_Diesel                        5.026260\n",
       "categorical__Fuel_type_Diesel Electric             -46.932679\n",
       "categorical__Fuel_type_Diesel Hybrid                -0.828903\n",
       "categorical__Fuel_type_Electricity/Petrol          -55.054977\n",
       "categorical__Fuel_type_Ethanol                      26.195222\n",
       "categorical__Fuel_type_Extended range               45.280073\n",
       "categorical__Fuel_type_LPG                          18.349510\n",
       "categorical__Fuel_type_LPG / Petrol                  6.154904\n",
       "categorical__Fuel_type_Natural Gas                   7.721496\n",
       "categorical__Fuel_type_Natural gas                  12.124511\n",
       "categorical__Fuel_type_Petrol                       37.309332\n",
       "categorical__Fuel_type_Petrol / E85                 39.782879\n",
       "categorical__Fuel_type_Petrol / E85 (Flex Fuel)     37.300766\n",
       "categorical__Fuel_type_Petrol Electric             -12.972105\n",
       "categorical__Fuel_type_Petrol Hybrid                -1.262960\n",
       "categorical__Fuel_type_Petrol hybrid                 0.240259\n",
       "categorical__Fuel_type_Plug-in hybrid             -110.473060\n",
       "categorical__Transmission_type_Automatic             3.785001\n",
       "categorical__Transmission_type_Manual               -3.785001\n",
       "dtype: float64"
      ]
     },
     "execution_count": 92,
     "metadata": {},
     "output_type": "execute_result"
    }
   ],
   "source": [
    "pd.set_option('display.max_rows', None)\n",
    "pd.Series(model.named_steps[\"regr\"].coef_, preprocessor.get_feature_names_out(X.columns))"
   ]
  },
  {
   "cell_type": "markdown",
   "metadata": {
    "tags": []
   },
   "source": [
    "## Regressione polinomiale\n",
    "Per ottenere risultati migliori, vengono introdotte le feature polinomiali, che aggiungono nuove feature di grado superiore. Si esclude il bias, che consiste nel valore dell'intercetta, e si escludono i prodotti tra le diverse feature, per esempio i doppi prodotti in una regressione polinomiale di grado 2. "
   ]
  },
  {
   "cell_type": "code",
   "execution_count": 84,
   "metadata": {},
   "outputs": [],
   "source": [
    "from sklearn.preprocessing import PolynomialFeatures"
   ]
  },
  {
   "cell_type": "code",
   "execution_count": 85,
   "metadata": {},
   "outputs": [],
   "source": [
    "model = Pipeline([\n",
    "    (\"preproc\", preprocessor),\n",
    "    (\"poly\", PolynomialFeatures(degree=2, include_bias=False, interaction_only=True)),\n",
    "    (\"regr\"   , LinearRegression())\n",
    "])\n",
    "model_list.append(copy.copy(model))"
   ]
  },
  {
   "cell_type": "code",
   "execution_count": 86,
   "metadata": {},
   "outputs": [
    {
     "ename": "KeyboardInterrupt",
     "evalue": "",
     "output_type": "error",
     "traceback": [
      "\u001b[1;31m---------------------------------------------------------------------------\u001b[0m",
      "\u001b[1;31mKeyboardInterrupt\u001b[0m                         Traceback (most recent call last)",
      "\u001b[1;32m<timed eval>\u001b[0m in \u001b[0;36m<module>\u001b[1;34m\u001b[0m\n",
      "\u001b[1;32m~\\anaconda3\\lib\\site-packages\\sklearn\\pipeline.py\u001b[0m in \u001b[0;36mfit\u001b[1;34m(self, X, y, **fit_params)\u001b[0m\n\u001b[0;32m    392\u001b[0m             \u001b[1;32mif\u001b[0m \u001b[0mself\u001b[0m\u001b[1;33m.\u001b[0m\u001b[0m_final_estimator\u001b[0m \u001b[1;33m!=\u001b[0m \u001b[1;34m\"passthrough\"\u001b[0m\u001b[1;33m:\u001b[0m\u001b[1;33m\u001b[0m\u001b[1;33m\u001b[0m\u001b[0m\n\u001b[0;32m    393\u001b[0m                 \u001b[0mfit_params_last_step\u001b[0m \u001b[1;33m=\u001b[0m \u001b[0mfit_params_steps\u001b[0m\u001b[1;33m[\u001b[0m\u001b[0mself\u001b[0m\u001b[1;33m.\u001b[0m\u001b[0msteps\u001b[0m\u001b[1;33m[\u001b[0m\u001b[1;33m-\u001b[0m\u001b[1;36m1\u001b[0m\u001b[1;33m]\u001b[0m\u001b[1;33m[\u001b[0m\u001b[1;36m0\u001b[0m\u001b[1;33m]\u001b[0m\u001b[1;33m]\u001b[0m\u001b[1;33m\u001b[0m\u001b[1;33m\u001b[0m\u001b[0m\n\u001b[1;32m--> 394\u001b[1;33m                 \u001b[0mself\u001b[0m\u001b[1;33m.\u001b[0m\u001b[0m_final_estimator\u001b[0m\u001b[1;33m.\u001b[0m\u001b[0mfit\u001b[0m\u001b[1;33m(\u001b[0m\u001b[0mXt\u001b[0m\u001b[1;33m,\u001b[0m \u001b[0my\u001b[0m\u001b[1;33m,\u001b[0m \u001b[1;33m**\u001b[0m\u001b[0mfit_params_last_step\u001b[0m\u001b[1;33m)\u001b[0m\u001b[1;33m\u001b[0m\u001b[1;33m\u001b[0m\u001b[0m\n\u001b[0m\u001b[0;32m    395\u001b[0m \u001b[1;33m\u001b[0m\u001b[0m\n\u001b[0;32m    396\u001b[0m         \u001b[1;32mreturn\u001b[0m \u001b[0mself\u001b[0m\u001b[1;33m\u001b[0m\u001b[1;33m\u001b[0m\u001b[0m\n",
      "\u001b[1;32m~\\anaconda3\\lib\\site-packages\\sklearn\\linear_model\\_base.py\u001b[0m in \u001b[0;36mfit\u001b[1;34m(self, X, y, sample_weight)\u001b[0m\n\u001b[0;32m    704\u001b[0m \u001b[1;33m\u001b[0m\u001b[0m\n\u001b[0;32m    705\u001b[0m             \u001b[1;32mif\u001b[0m \u001b[0my\u001b[0m\u001b[1;33m.\u001b[0m\u001b[0mndim\u001b[0m \u001b[1;33m<\u001b[0m \u001b[1;36m2\u001b[0m\u001b[1;33m:\u001b[0m\u001b[1;33m\u001b[0m\u001b[1;33m\u001b[0m\u001b[0m\n\u001b[1;32m--> 706\u001b[1;33m                 \u001b[0mout\u001b[0m \u001b[1;33m=\u001b[0m \u001b[0msparse_lsqr\u001b[0m\u001b[1;33m(\u001b[0m\u001b[0mX_centered\u001b[0m\u001b[1;33m,\u001b[0m \u001b[0my\u001b[0m\u001b[1;33m)\u001b[0m\u001b[1;33m\u001b[0m\u001b[1;33m\u001b[0m\u001b[0m\n\u001b[0m\u001b[0;32m    707\u001b[0m                 \u001b[0mself\u001b[0m\u001b[1;33m.\u001b[0m\u001b[0mcoef_\u001b[0m \u001b[1;33m=\u001b[0m \u001b[0mout\u001b[0m\u001b[1;33m[\u001b[0m\u001b[1;36m0\u001b[0m\u001b[1;33m]\u001b[0m\u001b[1;33m\u001b[0m\u001b[1;33m\u001b[0m\u001b[0m\n\u001b[0;32m    708\u001b[0m                 \u001b[0mself\u001b[0m\u001b[1;33m.\u001b[0m\u001b[0m_residues\u001b[0m \u001b[1;33m=\u001b[0m \u001b[0mout\u001b[0m\u001b[1;33m[\u001b[0m\u001b[1;36m3\u001b[0m\u001b[1;33m]\u001b[0m\u001b[1;33m\u001b[0m\u001b[1;33m\u001b[0m\u001b[0m\n",
      "\u001b[1;32m~\\anaconda3\\lib\\site-packages\\scipy\\sparse\\linalg\\_isolve\\lsqr.py\u001b[0m in \u001b[0;36mlsqr\u001b[1;34m(A, b, damp, atol, btol, conlim, iter_lim, show, calc_var, x0)\u001b[0m\n\u001b[0;32m    431\u001b[0m             \u001b[0mu\u001b[0m \u001b[1;33m=\u001b[0m \u001b[1;33m(\u001b[0m\u001b[1;36m1\u001b[0m\u001b[1;33m/\u001b[0m\u001b[0mbeta\u001b[0m\u001b[1;33m)\u001b[0m \u001b[1;33m*\u001b[0m \u001b[0mu\u001b[0m\u001b[1;33m\u001b[0m\u001b[1;33m\u001b[0m\u001b[0m\n\u001b[0;32m    432\u001b[0m             \u001b[0manorm\u001b[0m \u001b[1;33m=\u001b[0m \u001b[0msqrt\u001b[0m\u001b[1;33m(\u001b[0m\u001b[0manorm\u001b[0m\u001b[1;33m**\u001b[0m\u001b[1;36m2\u001b[0m \u001b[1;33m+\u001b[0m \u001b[0malfa\u001b[0m\u001b[1;33m**\u001b[0m\u001b[1;36m2\u001b[0m \u001b[1;33m+\u001b[0m \u001b[0mbeta\u001b[0m\u001b[1;33m**\u001b[0m\u001b[1;36m2\u001b[0m \u001b[1;33m+\u001b[0m \u001b[0mdampsq\u001b[0m\u001b[1;33m)\u001b[0m\u001b[1;33m\u001b[0m\u001b[1;33m\u001b[0m\u001b[0m\n\u001b[1;32m--> 433\u001b[1;33m             \u001b[0mv\u001b[0m \u001b[1;33m=\u001b[0m \u001b[0mA\u001b[0m\u001b[1;33m.\u001b[0m\u001b[0mrmatvec\u001b[0m\u001b[1;33m(\u001b[0m\u001b[0mu\u001b[0m\u001b[1;33m)\u001b[0m \u001b[1;33m-\u001b[0m \u001b[0mbeta\u001b[0m \u001b[1;33m*\u001b[0m \u001b[0mv\u001b[0m\u001b[1;33m\u001b[0m\u001b[1;33m\u001b[0m\u001b[0m\n\u001b[0m\u001b[0;32m    434\u001b[0m             \u001b[0malfa\u001b[0m \u001b[1;33m=\u001b[0m \u001b[0mnp\u001b[0m\u001b[1;33m.\u001b[0m\u001b[0mlinalg\u001b[0m\u001b[1;33m.\u001b[0m\u001b[0mnorm\u001b[0m\u001b[1;33m(\u001b[0m\u001b[0mv\u001b[0m\u001b[1;33m)\u001b[0m\u001b[1;33m\u001b[0m\u001b[1;33m\u001b[0m\u001b[0m\n\u001b[0;32m    435\u001b[0m             \u001b[1;32mif\u001b[0m \u001b[0malfa\u001b[0m \u001b[1;33m>\u001b[0m \u001b[1;36m0\u001b[0m\u001b[1;33m:\u001b[0m\u001b[1;33m\u001b[0m\u001b[1;33m\u001b[0m\u001b[0m\n",
      "\u001b[1;32m~\\anaconda3\\lib\\site-packages\\scipy\\sparse\\linalg\\_interface.py\u001b[0m in \u001b[0;36mrmatvec\u001b[1;34m(self, x)\u001b[0m\n\u001b[0;32m    277\u001b[0m             \u001b[1;32mraise\u001b[0m \u001b[0mValueError\u001b[0m\u001b[1;33m(\u001b[0m\u001b[1;34m'dimension mismatch'\u001b[0m\u001b[1;33m)\u001b[0m\u001b[1;33m\u001b[0m\u001b[1;33m\u001b[0m\u001b[0m\n\u001b[0;32m    278\u001b[0m \u001b[1;33m\u001b[0m\u001b[0m\n\u001b[1;32m--> 279\u001b[1;33m         \u001b[0my\u001b[0m \u001b[1;33m=\u001b[0m \u001b[0mself\u001b[0m\u001b[1;33m.\u001b[0m\u001b[0m_rmatvec\u001b[0m\u001b[1;33m(\u001b[0m\u001b[0mx\u001b[0m\u001b[1;33m)\u001b[0m\u001b[1;33m\u001b[0m\u001b[1;33m\u001b[0m\u001b[0m\n\u001b[0m\u001b[0;32m    280\u001b[0m \u001b[1;33m\u001b[0m\u001b[0m\n\u001b[0;32m    281\u001b[0m         \u001b[1;32mif\u001b[0m \u001b[0misinstance\u001b[0m\u001b[1;33m(\u001b[0m\u001b[0mx\u001b[0m\u001b[1;33m,\u001b[0m \u001b[0mnp\u001b[0m\u001b[1;33m.\u001b[0m\u001b[0mmatrix\u001b[0m\u001b[1;33m)\u001b[0m\u001b[1;33m:\u001b[0m\u001b[1;33m\u001b[0m\u001b[1;33m\u001b[0m\u001b[0m\n",
      "\u001b[1;32m~\\anaconda3\\lib\\site-packages\\scipy\\sparse\\linalg\\_interface.py\u001b[0m in \u001b[0;36m_rmatvec\u001b[1;34m(self, x)\u001b[0m\n\u001b[0;32m    534\u001b[0m         \u001b[1;32mif\u001b[0m \u001b[0mfunc\u001b[0m \u001b[1;32mis\u001b[0m \u001b[1;32mNone\u001b[0m\u001b[1;33m:\u001b[0m\u001b[1;33m\u001b[0m\u001b[1;33m\u001b[0m\u001b[0m\n\u001b[0;32m    535\u001b[0m             \u001b[1;32mraise\u001b[0m \u001b[0mNotImplementedError\u001b[0m\u001b[1;33m(\u001b[0m\u001b[1;34m\"rmatvec is not defined\"\u001b[0m\u001b[1;33m)\u001b[0m\u001b[1;33m\u001b[0m\u001b[1;33m\u001b[0m\u001b[0m\n\u001b[1;32m--> 536\u001b[1;33m         \u001b[1;32mreturn\u001b[0m \u001b[0mself\u001b[0m\u001b[1;33m.\u001b[0m\u001b[0m__rmatvec_impl\u001b[0m\u001b[1;33m(\u001b[0m\u001b[0mx\u001b[0m\u001b[1;33m)\u001b[0m\u001b[1;33m\u001b[0m\u001b[1;33m\u001b[0m\u001b[0m\n\u001b[0m\u001b[0;32m    537\u001b[0m \u001b[1;33m\u001b[0m\u001b[0m\n\u001b[0;32m    538\u001b[0m     \u001b[1;32mdef\u001b[0m \u001b[0m_rmatmat\u001b[0m\u001b[1;33m(\u001b[0m\u001b[0mself\u001b[0m\u001b[1;33m,\u001b[0m \u001b[0mX\u001b[0m\u001b[1;33m)\u001b[0m\u001b[1;33m:\u001b[0m\u001b[1;33m\u001b[0m\u001b[1;33m\u001b[0m\u001b[0m\n",
      "\u001b[1;32m~\\anaconda3\\lib\\site-packages\\sklearn\\linear_model\\_base.py\u001b[0m in \u001b[0;36mrmatvec\u001b[1;34m(b)\u001b[0m\n\u001b[0;32m    697\u001b[0m \u001b[1;33m\u001b[0m\u001b[0m\n\u001b[0;32m    698\u001b[0m             \u001b[1;32mdef\u001b[0m \u001b[0mrmatvec\u001b[0m\u001b[1;33m(\u001b[0m\u001b[0mb\u001b[0m\u001b[1;33m)\u001b[0m\u001b[1;33m:\u001b[0m\u001b[1;33m\u001b[0m\u001b[1;33m\u001b[0m\u001b[0m\n\u001b[1;32m--> 699\u001b[1;33m                 \u001b[1;32mreturn\u001b[0m \u001b[0mX\u001b[0m\u001b[1;33m.\u001b[0m\u001b[0mT\u001b[0m\u001b[1;33m.\u001b[0m\u001b[0mdot\u001b[0m\u001b[1;33m(\u001b[0m\u001b[0mb\u001b[0m\u001b[1;33m)\u001b[0m \u001b[1;33m-\u001b[0m \u001b[0mX_offset_scale\u001b[0m \u001b[1;33m*\u001b[0m \u001b[0mnp\u001b[0m\u001b[1;33m.\u001b[0m\u001b[0msum\u001b[0m\u001b[1;33m(\u001b[0m\u001b[0mb\u001b[0m\u001b[1;33m)\u001b[0m\u001b[1;33m\u001b[0m\u001b[1;33m\u001b[0m\u001b[0m\n\u001b[0m\u001b[0;32m    700\u001b[0m \u001b[1;33m\u001b[0m\u001b[0m\n\u001b[0;32m    701\u001b[0m             X_centered = sparse.linalg.LinearOperator(\n",
      "\u001b[1;31mKeyboardInterrupt\u001b[0m: "
     ]
    }
   ],
   "source": [
    "%time model.fit(X_train, y_train)"
   ]
  },
  {
   "cell_type": "code",
   "execution_count": 87,
   "metadata": {},
   "outputs": [
    {
     "ename": "AttributeError",
     "evalue": "'LinearRegression' object has no attribute 'coef_'",
     "output_type": "error",
     "traceback": [
      "\u001b[1;31m---------------------------------------------------------------------------\u001b[0m",
      "\u001b[1;31mAttributeError\u001b[0m                            Traceback (most recent call last)",
      "\u001b[1;32m~\\AppData\\Local\\Temp\\ipykernel_20544\\3092777960.py\u001b[0m in \u001b[0;36m<module>\u001b[1;34m\u001b[0m\n\u001b[1;32m----> 1\u001b[1;33m \u001b[0mprint_eval\u001b[0m\u001b[1;33m(\u001b[0m\u001b[0mX_val\u001b[0m\u001b[1;33m,\u001b[0m \u001b[0my_val\u001b[0m\u001b[1;33m,\u001b[0m \u001b[0mmodel\u001b[0m\u001b[1;33m)\u001b[0m\u001b[1;33m\u001b[0m\u001b[1;33m\u001b[0m\u001b[0m\n\u001b[0m",
      "\u001b[1;32m~\\AppData\\Local\\Temp\\ipykernel_20544\\2098369533.py\u001b[0m in \u001b[0;36mprint_eval\u001b[1;34m(X, y, model)\u001b[0m\n\u001b[0;32m      6\u001b[0m \u001b[1;33m\u001b[0m\u001b[0m\n\u001b[0;32m      7\u001b[0m \u001b[1;32mdef\u001b[0m \u001b[0mprint_eval\u001b[0m\u001b[1;33m(\u001b[0m\u001b[0mX\u001b[0m\u001b[1;33m,\u001b[0m \u001b[0my\u001b[0m\u001b[1;33m,\u001b[0m \u001b[0mmodel\u001b[0m\u001b[1;33m)\u001b[0m\u001b[1;33m:\u001b[0m\u001b[1;33m\u001b[0m\u001b[1;33m\u001b[0m\u001b[0m\n\u001b[1;32m----> 8\u001b[1;33m     \u001b[0mpreds\u001b[0m \u001b[1;33m=\u001b[0m \u001b[0mmodel\u001b[0m\u001b[1;33m.\u001b[0m\u001b[0mpredict\u001b[0m\u001b[1;33m(\u001b[0m\u001b[0mX\u001b[0m\u001b[1;33m)\u001b[0m\u001b[1;33m\u001b[0m\u001b[1;33m\u001b[0m\u001b[0m\n\u001b[0m\u001b[0;32m      9\u001b[0m     \u001b[0mmse\u001b[0m \u001b[1;33m=\u001b[0m \u001b[0mmean_squared_error\u001b[0m\u001b[1;33m(\u001b[0m\u001b[0my\u001b[0m\u001b[1;33m,\u001b[0m \u001b[0mpreds\u001b[0m\u001b[1;33m)\u001b[0m\u001b[1;33m\u001b[0m\u001b[1;33m\u001b[0m\u001b[0m\n\u001b[0;32m     10\u001b[0m     \u001b[0mre\u001b[0m \u001b[1;33m=\u001b[0m \u001b[0mrelative_error\u001b[0m\u001b[1;33m(\u001b[0m\u001b[0my\u001b[0m\u001b[1;33m,\u001b[0m \u001b[0mpreds\u001b[0m\u001b[1;33m)\u001b[0m\u001b[1;33m\u001b[0m\u001b[1;33m\u001b[0m\u001b[0m\n",
      "\u001b[1;32m~\\anaconda3\\lib\\site-packages\\sklearn\\utils\\metaestimators.py\u001b[0m in \u001b[0;36m<lambda>\u001b[1;34m(*args, **kwargs)\u001b[0m\n\u001b[0;32m    111\u001b[0m \u001b[1;33m\u001b[0m\u001b[0m\n\u001b[0;32m    112\u001b[0m             \u001b[1;31m# lambda, but not partial, allows help() to work with update_wrapper\u001b[0m\u001b[1;33m\u001b[0m\u001b[1;33m\u001b[0m\u001b[0m\n\u001b[1;32m--> 113\u001b[1;33m             \u001b[0mout\u001b[0m \u001b[1;33m=\u001b[0m \u001b[1;32mlambda\u001b[0m \u001b[1;33m*\u001b[0m\u001b[0margs\u001b[0m\u001b[1;33m,\u001b[0m \u001b[1;33m**\u001b[0m\u001b[0mkwargs\u001b[0m\u001b[1;33m:\u001b[0m \u001b[0mself\u001b[0m\u001b[1;33m.\u001b[0m\u001b[0mfn\u001b[0m\u001b[1;33m(\u001b[0m\u001b[0mobj\u001b[0m\u001b[1;33m,\u001b[0m \u001b[1;33m*\u001b[0m\u001b[0margs\u001b[0m\u001b[1;33m,\u001b[0m \u001b[1;33m**\u001b[0m\u001b[0mkwargs\u001b[0m\u001b[1;33m)\u001b[0m  \u001b[1;31m# noqa\u001b[0m\u001b[1;33m\u001b[0m\u001b[1;33m\u001b[0m\u001b[0m\n\u001b[0m\u001b[0;32m    114\u001b[0m         \u001b[1;32melse\u001b[0m\u001b[1;33m:\u001b[0m\u001b[1;33m\u001b[0m\u001b[1;33m\u001b[0m\u001b[0m\n\u001b[0;32m    115\u001b[0m \u001b[1;33m\u001b[0m\u001b[0m\n",
      "\u001b[1;32m~\\anaconda3\\lib\\site-packages\\sklearn\\pipeline.py\u001b[0m in \u001b[0;36mpredict\u001b[1;34m(self, X, **predict_params)\u001b[0m\n\u001b[0;32m    468\u001b[0m         \u001b[1;32mfor\u001b[0m \u001b[0m_\u001b[0m\u001b[1;33m,\u001b[0m \u001b[0mname\u001b[0m\u001b[1;33m,\u001b[0m \u001b[0mtransform\u001b[0m \u001b[1;32min\u001b[0m \u001b[0mself\u001b[0m\u001b[1;33m.\u001b[0m\u001b[0m_iter\u001b[0m\u001b[1;33m(\u001b[0m\u001b[0mwith_final\u001b[0m\u001b[1;33m=\u001b[0m\u001b[1;32mFalse\u001b[0m\u001b[1;33m)\u001b[0m\u001b[1;33m:\u001b[0m\u001b[1;33m\u001b[0m\u001b[1;33m\u001b[0m\u001b[0m\n\u001b[0;32m    469\u001b[0m             \u001b[0mXt\u001b[0m \u001b[1;33m=\u001b[0m \u001b[0mtransform\u001b[0m\u001b[1;33m.\u001b[0m\u001b[0mtransform\u001b[0m\u001b[1;33m(\u001b[0m\u001b[0mXt\u001b[0m\u001b[1;33m)\u001b[0m\u001b[1;33m\u001b[0m\u001b[1;33m\u001b[0m\u001b[0m\n\u001b[1;32m--> 470\u001b[1;33m         \u001b[1;32mreturn\u001b[0m \u001b[0mself\u001b[0m\u001b[1;33m.\u001b[0m\u001b[0msteps\u001b[0m\u001b[1;33m[\u001b[0m\u001b[1;33m-\u001b[0m\u001b[1;36m1\u001b[0m\u001b[1;33m]\u001b[0m\u001b[1;33m[\u001b[0m\u001b[1;36m1\u001b[0m\u001b[1;33m]\u001b[0m\u001b[1;33m.\u001b[0m\u001b[0mpredict\u001b[0m\u001b[1;33m(\u001b[0m\u001b[0mXt\u001b[0m\u001b[1;33m,\u001b[0m \u001b[1;33m**\u001b[0m\u001b[0mpredict_params\u001b[0m\u001b[1;33m)\u001b[0m\u001b[1;33m\u001b[0m\u001b[1;33m\u001b[0m\u001b[0m\n\u001b[0m\u001b[0;32m    471\u001b[0m \u001b[1;33m\u001b[0m\u001b[0m\n\u001b[0;32m    472\u001b[0m     \u001b[1;33m@\u001b[0m\u001b[0mavailable_if\u001b[0m\u001b[1;33m(\u001b[0m\u001b[0m_final_estimator_has\u001b[0m\u001b[1;33m(\u001b[0m\u001b[1;34m\"fit_predict\"\u001b[0m\u001b[1;33m)\u001b[0m\u001b[1;33m)\u001b[0m\u001b[1;33m\u001b[0m\u001b[1;33m\u001b[0m\u001b[0m\n",
      "\u001b[1;32m~\\anaconda3\\lib\\site-packages\\sklearn\\linear_model\\_base.py\u001b[0m in \u001b[0;36mpredict\u001b[1;34m(self, X)\u001b[0m\n\u001b[0;32m    360\u001b[0m             \u001b[0mReturns\u001b[0m \u001b[0mpredicted\u001b[0m \u001b[0mvalues\u001b[0m\u001b[1;33m.\u001b[0m\u001b[1;33m\u001b[0m\u001b[1;33m\u001b[0m\u001b[0m\n\u001b[0;32m    361\u001b[0m         \"\"\"\n\u001b[1;32m--> 362\u001b[1;33m         \u001b[1;32mreturn\u001b[0m \u001b[0mself\u001b[0m\u001b[1;33m.\u001b[0m\u001b[0m_decision_function\u001b[0m\u001b[1;33m(\u001b[0m\u001b[0mX\u001b[0m\u001b[1;33m)\u001b[0m\u001b[1;33m\u001b[0m\u001b[1;33m\u001b[0m\u001b[0m\n\u001b[0m\u001b[0;32m    363\u001b[0m \u001b[1;33m\u001b[0m\u001b[0m\n\u001b[0;32m    364\u001b[0m     \u001b[0m_preprocess_data\u001b[0m \u001b[1;33m=\u001b[0m \u001b[0mstaticmethod\u001b[0m\u001b[1;33m(\u001b[0m\u001b[0m_preprocess_data\u001b[0m\u001b[1;33m)\u001b[0m\u001b[1;33m\u001b[0m\u001b[1;33m\u001b[0m\u001b[0m\n",
      "\u001b[1;32m~\\anaconda3\\lib\\site-packages\\sklearn\\linear_model\\_base.py\u001b[0m in \u001b[0;36m_decision_function\u001b[1;34m(self, X)\u001b[0m\n\u001b[0;32m    344\u001b[0m \u001b[1;33m\u001b[0m\u001b[0m\n\u001b[0;32m    345\u001b[0m         \u001b[0mX\u001b[0m \u001b[1;33m=\u001b[0m \u001b[0mself\u001b[0m\u001b[1;33m.\u001b[0m\u001b[0m_validate_data\u001b[0m\u001b[1;33m(\u001b[0m\u001b[0mX\u001b[0m\u001b[1;33m,\u001b[0m \u001b[0maccept_sparse\u001b[0m\u001b[1;33m=\u001b[0m\u001b[1;33m[\u001b[0m\u001b[1;34m\"csr\"\u001b[0m\u001b[1;33m,\u001b[0m \u001b[1;34m\"csc\"\u001b[0m\u001b[1;33m,\u001b[0m \u001b[1;34m\"coo\"\u001b[0m\u001b[1;33m]\u001b[0m\u001b[1;33m,\u001b[0m \u001b[0mreset\u001b[0m\u001b[1;33m=\u001b[0m\u001b[1;32mFalse\u001b[0m\u001b[1;33m)\u001b[0m\u001b[1;33m\u001b[0m\u001b[1;33m\u001b[0m\u001b[0m\n\u001b[1;32m--> 346\u001b[1;33m         \u001b[1;32mreturn\u001b[0m \u001b[0msafe_sparse_dot\u001b[0m\u001b[1;33m(\u001b[0m\u001b[0mX\u001b[0m\u001b[1;33m,\u001b[0m \u001b[0mself\u001b[0m\u001b[1;33m.\u001b[0m\u001b[0mcoef_\u001b[0m\u001b[1;33m.\u001b[0m\u001b[0mT\u001b[0m\u001b[1;33m,\u001b[0m \u001b[0mdense_output\u001b[0m\u001b[1;33m=\u001b[0m\u001b[1;32mTrue\u001b[0m\u001b[1;33m)\u001b[0m \u001b[1;33m+\u001b[0m \u001b[0mself\u001b[0m\u001b[1;33m.\u001b[0m\u001b[0mintercept_\u001b[0m\u001b[1;33m\u001b[0m\u001b[1;33m\u001b[0m\u001b[0m\n\u001b[0m\u001b[0;32m    347\u001b[0m \u001b[1;33m\u001b[0m\u001b[0m\n\u001b[0;32m    348\u001b[0m     \u001b[1;32mdef\u001b[0m \u001b[0mpredict\u001b[0m\u001b[1;33m(\u001b[0m\u001b[0mself\u001b[0m\u001b[1;33m,\u001b[0m \u001b[0mX\u001b[0m\u001b[1;33m)\u001b[0m\u001b[1;33m:\u001b[0m\u001b[1;33m\u001b[0m\u001b[1;33m\u001b[0m\u001b[0m\n",
      "\u001b[1;31mAttributeError\u001b[0m: 'LinearRegression' object has no attribute 'coef_'"
     ]
    }
   ],
   "source": [
    "print_eval(X_val, y_val, model)"
   ]
  },
  {
   "cell_type": "markdown",
   "metadata": {
    "tags": []
   },
   "source": [
    "## Regressione LASSO\n",
    "La regressione LASSO è un ottima tecnica per selezionare le feature più rilevanti, poichè la discesa del gradiente si ferma su un vertice di un ipercubo centrato sull'origine, quindi azzerando i parametri delle variabili meno importanti."
   ]
  },
  {
   "cell_type": "markdown",
   "metadata": {},
   "source": [
    "I risultati ottenuti dalla regressione LASSO sono in parte allineati ai risultati attesi. Non compaiono tra i coefficienti più rilevanti la casa automobilistica e il modello, per cui non esiste una relazione diretta tra la casa e il modello del veicolo e le sue emissioni. Invece tra i più rilevanti sono presenti l'anno, il volume del motore, il consumo del carburante e se il veicolo è ibrido o meno. <br>\n",
    "In particolare si può notare che i coefficienti dell'anno e delle colonne categoriche dei veicoli ibridi sono negativi, ovvero le emissioni diminuiscono per i veicoli ibridi e per veicoli più recenti, come era previdibile. Invece sono positivi i coefficienti del volume del motore, del consumo di carburante e della colonna categorica dei veicoli a benzina, infatti come previsto sono tre feature che vanno ad aumentare le emissioni di CO<sub>2</sub>. "
   ]
  },
  {
   "cell_type": "code",
   "execution_count": null,
   "metadata": {},
   "outputs": [],
   "source": [
    "from sklearn.linear_model import Lasso\n",
    "model = Pipeline([\n",
    "    (\"preproc\", preprocessor),\n",
    "    (\"regr\", Lasso(alpha=1, max_iter=10000))\n",
    "])\n",
    "model_list.append(copy.copy(model))"
   ]
  },
  {
   "cell_type": "code",
   "execution_count": null,
   "metadata": {},
   "outputs": [],
   "source": [
    "%time model.fit(X_train, y_train)"
   ]
  },
  {
   "cell_type": "code",
   "execution_count": null,
   "metadata": {},
   "outputs": [],
   "source": [
    "pd.set_option('display.max_rows', None)\n",
    "coefficients = pd.Series(model.named_steps[\"regr\"].coef_, preprocessor.get_feature_names_out(X.columns))\n",
    "non_zero_coefficients = coefficients[coefficients != 0]\n",
    "non_zero_coefficients"
   ]
  },
  {
   "cell_type": "code",
   "execution_count": null,
   "metadata": {},
   "outputs": [],
   "source": []
  },
  {
   "cell_type": "markdown",
   "metadata": {},
   "source": [
    "## Grid Search per l'iperparametro della Lasso\n",
    "Usiamo la grid search con la cross validation per testare, al variare dell'iperparametro della regolarizzazione LASSO, lo score del modello, per vedere quanto è necessaria la regolarizzazione LASSO ai fini dell'addestramento."
   ]
  },
  {
   "cell_type": "code",
   "execution_count": null,
   "metadata": {},
   "outputs": [],
   "source": [
    "from sklearn.model_selection import GridSearchCV\n",
    "from sklearn.model_selection import KFold\n",
    "\n",
    "kfold_5 = KFold(5, shuffle=True, random_state=37)\n",
    "alphas = np.logspace(-3, 2, num=6)\n",
    "grid = {\"regr__alpha\": alphas}\n",
    "gs = GridSearchCV(model, grid, cv=kfold_5)"
   ]
  },
  {
   "cell_type": "code",
   "execution_count": null,
   "metadata": {},
   "outputs": [],
   "source": [
    "%time gs.fit(X, y);"
   ]
  },
  {
   "cell_type": "code",
   "execution_count": null,
   "metadata": {},
   "outputs": [],
   "source": [
    "gs.best_estimator_"
   ]
  },
  {
   "cell_type": "code",
   "execution_count": null,
   "metadata": {},
   "outputs": [],
   "source": [
    "pd.DataFrame(gs.cv_results_)[[\"param_regr__alpha\", \"mean_test_score\"]]"
   ]
  },
  {
   "cell_type": "markdown",
   "metadata": {},
   "source": [
    "Mostriamo ora i risultati appena ottenuti graficandoli."
   ]
  },
  {
   "cell_type": "code",
   "execution_count": null,
   "metadata": {},
   "outputs": [],
   "source": [
    "degrees = list(range(3,31))\n",
    "plt.grid()\n",
    "plt.plot(degrees, scores_a)\n",
    "plt.show()"
   ]
  },
  {
   "cell_type": "markdown",
   "metadata": {},
   "source": [
    "## Regressione Ridge"
   ]
  },
  {
   "cell_type": "code",
   "execution_count": null,
   "metadata": {},
   "outputs": [],
   "source": [
    "from sklearn.linear_model import Ridge"
   ]
  },
  {
   "cell_type": "code",
   "execution_count": null,
   "metadata": {},
   "outputs": [],
   "source": [
    "model = Pipeline([\n",
    "    (\"preproc\", preprocessor),\n",
    "    (\"poly\",   PolynomialFeatures(degree=3, include_bias=False, interaction_only=True)),\n",
    "    (\"regr\", Ridge(alpha=1, max_iter=10000))\n",
    "])\n",
    "model_list.append(copy.copy(model))"
   ]
  },
  {
   "cell_type": "code",
   "execution_count": null,
   "metadata": {},
   "outputs": [],
   "source": [
    "%time model.fit(X_train, y_train)"
   ]
  },
  {
   "cell_type": "code",
   "execution_count": null,
   "metadata": {},
   "outputs": [],
   "source": [
    "model.named_steps['regr'].coef_"
   ]
  },
  {
   "cell_type": "code",
   "execution_count": null,
   "metadata": {},
   "outputs": [],
   "source": [
    "print_eval(X_val, y_val, model)"
   ]
  },
  {
   "cell_type": "markdown",
   "metadata": {},
   "source": [
    "## Grid Search per l'iperparametro della Ridge"
   ]
  },
  {
   "cell_type": "code",
   "execution_count": null,
   "metadata": {},
   "outputs": [],
   "source": [
    "gs = GridSearchCV(model, grid, cv=kfold_5)"
   ]
  },
  {
   "cell_type": "code",
   "execution_count": null,
   "metadata": {},
   "outputs": [],
   "source": [
    "%time gs.fit(X, y);"
   ]
  },
  {
   "cell_type": "code",
   "execution_count": null,
   "metadata": {},
   "outputs": [],
   "source": [
    "gs.best_estimator_"
   ]
  },
  {
   "cell_type": "code",
   "execution_count": null,
   "metadata": {},
   "outputs": [],
   "source": [
    "pd.DataFrame(gs.cv_results_)[[\"param_regr__alpha\", \"mean_test_score\"]]"
   ]
  },
  {
   "cell_type": "markdown",
   "metadata": {},
   "source": [
    "Mostriamo ora i risultati appena ottenuti graficandoli."
   ]
  },
  {
   "cell_type": "markdown",
   "metadata": {},
   "source": [
    "## Regressione con funzioni kernel"
   ]
  },
  {
   "cell_type": "markdown",
   "metadata": {},
   "source": [
    "# Regressione"
   ]
  },
  {
   "cell_type": "code",
   "execution_count": null,
   "metadata": {},
   "outputs": [],
   "source": [
    "from sklearn.kernel_ridge import KernelRidge\n",
    "model = Pipeline([\n",
    "    (\"preproc\", preprocessor),\n",
    "    (\"regr\",  KernelRidge(alpha=1, kernel=\"poly\", degree=2))\n",
    "])"
   ]
  },
  {
   "cell_type": "code",
   "execution_count": null,
   "metadata": {},
   "outputs": [],
   "source": [
    "%time model.fit(X_train, y_train)"
   ]
  },
  {
   "cell_type": "code",
   "execution_count": null,
   "metadata": {},
   "outputs": [],
   "source": [
    "print_eval(X_test, y_test, model)"
   ]
  },
  {
   "cell_type": "code",
   "execution_count": null,
   "metadata": {},
   "outputs": [],
   "source": []
  },
  {
   "cell_type": "markdown",
   "metadata": {},
   "source": [
    "Testiamo anche funzioni kernel diverse, ad esempio RBF (_radial basis function_)\n",
    "\n",
    "RBF ha valori tanto più elevati quanto più i valori X sono vicini a 0 (ovvero la media, usando dati standardizzati)\n",
    "\n",
    "La funzione RBF ha la forma di una gaussiana."
   ]
  },
  {
   "cell_type": "code",
   "execution_count": null,
   "metadata": {},
   "outputs": [],
   "source": [
    "model = Pipeline([\n",
    "    (\"preproc\", preprocessor),\n",
    "    (\"regr\",  KernelRidge(alpha=20, kernel=\"rbf\", gamma=0.01))\n",
    "])"
   ]
  },
  {
   "cell_type": "code",
   "execution_count": null,
   "metadata": {},
   "outputs": [],
   "source": [
    "%time model.fit(X_train, y_train)"
   ]
  },
  {
   "cell_type": "code",
   "execution_count": null,
   "metadata": {},
   "outputs": [],
   "source": [
    "print_eval(X_test, y_test, model)"
   ]
  },
  {
   "cell_type": "code",
   "execution_count": null,
   "metadata": {},
   "outputs": [],
   "source": []
  },
  {
   "cell_type": "code",
   "execution_count": null,
   "metadata": {},
   "outputs": [],
   "source": []
  }
 ],
 "metadata": {
  "colab": {
   "include_colab_link": true,
   "provenance": []
  },
  "kernelspec": {
   "display_name": "Python 3 (ipykernel)",
   "language": "python",
   "name": "python3"
  },
  "language_info": {
   "codemirror_mode": {
    "name": "ipython",
    "version": 3
   },
   "file_extension": ".py",
   "mimetype": "text/x-python",
   "name": "python",
   "nbconvert_exporter": "python",
   "pygments_lexer": "ipython3",
   "version": "3.9.13"
  },
  "vscode": {
   "interpreter": {
    "hash": "31f2aee4e71d21fbe5cf8b01ff0e069b9275f58929596ceb00d14d90e3e16cd6"
   }
  }
 },
 "nbformat": 4,
 "nbformat_minor": 4
}
